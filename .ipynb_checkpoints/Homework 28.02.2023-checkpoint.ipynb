{
 "cells": [
  {
   "cell_type": "markdown",
   "id": "5c421975",
   "metadata": {},
   "source": [
    "# wap to count the vowel and consonent in the given string"
   ]
  },
  {
   "cell_type": "code",
   "execution_count": 2,
   "id": "770fc383",
   "metadata": {},
   "outputs": [
    {
     "name": "stdout",
     "output_type": "stream",
     "text": [
      "enter any words: hello world\n",
      "the number of vowels are: 3\n",
      "the number of consonent are: 8\n"
     ]
    }
   ],
   "source": [
    "name = input(\"enter any words: \")\n",
    "vowels = 0\n",
    "consonent = 0\n",
    "for vowel in name:\n",
    "    if vowel == \"a\" or vowel ==\"e\" or vowel == \"i\" or vowel == \"o\" or vowel ==\"u\":\n",
    "        vowels = vowels +1\n",
    "    else:\n",
    "        consonent = consonent+1\n",
    "print(f\"the number of vowels are: {vowels}\")\n",
    "print(f\"the number of consonent are: {consonent}\")\n",
    "    \n"
   ]
  },
  {
   "cell_type": "markdown",
   "id": "08991337",
   "metadata": {},
   "source": [
    "# wap to use string manipulation technique to extract fruit nmes from text"
   ]
  },
  {
   "cell_type": "code",
   "execution_count": 10,
   "id": "2cb0db27",
   "metadata": {},
   "outputs": [],
   "source": [
    "txt = \"I like Orange Apple Banana and Kiwi.\""
   ]
  },
  {
   "cell_type": "code",
   "execution_count": 11,
   "id": "c8ddabcd",
   "metadata": {},
   "outputs": [
    {
     "data": {
      "text/plain": [
       "36"
      ]
     },
     "execution_count": 11,
     "metadata": {},
     "output_type": "execute_result"
    }
   ],
   "source": [
    "(len(txt))"
   ]
  },
  {
   "cell_type": "code",
   "execution_count": 14,
   "id": "4eb2829b",
   "metadata": {},
   "outputs": [],
   "source": [
    "txt = txt[7:13],txt[14:19],txt[20:26],txt[31:35]"
   ]
  },
  {
   "cell_type": "markdown",
   "id": "0fca38c1",
   "metadata": {},
   "source": [
    "# wap to check if string2 is the rotation of string1 or not"
   ]
  },
  {
   "cell_type": "code",
   "execution_count": 24,
   "id": "dd8d2ac9",
   "metadata": {},
   "outputs": [
    {
     "name": "stdout",
     "output_type": "stream",
     "text": [
      "enter the word you want to find: nepal\n",
      "not the correct length of word\n"
     ]
    }
   ],
   "source": [
    "string1 = input(\"enter the word you want to find: \")\n",
    "string2 = \"indiachinanepal\" or \"INDIACHINANEPAL\"\n",
    "for index in range(len(string1)):\n",
    "    letter = string1[index]\n",
    "    if len(string1) != len(string2):\n",
    "        print(\"not the correct length of word\")\n",
    "        break\n",
    "    elif string1 != string2:\n",
    "        print(f\"the first word you typed was {string1} and it matches with {string2}\")\n",
    "        break\n",
    "    else:\n",
    "        print(\"it does not match.\")\n",
    "        break\n"
   ]
  },
  {
   "cell_type": "code",
   "execution_count": null,
   "id": "bd9ee3b8",
   "metadata": {},
   "outputs": [],
   "source": []
  }
 ],
 "metadata": {
  "kernelspec": {
   "display_name": "Python 3 (ipykernel)",
   "language": "python",
   "name": "python3"
  },
  "language_info": {
   "codemirror_mode": {
    "name": "ipython",
    "version": 3
   },
   "file_extension": ".py",
   "mimetype": "text/x-python",
   "name": "python",
   "nbconvert_exporter": "python",
   "pygments_lexer": "ipython3",
   "version": "3.8.10"
  }
 },
 "nbformat": 4,
 "nbformat_minor": 5
}
