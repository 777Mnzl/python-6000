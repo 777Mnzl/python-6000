{
 "cells": [
  {
   "cell_type": "markdown",
   "id": "61fa7e7e",
   "metadata": {},
   "source": [
    "# Inheritance\n",
    "* Base class, Parent Class and Super Class are same\n",
    "* Derrived Class, child class and sub-class are same\n"
   ]
  },
  {
   "cell_type": "code",
   "execution_count": 1,
   "id": "870d557e",
   "metadata": {},
   "outputs": [],
   "source": [
    "class Computer:\n",
    "    def __init__(self,model_name):\n",
    "        self.model = model_name\n",
    "class Mobile:\n",
    "    def __init__(self, has_flash):\n",
    "        self.has_flash = has_flash"
   ]
  },
  {
   "cell_type": "code",
   "execution_count": 2,
   "id": "aaec6563",
   "metadata": {},
   "outputs": [],
   "source": [
    "mo = Mobile(has_flash = True)"
   ]
  },
  {
   "cell_type": "code",
   "execution_count": 3,
   "id": "99945aff",
   "metadata": {},
   "outputs": [
    {
     "data": {
      "text/plain": [
       "True"
      ]
     },
     "execution_count": 3,
     "metadata": {},
     "output_type": "execute_result"
    }
   ],
   "source": [
    "mo.has_flash"
   ]
  },
  {
   "cell_type": "code",
   "execution_count": 4,
   "id": "c5a55042",
   "metadata": {},
   "outputs": [
    {
     "ename": "AttributeError",
     "evalue": "'Mobile' object has no attribute 'model_name'",
     "output_type": "error",
     "traceback": [
      "\u001b[1;31m---------------------------------------------------------------------------\u001b[0m",
      "\u001b[1;31mAttributeError\u001b[0m                            Traceback (most recent call last)",
      "Cell \u001b[1;32mIn[4], line 1\u001b[0m\n\u001b[1;32m----> 1\u001b[0m \u001b[43mmo\u001b[49m\u001b[38;5;241;43m.\u001b[39;49m\u001b[43mmodel_name\u001b[49m\n",
      "\u001b[1;31mAttributeError\u001b[0m: 'Mobile' object has no attribute 'model_name'"
     ]
    }
   ],
   "source": [
    "mo.model_name"
   ]
  },
  {
   "cell_type": "code",
   "execution_count": 21,
   "id": "8d370392",
   "metadata": {},
   "outputs": [],
   "source": [
    "class Computer:\n",
    "    def __init__(self, model_name):\n",
    "        self.model = model_name\n",
    "        self.screen = 'LED'\n",
    "class Mobile(Computer):\n",
    "    def __init__(self, has_flash, model_name):\n",
    "        super().__init__(model_name)\n",
    "        self.has_flash = has_flash"
   ]
  },
  {
   "cell_type": "code",
   "execution_count": 26,
   "id": "f3fc559a",
   "metadata": {},
   "outputs": [
    {
     "data": {
      "text/plain": [
       "'Iphone'"
      ]
     },
     "execution_count": 26,
     "metadata": {},
     "output_type": "execute_result"
    }
   ],
   "source": [
    "mo = Mobile(True, \"Iphone\")\n",
    "mo.model"
   ]
  },
  {
   "cell_type": "code",
   "execution_count": 14,
   "id": "24d9d471",
   "metadata": {},
   "outputs": [],
   "source": [
    "mo = Mobile(True, 'iphone')"
   ]
  },
  {
   "cell_type": "code",
   "execution_count": 16,
   "id": "171f7cbf",
   "metadata": {},
   "outputs": [
    {
     "data": {
      "text/plain": [
       "'LED'"
      ]
     },
     "execution_count": 16,
     "metadata": {},
     "output_type": "execute_result"
    }
   ],
   "source": [
    "mo.screen"
   ]
  },
  {
   "cell_type": "code",
   "execution_count": 25,
   "id": "4d2c6516",
   "metadata": {},
   "outputs": [
    {
     "data": {
      "text/plain": [
       "'Iphone'"
      ]
     },
     "execution_count": 25,
     "metadata": {},
     "output_type": "execute_result"
    }
   ],
   "source": [
    "mo.model"
   ]
  },
  {
   "cell_type": "code",
   "execution_count": null,
   "id": "88df120c",
   "metadata": {},
   "outputs": [],
   "source": []
  }
 ],
 "metadata": {
  "kernelspec": {
   "display_name": "Python 3 (ipykernel)",
   "language": "python",
   "name": "python3"
  },
  "language_info": {
   "codemirror_mode": {
    "name": "ipython",
    "version": 3
   },
   "file_extension": ".py",
   "mimetype": "text/x-python",
   "name": "python",
   "nbconvert_exporter": "python",
   "pygments_lexer": "ipython3",
   "version": "3.8.10"
  }
 },
 "nbformat": 4,
 "nbformat_minor": 5
}
