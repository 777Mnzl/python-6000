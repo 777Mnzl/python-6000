{
 "cells": [
  {
   "cell_type": "markdown",
   "id": "7ff01d15",
   "metadata": {},
   "source": [
    "# creating empty class in python"
   ]
  },
  {
   "cell_type": "code",
   "execution_count": 1,
   "id": "6afcfde4",
   "metadata": {},
   "outputs": [],
   "source": [
    "class PersonName: #class\n",
    "    pass"
   ]
  },
  {
   "cell_type": "code",
   "execution_count": 3,
   "id": "c955d44a",
   "metadata": {},
   "outputs": [],
   "source": [
    "p1 = PersonName() #p1 is  object of class Person"
   ]
  },
  {
   "cell_type": "code",
   "execution_count": 5,
   "id": "9f811f4d",
   "metadata": {},
   "outputs": [
    {
     "name": "stdout",
     "output_type": "stream",
     "text": [
      "<class '__main__.PersonName'>\n"
     ]
    }
   ],
   "source": [
    "print(type(p1))"
   ]
  },
  {
   "cell_type": "code",
   "execution_count": 6,
   "id": "60d72c7a",
   "metadata": {},
   "outputs": [
    {
     "data": {
      "text/plain": [
       "int"
      ]
     },
     "execution_count": 6,
     "metadata": {},
     "output_type": "execute_result"
    }
   ],
   "source": [
    "type(5)"
   ]
  },
  {
   "cell_type": "code",
   "execution_count": 8,
   "id": "13b2951b",
   "metadata": {},
   "outputs": [
    {
     "name": "stdout",
     "output_type": "stream",
     "text": [
      "<class '__main__.PersonName'>\n"
     ]
    }
   ],
   "source": [
    "class PersonName: #class\n",
    "    pass\n",
    "if __name__ == \"__main__\":\n",
    "    p1 = PersonName()\n",
    "    print(type(p1))"
   ]
  },
  {
   "cell_type": "markdown",
   "id": "27977988",
   "metadata": {},
   "source": [
    "# Class attribute and object attribute"
   ]
  },
  {
   "cell_type": "code",
   "execution_count": 9,
   "id": "0a4d02d5",
   "metadata": {},
   "outputs": [],
   "source": [
    "class Mammal:\n",
    "    has_hair = True #class attribute"
   ]
  },
  {
   "cell_type": "code",
   "execution_count": 12,
   "id": "4a4d3eec",
   "metadata": {},
   "outputs": [
    {
     "data": {
      "text/plain": [
       "True"
      ]
     },
     "execution_count": 12,
     "metadata": {},
     "output_type": "execute_result"
    }
   ],
   "source": [
    "human = Mammal()\n",
    "human.has_hair # class attribute is same for all objects "
   ]
  },
  {
   "cell_type": "code",
   "execution_count": 14,
   "id": "1cc95d21",
   "metadata": {},
   "outputs": [
    {
     "data": {
      "text/plain": [
       "True"
      ]
     },
     "execution_count": 14,
     "metadata": {},
     "output_type": "execute_result"
    }
   ],
   "source": [
    "cow = Mammal()\n",
    "cow.has_hair # class attribute is same for all object"
   ]
  },
  {
   "cell_type": "markdown",
   "id": "bb188766",
   "metadata": {},
   "source": [
    "# Object attribute"
   ]
  },
  {
   "cell_type": "code",
   "execution_count": 37,
   "id": "cbb8594d",
   "metadata": {},
   "outputs": [],
   "source": [
    "class Mammal:\n",
    "    has_hair = True\n",
    "\n",
    "        \n",
    "    def __init__(self,no_legs):\n",
    "        self.no_legs = no_legs"
   ]
  },
  {
   "cell_type": "code",
   "execution_count": 42,
   "id": "b7b485ca",
   "metadata": {},
   "outputs": [
    {
     "name": "stdout",
     "output_type": "stream",
     "text": [
      "True\n",
      "2\n"
     ]
    }
   ],
   "source": [
    "human = Mammal(2)\n",
    "print(human.has_hair)\n",
    "print(human.no_legs)"
   ]
  },
  {
   "cell_type": "code",
   "execution_count": 43,
   "id": "98e2d4f6",
   "metadata": {},
   "outputs": [
    {
     "name": "stdout",
     "output_type": "stream",
     "text": [
      "True\n",
      "4\n"
     ]
    }
   ],
   "source": [
    "cow = Mammal(4)\n",
    "print(cow.has_hair)\n",
    "print(cow.no_legs)"
   ]
  },
  {
   "cell_type": "markdown",
   "id": "55953a78",
   "metadata": {},
   "source": [
    "# What is self?"
   ]
  },
  {
   "cell_type": "code",
   "execution_count": 49,
   "id": "b7a3825e",
   "metadata": {},
   "outputs": [],
   "source": [
    "class Mammal:\n",
    "    def __init__ (self,leg):\n",
    "        print(type(self))\n",
    "        self.leg = leg"
   ]
  },
  {
   "cell_type": "code",
   "execution_count": 50,
   "id": "d2530a26",
   "metadata": {},
   "outputs": [
    {
     "name": "stdout",
     "output_type": "stream",
     "text": [
      "<class '__main__.Mammal'>\n"
     ]
    }
   ],
   "source": [
    "human = Mammal(2)"
   ]
  },
  {
   "cell_type": "code",
   "execution_count": 51,
   "id": "50953ae5",
   "metadata": {},
   "outputs": [],
   "source": [
    "#__new__()       object creator\n",
    "#__init__()      attribte initializer\n",
    "#__self__()      object lai memory allocate garcha"
   ]
  },
  {
   "cell_type": "markdown",
   "id": "abcc75c0",
   "metadata": {},
   "source": [
    "# User defined method in class"
   ]
  },
  {
   "cell_type": "code",
   "execution_count": 57,
   "id": "bc8ee7e9",
   "metadata": {},
   "outputs": [],
   "source": [
    "class Mammal:\n",
    "    def __init__(self,leg):\n",
    "        self.leg = leg\n",
    "    def display_leg(self):\n",
    "        return(f\"you have {self.leg} legs\")"
   ]
  },
  {
   "cell_type": "code",
   "execution_count": 58,
   "id": "eaa43653",
   "metadata": {},
   "outputs": [],
   "source": [
    "cow = Mammal(4)"
   ]
  },
  {
   "cell_type": "code",
   "execution_count": 59,
   "id": "46f20787",
   "metadata": {},
   "outputs": [
    {
     "data": {
      "text/plain": [
       "'you have 4 legs'"
      ]
     },
     "execution_count": 59,
     "metadata": {},
     "output_type": "execute_result"
    }
   ],
   "source": [
    "cow.display_leg()"
   ]
  },
  {
   "cell_type": "code",
   "execution_count": 60,
   "id": "a909b6f6",
   "metadata": {},
   "outputs": [
    {
     "data": {
      "text/plain": [
       "'you have 2 legs'"
      ]
     },
     "execution_count": 60,
     "metadata": {},
     "output_type": "execute_result"
    }
   ],
   "source": [
    "human = Mammal(2)\n",
    "human.display_leg()"
   ]
  },
  {
   "cell_type": "code",
   "execution_count": null,
   "id": "ddf54b21",
   "metadata": {},
   "outputs": [],
   "source": []
  }
 ],
 "metadata": {
  "kernelspec": {
   "display_name": "Python 3 (ipykernel)",
   "language": "python",
   "name": "python3"
  },
  "language_info": {
   "codemirror_mode": {
    "name": "ipython",
    "version": 3
   },
   "file_extension": ".py",
   "mimetype": "text/x-python",
   "name": "python",
   "nbconvert_exporter": "python",
   "pygments_lexer": "ipython3",
   "version": "3.8.10"
  }
 },
 "nbformat": 4,
 "nbformat_minor": 5
}
