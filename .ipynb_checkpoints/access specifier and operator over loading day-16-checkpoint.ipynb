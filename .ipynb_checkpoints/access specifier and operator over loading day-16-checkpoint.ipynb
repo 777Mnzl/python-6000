{
 "cells": [
  {
   "cell_type": "markdown",
   "id": "278b8fc7",
   "metadata": {},
   "source": [
    "# Are access specifiers used in python? -- No but has concept of limiting behaviour of variables: private attribute are not inherited"
   ]
  },
  {
   "cell_type": "code",
   "execution_count": null,
   "id": "03c53e43",
   "metadata": {},
   "outputs": [],
   "source": [
    "class teacher:\n",
    "    #public \n",
    "    name = \"Kshitiz\"\n",
    "    #protected\n",
    "    _address = \"patan\"\n",
    "    #private\n",
    "    __age = 25 "
   ]
  },
  {
   "cell_type": "code",
   "execution_count": null,
   "id": "f62f3687",
   "metadata": {},
   "outputs": [],
   "source": [
    "t = teacher()"
   ]
  },
  {
   "cell_type": "code",
   "execution_count": null,
   "id": "c4785157",
   "metadata": {},
   "outputs": [],
   "source": [
    "t._address"
   ]
  },
  {
   "cell_type": "code",
   "execution_count": null,
   "id": "dab9f98a",
   "metadata": {},
   "outputs": [],
   "source": [
    "t.__age"
   ]
  },
  {
   "cell_type": "code",
   "execution_count": null,
   "id": "9c5bbbfe",
   "metadata": {},
   "outputs": [],
   "source": [
    "t.name"
   ]
  },
  {
   "cell_type": "code",
   "execution_count": null,
   "id": "3ade4f71",
   "metadata": {},
   "outputs": [],
   "source": [
    "help "
   ]
  },
  {
   "cell_type": "code",
   "execution_count": null,
   "id": "c9fb6c89",
   "metadata": {},
   "outputs": [],
   "source": [
    "help()"
   ]
  },
  {
   "cell_type": "markdown",
   "id": "e4cc2f89",
   "metadata": {},
   "source": [
    "# Operator Overloading"
   ]
  },
  {
   "cell_type": "markdown",
   "id": "98cdabed",
   "metadata": {},
   "source": [
    "## Operator Overloading gives extended meaning beyond their predefined operational meaning  -- polymerphism"
   ]
  },
  {
   "cell_type": "code",
   "execution_count": 1,
   "id": "6b5cd6c2",
   "metadata": {},
   "outputs": [
    {
     "data": {
      "text/plain": [
       "4"
      ]
     },
     "execution_count": 1,
     "metadata": {},
     "output_type": "execute_result"
    }
   ],
   "source": [
    "2 + 2"
   ]
  },
  {
   "cell_type": "code",
   "execution_count": 2,
   "id": "a5925a37",
   "metadata": {},
   "outputs": [
    {
     "data": {
      "text/plain": [
       "'hello world'"
      ]
     },
     "execution_count": 2,
     "metadata": {},
     "output_type": "execute_result"
    }
   ],
   "source": [
    "\"hello \"+\"world\""
   ]
  },
  {
   "cell_type": "code",
   "execution_count": 3,
   "id": "c6b9cbba",
   "metadata": {},
   "outputs": [
    {
     "data": {
      "text/plain": [
       "2"
      ]
     },
     "execution_count": 3,
     "metadata": {},
     "output_type": "execute_result"
    }
   ],
   "source": [
    "len({5,9})"
   ]
  },
  {
   "cell_type": "code",
   "execution_count": 4,
   "id": "9f2fd311",
   "metadata": {},
   "outputs": [
    {
     "data": {
      "text/plain": [
       "3"
      ]
     },
     "execution_count": 4,
     "metadata": {},
     "output_type": "execute_result"
    }
   ],
   "source": [
    "len([1,5,6])"
   ]
  },
  {
   "cell_type": "markdown",
   "id": "98d4b968",
   "metadata": {},
   "source": [
    "# Operator overloading in user defined class object"
   ]
  },
  {
   "cell_type": "code",
   "execution_count": 7,
   "id": "d4bc356f",
   "metadata": {},
   "outputs": [],
   "source": [
    "class Account:\n",
    "    def __init__(self, name, balance):\n",
    "        self.name = name\n",
    "        self.balance = balance\n",
    "    def __add__(self, otherobj): #\n",
    "        return self.balance + otherobj.balance"
   ]
  },
  {
   "cell_type": "code",
   "execution_count": 11,
   "id": "d1c6a5d2",
   "metadata": {},
   "outputs": [
    {
     "data": {
      "text/plain": [
       "446"
      ]
     },
     "execution_count": 11,
     "metadata": {},
     "output_type": "execute_result"
    }
   ],
   "source": [
    "ac1 = Account(\"Ram\", 12)\n",
    "ac2 = Account(\"Binod\", 434)\n",
    "ac1 + ac2"
   ]
  },
  {
   "cell_type": "code",
   "execution_count": 12,
   "id": "26f18082",
   "metadata": {},
   "outputs": [
    {
     "data": {
      "text/plain": [
       "__main__.Account"
      ]
     },
     "execution_count": 12,
     "metadata": {},
     "output_type": "execute_result"
    }
   ],
   "source": [
    "type(ac1)"
   ]
  },
  {
   "cell_type": "code",
   "execution_count": 13,
   "id": "07b7b437",
   "metadata": {},
   "outputs": [
    {
     "data": {
      "text/plain": [
       "<__main__.Account at 0x2d464e98820>"
      ]
     },
     "execution_count": 13,
     "metadata": {},
     "output_type": "execute_result"
    }
   ],
   "source": [
    "ac1"
   ]
  },
  {
   "cell_type": "code",
   "execution_count": null,
   "id": "0f730e11",
   "metadata": {},
   "outputs": [],
   "source": [
    "ac1 + 5    #ac1 and 5 are different types"
   ]
  }
 ],
 "metadata": {
  "kernelspec": {
   "display_name": "Python 3 (ipykernel)",
   "language": "python",
   "name": "python3"
  },
  "language_info": {
   "codemirror_mode": {
    "name": "ipython",
    "version": 3
   },
   "file_extension": ".py",
   "mimetype": "text/x-python",
   "name": "python",
   "nbconvert_exporter": "python",
   "pygments_lexer": "ipython3",
   "version": "3.8.10"
  }
 },
 "nbformat": 4,
 "nbformat_minor": 5
}
