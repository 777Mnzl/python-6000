{
 "cells": [
  {
   "cell_type": "code",
   "execution_count": null,
   "id": "eced1765",
   "metadata": {},
   "outputs": [],
   "source": [
    "msg = \"Good morning\"\n",
    "list(range(len(msg)))\n"
   ]
  },
  {
   "cell_type": "code",
   "execution_count": null,
   "id": "5b2e9a11",
   "metadata": {},
   "outputs": [],
   "source": [
    "for index in range (len(msg)):\n",
    "    letter = msg[index]\n",
    "    print(f\"the index is {index} and the letter is {letter}\")"
   ]
  },
  {
   "cell_type": "code",
   "execution_count": null,
   "id": "bb62b7db",
   "metadata": {},
   "outputs": [],
   "source": [
    "msg = \"hello world\"\n",
    "list(range(len(msg)))"
   ]
  },
  {
   "cell_type": "markdown",
   "id": "63e5c42e",
   "metadata": {},
   "source": [
    "# Print using reverse loop"
   ]
  },
  {
   "cell_type": "code",
   "execution_count": null,
   "id": "8700a389",
   "metadata": {},
   "outputs": [],
   "source": [
    "for  index in reversed (range(len(msg))):\n",
    "    letter = msg[index]\n",
    "    print(f\"the index is {index} and the letter is {letter}\")"
   ]
  },
  {
   "cell_type": "code",
   "execution_count": null,
   "id": "2386f408",
   "metadata": {},
   "outputs": [],
   "source": [
    "msg = \"hello world\"\n",
    "list(range(len(msg)))"
   ]
  },
  {
   "cell_type": "markdown",
   "id": "19f17560",
   "metadata": {},
   "source": [
    "# print using loop"
   ]
  },
  {
   "cell_type": "code",
   "execution_count": null,
   "id": "02c7d153",
   "metadata": {},
   "outputs": [],
   "source": [
    "for index in range(len(msg)):\n",
    "    letter = msg[index]\n",
    "    print(f\"the index is {index} and the letter is {letter}\")"
   ]
  },
  {
   "cell_type": "markdown",
   "id": "23f36cb6",
   "metadata": {},
   "source": [
    "# Wap to print vowels and consonant in given word"
   ]
  },
  {
   "cell_type": "code",
   "execution_count": null,
   "id": "e76443bd",
   "metadata": {},
   "outputs": [],
   "source": [
    "words = \"aeyi\"\n",
    "for index in range(len(words)):\n",
    "    letter = words[index]\n",
    "    if letter ==\"a\" or letter == \"e\" or letter == \"i\" or letter ==\"o\"or letter == \"u\":\n",
    "        print(f\"the given word is {letter} and it is vowel\")\n",
    "    else:\n",
    "        print(f\"the given word is {letter} and it is consonent\")"
   ]
  },
  {
   "cell_type": "markdown",
   "id": "4334d5bf",
   "metadata": {},
   "source": [
    "# break vs continue statement "
   ]
  },
  {
   "cell_type": "code",
   "execution_count": null,
   "id": "b3ac3bdc",
   "metadata": {},
   "outputs": [],
   "source": [
    "words = \"abc def ghi\"\n",
    "for index in range(len(words)):\n",
    "    letter = words[index]\n",
    "    if letter == \"a\" or letter ==\"e\" or letter == \"i\" or letter ==\"o\" or letter== \"u\":\n",
    "        print(f\"the given word is {letter} and it is vowel\")\n",
    "    elif letter ==\" \":\n",
    "        continue\n",
    "    elif letter == \" \":\n",
    "        continue\n",
    "    else:\n",
    "        print(f\"the given word is {letter} and it is consonent\")"
   ]
  },
  {
   "cell_type": "code",
   "execution_count": null,
   "id": "e3c933ab",
   "metadata": {},
   "outputs": [],
   "source": [
    "words = \"abc def ghi\"\n",
    "for index in range(len(words)):\n",
    "    letter = words[index]\n",
    "    if letter == \"a\" or letter ==\"e\" or letter == \"i\" or letter ==\"o\" or letter== \"u\":\n",
    "        print(f\"the given word is {letter} and it is vowel\")\n",
    "    elif letter ==\" \":\n",
    "        break\n",
    "    elif letter == \" \":\n",
    "        break\n",
    "    else:\n",
    "        print(f\"the given word is {letter} and it is consonent\")"
   ]
  },
  {
   "cell_type": "code",
   "execution_count": 2,
   "id": "ad04d75a",
   "metadata": {},
   "outputs": [
    {
     "name": "stdout",
     "output_type": "stream",
     "text": [
      "1\n",
      "2\n",
      "4\n"
     ]
    }
   ],
   "source": [
    "for num in range (1,5):\n",
    "    if num == 3:\n",
    "        continue\n",
    "    print(num)"
   ]
  },
  {
   "cell_type": "code",
   "execution_count": 3,
   "id": "d0316dca",
   "metadata": {},
   "outputs": [
    {
     "name": "stdout",
     "output_type": "stream",
     "text": [
      "1\n",
      "2\n"
     ]
    }
   ],
   "source": [
    "for num in range (1,5):\n",
    "    if num == 3:\n",
    "        break\n",
    "    print(num)"
   ]
  },
  {
   "cell_type": "code",
   "execution_count": null,
   "id": "ef568d66",
   "metadata": {},
   "outputs": [],
   "source": []
  }
 ],
 "metadata": {
  "kernelspec": {
   "display_name": "Python 3 (ipykernel)",
   "language": "python",
   "name": "python3"
  },
  "language_info": {
   "codemirror_mode": {
    "name": "ipython",
    "version": 3
   },
   "file_extension": ".py",
   "mimetype": "text/x-python",
   "name": "python",
   "nbconvert_exporter": "python",
   "pygments_lexer": "ipython3",
   "version": "3.8.10"
  }
 },
 "nbformat": 4,
 "nbformat_minor": 5
}
