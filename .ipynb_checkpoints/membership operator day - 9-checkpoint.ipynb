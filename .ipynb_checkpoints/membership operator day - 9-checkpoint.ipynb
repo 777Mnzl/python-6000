{
 "cells": [
  {
   "cell_type": "markdown",
   "id": "fab3c2cb",
   "metadata": {},
   "source": [
    "# how to check if something is in the list or not? - membership operators"
   ]
  },
  {
   "cell_type": "code",
   "execution_count": 1,
   "id": "33853ab8",
   "metadata": {},
   "outputs": [
    {
     "data": {
      "text/plain": [
       "False"
      ]
     },
     "execution_count": 1,
     "metadata": {},
     "output_type": "execute_result"
    }
   ],
   "source": [
    "student = [\"shraddha\",\"manzil\",\"jyoti\",\"darshan\",\"rekha\"]\n",
    "\"kshitiz\" in student"
   ]
  },
  {
   "cell_type": "code",
   "execution_count": 3,
   "id": "4f4ebd2e",
   "metadata": {},
   "outputs": [
    {
     "data": {
      "text/plain": [
       "True"
      ]
     },
     "execution_count": 3,
     "metadata": {},
     "output_type": "execute_result"
    }
   ],
   "source": [
    "\"rekha\" in student"
   ]
  },
  {
   "cell_type": "code",
   "execution_count": 4,
   "id": "efc53435",
   "metadata": {},
   "outputs": [
    {
     "data": {
      "text/plain": [
       "True"
      ]
     },
     "execution_count": 4,
     "metadata": {},
     "output_type": "execute_result"
    }
   ],
   "source": [
    "\"ram\" not in student"
   ]
  },
  {
   "cell_type": "code",
   "execution_count": 5,
   "id": "fe25f9b9",
   "metadata": {},
   "outputs": [
    {
     "data": {
      "text/plain": [
       "False"
      ]
     },
     "execution_count": 5,
     "metadata": {},
     "output_type": "execute_result"
    }
   ],
   "source": [
    "\"ram\" in student"
   ]
  },
  {
   "cell_type": "code",
   "execution_count": 6,
   "id": "af39adf0",
   "metadata": {},
   "outputs": [
    {
     "data": {
      "text/plain": [
       "False"
      ]
     },
     "execution_count": 6,
     "metadata": {},
     "output_type": "execute_result"
    }
   ],
   "source": [
    "\"manzil\" not in student"
   ]
  },
  {
   "cell_type": "markdown",
   "id": "8e21ba91",
   "metadata": {},
   "source": [
    "# python list are mutable"
   ]
  },
  {
   "cell_type": "code",
   "execution_count": 7,
   "id": "116f2332",
   "metadata": {},
   "outputs": [
    {
     "data": {
      "text/plain": [
       "'banana'"
      ]
     },
     "execution_count": 7,
     "metadata": {},
     "output_type": "execute_result"
    }
   ],
   "source": [
    "fruits = [\"apple\",\"banana\",\"mango\",\"orange\",\"pear\"]\n",
    "fruits [1]"
   ]
  },
  {
   "cell_type": "code",
   "execution_count": 10,
   "id": "2bc3d221",
   "metadata": {},
   "outputs": [],
   "source": [
    "fruits [1] = \"papaya\""
   ]
  },
  {
   "cell_type": "code",
   "execution_count": 11,
   "id": "84f5de82",
   "metadata": {},
   "outputs": [
    {
     "data": {
      "text/plain": [
       "'papaya'"
      ]
     },
     "execution_count": 11,
     "metadata": {},
     "output_type": "execute_result"
    }
   ],
   "source": [
    "fruits[1]"
   ]
  },
  {
   "cell_type": "code",
   "execution_count": 12,
   "id": "7204886d",
   "metadata": {},
   "outputs": [
    {
     "data": {
      "text/plain": [
       "['apple', 'papaya', 'mango', 'orange', 'pear']"
      ]
     },
     "execution_count": 12,
     "metadata": {},
     "output_type": "execute_result"
    }
   ],
   "source": [
    "fruits"
   ]
  },
  {
   "cell_type": "code",
   "execution_count": 13,
   "id": "f2702c37",
   "metadata": {},
   "outputs": [
    {
     "data": {
      "text/plain": [
       "['papaya', 'mango']"
      ]
     },
     "execution_count": 13,
     "metadata": {},
     "output_type": "execute_result"
    }
   ],
   "source": [
    "fruits [1:3]"
   ]
  },
  {
   "cell_type": "code",
   "execution_count": 14,
   "id": "4217d3c3",
   "metadata": {},
   "outputs": [
    {
     "data": {
      "text/plain": [
       "['apple', 'papaya', 'mango', 'orange', 'pear']"
      ]
     },
     "execution_count": 14,
     "metadata": {},
     "output_type": "execute_result"
    }
   ],
   "source": [
    "fruits"
   ]
  },
  {
   "cell_type": "code",
   "execution_count": 15,
   "id": "92576042",
   "metadata": {},
   "outputs": [],
   "source": [
    "fruits[1:3] =[\"black current\",\"guava\"] "
   ]
  },
  {
   "cell_type": "code",
   "execution_count": 16,
   "id": "12876d13",
   "metadata": {},
   "outputs": [
    {
     "data": {
      "text/plain": [
       "['apple', 'black current', 'guava', 'orange', 'pear']"
      ]
     },
     "execution_count": 16,
     "metadata": {},
     "output_type": "execute_result"
    }
   ],
   "source": [
    "fruits"
   ]
  },
  {
   "cell_type": "markdown",
   "id": "56e9b016",
   "metadata": {},
   "source": [
    "# List methods\n",
    "# .insert()"
   ]
  },
  {
   "cell_type": "code",
   "execution_count": 17,
   "id": "c4a3358c",
   "metadata": {},
   "outputs": [],
   "source": [
    "# insert ()"
   ]
  },
  {
   "cell_type": "code",
   "execution_count": 25,
   "id": "bf569763",
   "metadata": {},
   "outputs": [],
   "source": [
    "fruits = ['apple', 'black current', 'guava', 'orange', 'pear']"
   ]
  },
  {
   "cell_type": "code",
   "execution_count": 26,
   "id": "d5112541",
   "metadata": {},
   "outputs": [],
   "source": [
    "fruits.insert(1, \"dragaonfruit\")"
   ]
  },
  {
   "cell_type": "code",
   "execution_count": 27,
   "id": "16d141d0",
   "metadata": {},
   "outputs": [
    {
     "data": {
      "text/plain": [
       "['apple', 'dragaonfruit', 'black current', 'guava', 'orange', 'pear']"
      ]
     },
     "execution_count": 27,
     "metadata": {},
     "output_type": "execute_result"
    }
   ],
   "source": [
    "fruits"
   ]
  },
  {
   "cell_type": "markdown",
   "id": "b4a81caf",
   "metadata": {},
   "source": [
    "# .append()"
   ]
  },
  {
   "cell_type": "code",
   "execution_count": 28,
   "id": "875660cc",
   "metadata": {},
   "outputs": [],
   "source": [
    "# creating empty list"
   ]
  },
  {
   "cell_type": "code",
   "execution_count": 29,
   "id": "523e8db2",
   "metadata": {},
   "outputs": [],
   "source": [
    "cars = []"
   ]
  },
  {
   "cell_type": "code",
   "execution_count": 30,
   "id": "0fc983ec",
   "metadata": {},
   "outputs": [
    {
     "data": {
      "text/plain": [
       "list"
      ]
     },
     "execution_count": 30,
     "metadata": {},
     "output_type": "execute_result"
    }
   ],
   "source": [
    "type(cars)"
   ]
  },
  {
   "cell_type": "code",
   "execution_count": 31,
   "id": "f26efd06",
   "metadata": {},
   "outputs": [
    {
     "data": {
      "text/plain": [
       "[]"
      ]
     },
     "execution_count": 31,
     "metadata": {},
     "output_type": "execute_result"
    }
   ],
   "source": [
    "cars"
   ]
  },
  {
   "cell_type": "code",
   "execution_count": 32,
   "id": "769059f7",
   "metadata": {},
   "outputs": [],
   "source": [
    "# other ways to create empty list"
   ]
  },
  {
   "cell_type": "code",
   "execution_count": 33,
   "id": "b3c6acb5",
   "metadata": {},
   "outputs": [],
   "source": [
    "cars  = list() #using list constructor"
   ]
  },
  {
   "cell_type": "code",
   "execution_count": 34,
   "id": "92355ff5",
   "metadata": {},
   "outputs": [
    {
     "data": {
      "text/plain": [
       "list"
      ]
     },
     "execution_count": 34,
     "metadata": {},
     "output_type": "execute_result"
    }
   ],
   "source": [
    "type(cars)"
   ]
  },
  {
   "cell_type": "code",
   "execution_count": 36,
   "id": "75b75798",
   "metadata": {},
   "outputs": [
    {
     "data": {
      "text/plain": [
       "[]"
      ]
     },
     "execution_count": 36,
     "metadata": {},
     "output_type": "execute_result"
    }
   ],
   "source": [
    "cars"
   ]
  },
  {
   "cell_type": "code",
   "execution_count": 37,
   "id": "0f7826d4",
   "metadata": {},
   "outputs": [],
   "source": [
    "cars.append(\"audi\")"
   ]
  },
  {
   "cell_type": "code",
   "execution_count": 38,
   "id": "a61744a3",
   "metadata": {},
   "outputs": [
    {
     "data": {
      "text/plain": [
       "['audi']"
      ]
     },
     "execution_count": 38,
     "metadata": {},
     "output_type": "execute_result"
    }
   ],
   "source": [
    "cars"
   ]
  },
  {
   "cell_type": "code",
   "execution_count": 41,
   "id": "867b7f8a",
   "metadata": {},
   "outputs": [],
   "source": [
    "cars.append(\"bentley\")"
   ]
  },
  {
   "cell_type": "code",
   "execution_count": 42,
   "id": "20a9f60f",
   "metadata": {},
   "outputs": [],
   "source": [
    "cars.append(\"mercedes\")"
   ]
  },
  {
   "cell_type": "raw",
   "id": "d799aff2",
   "metadata": {},
   "source": []
  },
  {
   "cell_type": "code",
   "execution_count": null,
   "id": "ed97d9f4",
   "metadata": {},
   "outputs": [],
   "source": []
  }
 ],
 "metadata": {
  "kernelspec": {
   "display_name": "Python 3 (ipykernel)",
   "language": "python",
   "name": "python3"
  },
  "language_info": {
   "codemirror_mode": {
    "name": "ipython",
    "version": 3
   },
   "file_extension": ".py",
   "mimetype": "text/x-python",
   "name": "python",
   "nbconvert_exporter": "python",
   "pygments_lexer": "ipython3",
   "version": "3.8.10"
  }
 },
 "nbformat": 4,
 "nbformat_minor": 5
}
