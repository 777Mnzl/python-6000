{
 "cells": [
  {
   "cell_type": "code",
   "execution_count": null,
   "id": "f7f04ae3",
   "metadata": {},
   "outputs": [],
   "source": [
    "def two_num():\n",
    "    a = 5\n",
    "    b = 5\n",
    "    print(a + b)"
   ]
  },
  {
   "cell_type": "code",
   "execution_count": null,
   "id": "cce63032",
   "metadata": {},
   "outputs": [],
   "source": [
    "two_num()"
   ]
  },
  {
   "cell_type": "code",
   "execution_count": null,
   "id": "5641ec9a",
   "metadata": {},
   "outputs": [],
   "source": [
    "two_num()"
   ]
  },
  {
   "cell_type": "code",
   "execution_count": null,
   "id": "5143be23",
   "metadata": {},
   "outputs": [],
   "source": [
    "def two_num(a,b):\n",
    "    c = a+b\n",
    "    print(c)"
   ]
  },
  {
   "cell_type": "code",
   "execution_count": null,
   "id": "95914afa",
   "metadata": {},
   "outputs": [],
   "source": [
    "two_num()"
   ]
  },
  {
   "cell_type": "code",
   "execution_count": null,
   "id": "4bcd243f",
   "metadata": {},
   "outputs": [],
   "source": [
    "two_num(12,34)"
   ]
  },
  {
   "cell_type": "code",
   "execution_count": null,
   "id": "75b564cd",
   "metadata": {},
   "outputs": [],
   "source": [
    "two_num(12,-12)"
   ]
  },
  {
   "cell_type": "markdown",
   "id": "42047071",
   "metadata": {},
   "source": [
    "# Return statement"
   ]
  },
  {
   "cell_type": "code",
   "execution_count": 64,
   "id": "6b45528b",
   "metadata": {},
   "outputs": [],
   "source": [
    "def two_num(a,b):\n",
    "    c = a+b\n",
    "    print(c)"
   ]
  },
  {
   "cell_type": "code",
   "execution_count": 65,
   "id": "1ab2cd9d",
   "metadata": {},
   "outputs": [
    {
     "name": "stdout",
     "output_type": "stream",
     "text": [
      "46\n"
     ]
    }
   ],
   "source": [
    "total = two_num(12,34)"
   ]
  },
  {
   "cell_type": "code",
   "execution_count": 66,
   "id": "65e4f475",
   "metadata": {},
   "outputs": [
    {
     "data": {
      "text/plain": [
       "NoneType"
      ]
     },
     "execution_count": 66,
     "metadata": {},
     "output_type": "execute_result"
    }
   ],
   "source": [
    "type(total)"
   ]
  },
  {
   "cell_type": "code",
   "execution_count": 67,
   "id": "3018cfa3",
   "metadata": {},
   "outputs": [],
   "source": [
    "def two_num(a,b):\n",
    "    c = a+b\n",
    "    return(c)"
   ]
  },
  {
   "cell_type": "code",
   "execution_count": 72,
   "id": "89c313fa",
   "metadata": {},
   "outputs": [],
   "source": [
    "total = two_num(12,42)"
   ]
  },
  {
   "cell_type": "code",
   "execution_count": 73,
   "id": "bae8e647",
   "metadata": {},
   "outputs": [
    {
     "data": {
      "text/plain": [
       "2916"
      ]
     },
     "execution_count": 73,
     "metadata": {},
     "output_type": "execute_result"
    }
   ],
   "source": [
    "total ** 2"
   ]
  },
  {
   "cell_type": "markdown",
   "id": "5b86ccfb",
   "metadata": {},
   "source": [
    "# Write a program that calculate volume of a sphere:"
   ]
  },
  {
   "cell_type": "code",
   "execution_count": 19,
   "id": "00840c0a",
   "metadata": {},
   "outputs": [],
   "source": [
    "def volume (radius):\n",
    "    pi = 3.14\n",
    "    return 4/3 * pi * radius**3"
   ]
  },
  {
   "cell_type": "code",
   "execution_count": 20,
   "id": "be63cbb6",
   "metadata": {},
   "outputs": [
    {
     "name": "stdout",
     "output_type": "stream",
     "text": [
      "enter the radius of the sphere: 12\n",
      "the  volume of a sphere is 7234.56\n"
     ]
    }
   ],
   "source": [
    "radius = int(input(\"enter the radius of the sphere: \"))\n",
    "volume = volume(radius)\n",
    "print(f\"the  volume of a sphere is {round(volume,2)}\")"
   ]
  },
  {
   "cell_type": "markdown",
   "id": "10cb6500",
   "metadata": {},
   "source": [
    "# Default vs Non-Default Arguement in python"
   ]
  },
  {
   "cell_type": "code",
   "execution_count": 30,
   "id": "cb39f2c3",
   "metadata": {},
   "outputs": [],
   "source": [
    "def greet(name, msg):\n",
    "    print(f\"hi {name} {msg}\")"
   ]
  },
  {
   "cell_type": "code",
   "execution_count": 31,
   "id": "15fc6a98",
   "metadata": {},
   "outputs": [
    {
     "name": "stdout",
     "output_type": "stream",
     "text": [
      "hi manzil wsp\n"
     ]
    }
   ],
   "source": [
    "greet(\"manzil\" , \"wsp\")"
   ]
  },
  {
   "cell_type": "code",
   "execution_count": 32,
   "id": "268e966a",
   "metadata": {},
   "outputs": [],
   "source": [
    "def greet (name, msg = \"WSP\"):\n",
    "    print(f\"hi {name} {msg}\")"
   ]
  },
  {
   "cell_type": "code",
   "execution_count": 33,
   "id": "f7a8d6b5",
   "metadata": {},
   "outputs": [
    {
     "name": "stdout",
     "output_type": "stream",
     "text": [
      "hi manzil WSP\n"
     ]
    }
   ],
   "source": [
    "greet(\"manzil\")"
   ]
  },
  {
   "cell_type": "code",
   "execution_count": 36,
   "id": "e22fa675",
   "metadata": {},
   "outputs": [
    {
     "name": "stdout",
     "output_type": "stream",
     "text": [
      "hi manzil WSG\n"
     ]
    }
   ],
   "source": [
    "greet(\"manzil\", msg = \"WSG\") # default arguement gets overwritten"
   ]
  },
  {
   "cell_type": "markdown",
   "id": "7ea63a5a",
   "metadata": {},
   "source": [
    "# Non Default Arguement"
   ]
  },
  {
   "cell_type": "code",
   "execution_count": 37,
   "id": "d1da2a90",
   "metadata": {},
   "outputs": [
    {
     "ename": "SyntaxError",
     "evalue": "non-default argument follows default argument (196041852.py, line 1)",
     "output_type": "error",
     "traceback": [
      "\u001b[1;36m  Cell \u001b[1;32mIn[37], line 1\u001b[1;36m\u001b[0m\n\u001b[1;33m    def greet(msg =\"Goodmorning\", name): # msg is a default arguement and name is non-default arguement\u001b[0m\n\u001b[1;37m              ^\u001b[0m\n\u001b[1;31mSyntaxError\u001b[0m\u001b[1;31m:\u001b[0m non-default argument follows default argument\n"
     ]
    }
   ],
   "source": [
    "def greet(msg =\"Goodmorning\", name): # msg is a default arguement and name is non-default arguement\n",
    "    print(f\"hi {name} {msg}\")"
   ]
  },
  {
   "cell_type": "markdown",
   "id": "0caf143d",
   "metadata": {},
   "source": [
    "# Local and Global Scope  of Variable"
   ]
  },
  {
   "cell_type": "code",
   "execution_count": 38,
   "id": "a6c2cad5",
   "metadata": {},
   "outputs": [],
   "source": [
    "x = \"awesome\"\n",
    "def my_func():\n",
    "    x = \"fantastic\"\n",
    "    lang = \"python\"\n",
    "    print(f\"{x} {lang}\")"
   ]
  },
  {
   "cell_type": "code",
   "execution_count": 41,
   "id": "7db86290",
   "metadata": {},
   "outputs": [
    {
     "data": {
      "text/plain": [
       "'awesome'"
      ]
     },
     "execution_count": 41,
     "metadata": {},
     "output_type": "execute_result"
    }
   ],
   "source": [
    "x # x is a global variable"
   ]
  },
  {
   "cell_type": "code",
   "execution_count": 42,
   "id": "05731fda",
   "metadata": {},
   "outputs": [
    {
     "ename": "NameError",
     "evalue": "name 'lang' is not defined",
     "output_type": "error",
     "traceback": [
      "\u001b[1;31m---------------------------------------------------------------------------\u001b[0m",
      "\u001b[1;31mNameError\u001b[0m                                 Traceback (most recent call last)",
      "Cell \u001b[1;32mIn[42], line 1\u001b[0m\n\u001b[1;32m----> 1\u001b[0m \u001b[43mlang\u001b[49m \u001b[38;5;66;03m# lang is a local variable\u001b[39;00m\n",
      "\u001b[1;31mNameError\u001b[0m: name 'lang' is not defined"
     ]
    }
   ],
   "source": [
    "lang # lang is a local variable"
   ]
  },
  {
   "cell_type": "code",
   "execution_count": 43,
   "id": "b8d2110e",
   "metadata": {},
   "outputs": [
    {
     "name": "stdout",
     "output_type": "stream",
     "text": [
      "fantastic python\n"
     ]
    }
   ],
   "source": [
    "my_func()"
   ]
  },
  {
   "cell_type": "code",
   "execution_count": 44,
   "id": "579d4f2d",
   "metadata": {},
   "outputs": [],
   "source": [
    "x = \"awesome\"\n",
    "def my_func():\n",
    "    global x\n",
    "    global lang\n",
    "    x = \"fantastic\"\n",
    "    lang = \"python\"\n",
    "    print(f\"{x} {lang}\")"
   ]
  },
  {
   "cell_type": "code",
   "execution_count": 45,
   "id": "099f2829",
   "metadata": {},
   "outputs": [
    {
     "data": {
      "text/plain": [
       "'awesome'"
      ]
     },
     "execution_count": 45,
     "metadata": {},
     "output_type": "execute_result"
    }
   ],
   "source": [
    "x"
   ]
  },
  {
   "cell_type": "code",
   "execution_count": 47,
   "id": "0a88458f",
   "metadata": {},
   "outputs": [
    {
     "name": "stdout",
     "output_type": "stream",
     "text": [
      "fantastic python\n"
     ]
    }
   ],
   "source": [
    "my_func()"
   ]
  },
  {
   "cell_type": "code",
   "execution_count": 48,
   "id": "5eb05c09",
   "metadata": {},
   "outputs": [
    {
     "data": {
      "text/plain": [
       "'fantastic'"
      ]
     },
     "execution_count": 48,
     "metadata": {},
     "output_type": "execute_result"
    }
   ],
   "source": [
    "x"
   ]
  },
  {
   "cell_type": "code",
   "execution_count": 49,
   "id": "3863b8f5",
   "metadata": {},
   "outputs": [
    {
     "data": {
      "text/plain": [
       "'python'"
      ]
     },
     "execution_count": 49,
     "metadata": {},
     "output_type": "execute_result"
    }
   ],
   "source": [
    "lang"
   ]
  },
  {
   "cell_type": "markdown",
   "id": "210243b1",
   "metadata": {},
   "source": [
    "# Multiple return values in function"
   ]
  },
  {
   "cell_type": "code",
   "execution_count": 50,
   "id": "ccbda97f",
   "metadata": {},
   "outputs": [],
   "source": [
    "def arithemetic_op(x,y):\n",
    "    total = x + y\n",
    "    diff = x - y\n",
    "    mul = x * y\n",
    "    return total, diff, mul"
   ]
  },
  {
   "cell_type": "code",
   "execution_count": 52,
   "id": "1c214c0c",
   "metadata": {},
   "outputs": [
    {
     "data": {
      "text/plain": [
       "(5, -1, 6)"
      ]
     },
     "execution_count": 52,
     "metadata": {},
     "output_type": "execute_result"
    }
   ],
   "source": [
    "arithemetic_op(2,3)"
   ]
  },
  {
   "cell_type": "code",
   "execution_count": 54,
   "id": "034d1076",
   "metadata": {},
   "outputs": [],
   "source": [
    "total, difference, multiplication = arithemetic_op(2,3)"
   ]
  },
  {
   "cell_type": "code",
   "execution_count": 59,
   "id": "395c241f",
   "metadata": {},
   "outputs": [
    {
     "data": {
      "text/plain": [
       "-1"
      ]
     },
     "execution_count": 59,
     "metadata": {},
     "output_type": "execute_result"
    }
   ],
   "source": [
    "difference"
   ]
  },
  {
   "cell_type": "code",
   "execution_count": 60,
   "id": "7f81304d",
   "metadata": {},
   "outputs": [
    {
     "data": {
      "text/plain": [
       "-1"
      ]
     },
     "execution_count": 60,
     "metadata": {},
     "output_type": "execute_result"
    }
   ],
   "source": [
    "difference"
   ]
  },
  {
   "cell_type": "code",
   "execution_count": 61,
   "id": "89f202c8",
   "metadata": {},
   "outputs": [
    {
     "data": {
      "text/plain": [
       "6"
      ]
     },
     "execution_count": 61,
     "metadata": {},
     "output_type": "execute_result"
    }
   ],
   "source": [
    "multiplication"
   ]
  },
  {
   "cell_type": "code",
   "execution_count": null,
   "id": "0d977a49",
   "metadata": {},
   "outputs": [],
   "source": []
  }
 ],
 "metadata": {
  "kernelspec": {
   "display_name": "Python 3 (ipykernel)",
   "language": "python",
   "name": "python3"
  },
  "language_info": {
   "codemirror_mode": {
    "name": "ipython",
    "version": 3
   },
   "file_extension": ".py",
   "mimetype": "text/x-python",
   "name": "python",
   "nbconvert_exporter": "python",
   "pygments_lexer": "ipython3",
   "version": "3.8.10"
  }
 },
 "nbformat": 4,
 "nbformat_minor": 5
}
