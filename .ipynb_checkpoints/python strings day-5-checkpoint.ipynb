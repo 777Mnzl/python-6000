{
 "cells": [
  {
   "cell_type": "code",
   "execution_count": 1,
   "id": "55d9d685",
   "metadata": {},
   "outputs": [
    {
     "data": {
      "text/plain": [
       "True"
      ]
     },
     "execution_count": 1,
     "metadata": {},
     "output_type": "execute_result"
    }
   ],
   "source": [
    "msg1 = \"hello world\"\n",
    "msg2 = 'hello world'\n",
    "msg1==msg2"
   ]
  },
  {
   "cell_type": "code",
   "execution_count": 2,
   "id": "a3155aac",
   "metadata": {},
   "outputs": [
    {
     "data": {
      "text/plain": [
       "False"
      ]
     },
     "execution_count": 2,
     "metadata": {},
     "output_type": "execute_result"
    }
   ],
   "source": [
    "msg1 = \"Hi\"\n",
    "msg2 = 'hi'\n",
    "msg1==msg2"
   ]
  },
  {
   "cell_type": "code",
   "execution_count": 8,
   "id": "6a3496ac",
   "metadata": {},
   "outputs": [],
   "source": [
    "msg1 = \"hi\"\n",
    "msg2 = 'hi'\n",
    "assert msg1==msg2 #assert checks either it is ok or not"
   ]
  },
  {
   "cell_type": "markdown",
   "id": "40189c42",
   "metadata": {},
   "source": [
    "# Single line and multi line string in python"
   ]
  },
  {
   "cell_type": "code",
   "execution_count": 4,
   "id": "9fed444a",
   "metadata": {},
   "outputs": [],
   "source": [
    "msg = \"hello world\""
   ]
  },
  {
   "cell_type": "code",
   "execution_count": 5,
   "id": "000e49c1",
   "metadata": {},
   "outputs": [],
   "source": [
    "poem = \"\"\"\n",
    "hello world \n",
    "hello world \n",
    "hello world\n",
    "hello world \n",
    "\"\"\""
   ]
  },
  {
   "cell_type": "code",
   "execution_count": 6,
   "id": "71e2a6bd",
   "metadata": {},
   "outputs": [
    {
     "name": "stdout",
     "output_type": "stream",
     "text": [
      "\n",
      "hello world \n",
      "hello world \n",
      "hello world\n",
      "hello world \n",
      "\n"
     ]
    }
   ],
   "source": [
    "print(poem)"
   ]
  },
  {
   "cell_type": "markdown",
   "id": "55045f0d",
   "metadata": {},
   "source": [
    "# indexing and slicing"
   ]
  },
  {
   "cell_type": "code",
   "execution_count": 10,
   "id": "11761bf4",
   "metadata": {},
   "outputs": [
    {
     "data": {
      "text/plain": [
       "'h'"
      ]
     },
     "execution_count": 10,
     "metadata": {},
     "output_type": "execute_result"
    }
   ],
   "source": [
    "msg = \"hello world\"\n",
    "msg[0]#index starts with zero"
   ]
  },
  {
   "cell_type": "code",
   "execution_count": 11,
   "id": "47888198",
   "metadata": {},
   "outputs": [
    {
     "data": {
      "text/plain": [
       "11"
      ]
     },
     "execution_count": 11,
     "metadata": {},
     "output_type": "execute_result"
    }
   ],
   "source": [
    "len(msg)"
   ]
  },
  {
   "cell_type": "code",
   "execution_count": 12,
   "id": "86e0f801",
   "metadata": {},
   "outputs": [
    {
     "data": {
      "text/plain": [
       "'l'"
      ]
     },
     "execution_count": 12,
     "metadata": {},
     "output_type": "execute_result"
    }
   ],
   "source": [
    "msg[9]"
   ]
  },
  {
   "cell_type": "code",
   "execution_count": 13,
   "id": "90c8582a",
   "metadata": {},
   "outputs": [
    {
     "data": {
      "text/plain": [
       "'r'"
      ]
     },
     "execution_count": 13,
     "metadata": {},
     "output_type": "execute_result"
    }
   ],
   "source": [
    "msg[8]"
   ]
  },
  {
   "cell_type": "markdown",
   "id": "635adfa6",
   "metadata": {},
   "source": [
    "# slicing"
   ]
  },
  {
   "cell_type": "code",
   "execution_count": 31,
   "id": "9238a57f",
   "metadata": {},
   "outputs": [
    {
     "data": {
      "text/plain": [
       "'hello'"
      ]
     },
     "execution_count": 31,
     "metadata": {},
     "output_type": "execute_result"
    }
   ],
   "source": [
    "msg = \"hello world\"\n",
    "msg[0:5]#last ko value lidaina so always add +1"
   ]
  },
  {
   "cell_type": "code",
   "execution_count": 19,
   "id": "53007419",
   "metadata": {},
   "outputs": [
    {
     "data": {
      "text/plain": [
       "'world'"
      ]
     },
     "execution_count": 19,
     "metadata": {},
     "output_type": "execute_result"
    }
   ],
   "source": [
    "msg[6:11]"
   ]
  },
  {
   "cell_type": "code",
   "execution_count": 20,
   "id": "c08afbc7",
   "metadata": {},
   "outputs": [
    {
     "data": {
      "text/plain": [
       "'lo wo'"
      ]
     },
     "execution_count": 20,
     "metadata": {},
     "output_type": "execute_result"
    }
   ],
   "source": [
    "msg [3:8]"
   ]
  },
  {
   "cell_type": "code",
   "execution_count": 22,
   "id": "3b347887",
   "metadata": {},
   "outputs": [
    {
     "data": {
      "text/plain": [
       "'hel'"
      ]
     },
     "execution_count": 22,
     "metadata": {},
     "output_type": "execute_result"
    }
   ],
   "source": [
    "msg [:3]#first 3 by default 0 huncha"
   ]
  },
  {
   "cell_type": "code",
   "execution_count": 33,
   "id": "ca010dd0",
   "metadata": {},
   "outputs": [
    {
     "data": {
      "text/plain": [
       "'hlowrd'"
      ]
     },
     "execution_count": 33,
     "metadata": {},
     "output_type": "execute_result"
    }
   ],
   "source": [
    "msg [0:11:2] #[start, end, step]"
   ]
  },
  {
   "cell_type": "code",
   "execution_count": 46,
   "id": "4250c9b6",
   "metadata": {},
   "outputs": [
    {
     "data": {
      "text/plain": [
       "'my'"
      ]
     },
     "execution_count": 46,
     "metadata": {},
     "output_type": "execute_result"
    }
   ],
   "source": [
    "text = \"you are my sunshine\"\n",
    "text [8:10]"
   ]
  },
  {
   "cell_type": "code",
   "execution_count": 44,
   "id": "d7619b74",
   "metadata": {},
   "outputs": [
    {
     "data": {
      "text/plain": [
       "'sun'"
      ]
     },
     "execution_count": 44,
     "metadata": {},
     "output_type": "execute_result"
    }
   ],
   "source": [
    "text [11:14]"
   ]
  },
  {
   "cell_type": "code",
   "execution_count": 45,
   "id": "66b989aa",
   "metadata": {},
   "outputs": [
    {
     "data": {
      "text/plain": [
       "'shine'"
      ]
     },
     "execution_count": 45,
     "metadata": {},
     "output_type": "execute_result"
    }
   ],
   "source": [
    "text [14:19]"
   ]
  },
  {
   "cell_type": "code",
   "execution_count": null,
   "id": "612331bb",
   "metadata": {},
   "outputs": [],
   "source": []
  }
 ],
 "metadata": {
  "kernelspec": {
   "display_name": "Python 3 (ipykernel)",
   "language": "python",
   "name": "python3"
  },
  "language_info": {
   "codemirror_mode": {
    "name": "ipython",
    "version": 3
   },
   "file_extension": ".py",
   "mimetype": "text/x-python",
   "name": "python",
   "nbconvert_exporter": "python",
   "pygments_lexer": "ipython3",
   "version": "3.8.10"
  }
 },
 "nbformat": 4,
 "nbformat_minor": 5
}
