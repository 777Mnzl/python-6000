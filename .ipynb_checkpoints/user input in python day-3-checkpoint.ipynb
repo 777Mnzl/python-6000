{
 "cells": [
  {
   "cell_type": "markdown",
   "id": "4cf44380",
   "metadata": {},
   "source": [
    "# suppose we want to add two integers number given by user as input-input() method"
   ]
  },
  {
   "cell_type": "code",
   "execution_count": null,
   "id": "96bdc54f",
   "metadata": {},
   "outputs": [],
   "source": [
    "name = input(\"what is your name?\")\n",
    "print(name)"
   ]
  },
  {
   "cell_type": "code",
   "execution_count": 3,
   "id": "49604fa6",
   "metadata": {},
   "outputs": [
    {
     "name": "stdout",
     "output_type": "stream",
     "text": [
      "enter the first number: 12\n",
      "enter the second number: 21\n",
      "33.0\n"
     ]
    }
   ],
   "source": [
    "(num) = float(input(\"enter the first number: \"))\n",
    "(num2) = float(input(\"enter the second number: \"))\n",
    "total = (num + num2)\n",
    "print(total)"
   ]
  },
  {
   "cell_type": "code",
   "execution_count": null,
   "id": "64f12137",
   "metadata": {},
   "outputs": [],
   "source": [
    "print(type(num))"
   ]
  },
  {
   "cell_type": "code",
   "execution_count": null,
   "id": "47bacb63",
   "metadata": {},
   "outputs": [],
   "source": [
    "print(type(num2))"
   ]
  },
  {
   "cell_type": "markdown",
   "id": "0641c2f8",
   "metadata": {},
   "source": [
    "# Type casting in python"
   ]
  },
  {
   "cell_type": "code",
   "execution_count": 4,
   "id": "9dc709fb",
   "metadata": {},
   "outputs": [
    {
     "name": "stdout",
     "output_type": "stream",
     "text": [
      "enter the first number12\n"
     ]
    }
   ],
   "source": [
    "num = float(input(\"enter the first number\"))\n",
    "#float helps to change the string into float"
   ]
  },
  {
   "cell_type": "code",
   "execution_count": null,
   "id": "b2838973",
   "metadata": {},
   "outputs": [],
   "source": []
  }
 ],
 "metadata": {
  "kernelspec": {
   "display_name": "Python 3 (ipykernel)",
   "language": "python",
   "name": "python3"
  },
  "language_info": {
   "codemirror_mode": {
    "name": "ipython",
    "version": 3
   },
   "file_extension": ".py",
   "mimetype": "text/x-python",
   "name": "python",
   "nbconvert_exporter": "python",
   "pygments_lexer": "ipython3",
   "version": "3.8.10"
  }
 },
 "nbformat": 4,
 "nbformat_minor": 5
}
