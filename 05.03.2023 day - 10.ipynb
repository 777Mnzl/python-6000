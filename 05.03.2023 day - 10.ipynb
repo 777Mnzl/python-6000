{
 "cells": [
  {
   "cell_type": "code",
   "execution_count": 1,
   "id": "08ea0051",
   "metadata": {},
   "outputs": [
    {
     "name": "stdout",
     "output_type": "stream",
     "text": [
      "[12, 32, 23, 13]\n"
     ]
    }
   ],
   "source": [
    "list = [12,32,23,13]\n",
    "print(list)"
   ]
  },
  {
   "cell_type": "markdown",
   "id": "12ddb758",
   "metadata": {},
   "source": [
    "# List comprehension"
   ]
  },
  {
   "cell_type": "code",
   "execution_count": 2,
   "id": "706cf3e1",
   "metadata": {},
   "outputs": [
    {
     "name": "stdout",
     "output_type": "stream",
     "text": [
      "['apple', 'banana', 'mango', 'orange']\n"
     ]
    }
   ],
   "source": [
    "fruits = [\"APPLE\",\"BANANA\",\"MANGO\",\"ORANGE\"]\n",
    "lowered_fruits = []\n",
    "for fruit in fruits:\n",
    "    lowered_fruits.append(fruit.lower())\n",
    "print(lowered_fruits)"
   ]
  },
  {
   "cell_type": "code",
   "execution_count": 3,
   "id": "4054947d",
   "metadata": {},
   "outputs": [],
   "source": [
    "# alternate way"
   ]
  },
  {
   "cell_type": "code",
   "execution_count": 9,
   "id": "c976c1f1",
   "metadata": {},
   "outputs": [
    {
     "data": {
      "text/plain": [
       "['apple', 'banana', 'mango', 'orange']"
      ]
     },
     "execution_count": 9,
     "metadata": {},
     "output_type": "execute_result"
    }
   ],
   "source": [
    "[fruit.lower() for fruit in fruits]"
   ]
  },
  {
   "cell_type": "markdown",
   "id": "c1b7bf5d",
   "metadata": {},
   "source": [
    "# square and cube of number"
   ]
  },
  {
   "cell_type": "code",
   "execution_count": 14,
   "id": "78db46d5",
   "metadata": {},
   "outputs": [
    {
     "data": {
      "text/plain": [
       "[1, 4, 9, 16, 25, 36, 49, 64, 81, 100, 121, 144, 169, 196]"
      ]
     },
     "execution_count": 14,
     "metadata": {},
     "output_type": "execute_result"
    }
   ],
   "source": [
    "[index**2 for index in range(1,15) ]"
   ]
  },
  {
   "cell_type": "code",
   "execution_count": 15,
   "id": "30376a9d",
   "metadata": {},
   "outputs": [
    {
     "data": {
      "text/plain": [
       "[1, 8, 27, 64, 125, 216, 343, 512, 729, 1000, 1331, 1728, 2197, 2744]"
      ]
     },
     "execution_count": 15,
     "metadata": {},
     "output_type": "execute_result"
    }
   ],
   "source": [
    "[index**3 for index in range(1,15)]"
   ]
  },
  {
   "cell_type": "markdown",
   "id": "52a1676f",
   "metadata": {},
   "source": [
    "```python\n",
    "[index**3 for index in range(1,15)]\n",
    "```"
   ]
  },
  {
   "cell_type": "code",
   "execution_count": 19,
   "id": "f288a16a",
   "metadata": {},
   "outputs": [
    {
     "name": "stdout",
     "output_type": "stream",
     "text": [
      "CPU times: total: 0 ns\n",
      "Wall time: 12 ms\n"
     ]
    }
   ],
   "source": [
    "%%time\n",
    "for i in range(70000):\n",
    "    plus_1= i+1"
   ]
  },
  {
   "cell_type": "code",
   "execution_count": 3,
   "id": "506576d6",
   "metadata": {},
   "outputs": [
    {
     "name": "stdout",
     "output_type": "stream",
     "text": [
      "CPU times: total: 0 ns\n",
      "Wall time: 0 ns\n",
      "CPU times: total: 0 ns\n",
      "Wall time: 0 ns\n"
     ]
    },
    {
     "data": {
      "text/plain": [
       "[1]"
      ]
     },
     "execution_count": 3,
     "metadata": {},
     "output_type": "execute_result"
    }
   ],
   "source": [
    "%%time\n",
    "time [i+1 for i in range(1)]"
   ]
  },
  {
   "cell_type": "markdown",
   "id": "4cb06f50",
   "metadata": {},
   "source": [
    "# List comprehension with (if)\n",
    "\n",
    "### Accept only number lower than 5 frim range -5 to 10"
   ]
  },
  {
   "cell_type": "code",
   "execution_count": 23,
   "id": "418ab1a6",
   "metadata": {},
   "outputs": [],
   "source": [
    "list1 = [] \n",
    "for num in range(-5,10):\n",
    "    if num < 10:\n",
    "        list1.append(num)"
   ]
  },
  {
   "cell_type": "code",
   "execution_count": 24,
   "id": "115d5e00",
   "metadata": {},
   "outputs": [
    {
     "data": {
      "text/plain": [
       "[-5, -4, -3, -2, -1, 0, 1, 2, 3, 4, 5, 6, 7, 8, 9]"
      ]
     },
     "execution_count": 24,
     "metadata": {},
     "output_type": "execute_result"
    }
   ],
   "source": [
    "list1"
   ]
  },
  {
   "cell_type": "code",
   "execution_count": 25,
   "id": "8a73ac1e",
   "metadata": {},
   "outputs": [
    {
     "data": {
      "text/plain": [
       "[-5, -4, -3, -2, -1, 0, 1, 2, 3, 4, 5, 6, 7, 8, 9]"
      ]
     },
     "execution_count": 25,
     "metadata": {},
     "output_type": "execute_result"
    }
   ],
   "source": [
    "[num for num in range(-5,10) if num <10]"
   ]
  },
  {
   "cell_type": "code",
   "execution_count": 28,
   "id": "7fc95d08",
   "metadata": {},
   "outputs": [
    {
     "data": {
      "text/plain": [
       "['banana', 'mango', 'orange']"
      ]
     },
     "execution_count": 28,
     "metadata": {},
     "output_type": "execute_result"
    }
   ],
   "source": [
    "fruits = [\"apple\",\"banana\",\"mango\",\"orange\"]\n",
    "[fruit for fruit in fruits if fruit !=\"apple\"]"
   ]
  },
  {
   "cell_type": "markdown",
   "id": "72c1a56c",
   "metadata": {},
   "source": [
    "```python\n",
    "[expression for item in iterable if True]\n",
    "```"
   ]
  },
  {
   "cell_type": "markdown",
   "id": "c076596f",
   "metadata": {},
   "source": [
    "# list comprehension with if else statement\n",
    "\n",
    "```python\n",
    "[expression if true else expression for item in iterables]\n",
    "```"
   ]
  },
  {
   "cell_type": "code",
   "execution_count": 30,
   "id": "fed1c134",
   "metadata": {},
   "outputs": [
    {
     "data": {
      "text/plain": [
       "[-15,\n",
       " -14,\n",
       " -13,\n",
       " -12,\n",
       " -11,\n",
       " -10,\n",
       " -9,\n",
       " -8,\n",
       " -7,\n",
       " -6,\n",
       " -5,\n",
       " -4,\n",
       " -3,\n",
       " -2,\n",
       " -1,\n",
       " 0,\n",
       " 0,\n",
       " 0,\n",
       " 0,\n",
       " 0,\n",
       " 0,\n",
       " 0,\n",
       " 0,\n",
       " 0,\n",
       " 0,\n",
       " 0,\n",
       " 0,\n",
       " 0,\n",
       " 0,\n",
       " 0]"
      ]
     },
     "execution_count": 30,
     "metadata": {},
     "output_type": "execute_result"
    }
   ],
   "source": [
    "[0 if x>=0 else x for x in range(-15,15)]"
   ]
  },
  {
   "cell_type": "code",
   "execution_count": 31,
   "id": "4f877238",
   "metadata": {},
   "outputs": [
    {
     "name": "stdout",
     "output_type": "stream",
     "text": [
      "['orange', 'banana', 'orange', 'orange', 'orange']\n"
     ]
    }
   ],
   "source": [
    "fruits = [\"apple\",\"banana\",\"cherry\",\"kiwi\",\"mango\"]\n",
    "newlist = [x if x == \"banana\" else \"orange\" for x in fruits]\n",
    "print(newlist)"
   ]
  },
  {
   "cell_type": "markdown",
   "id": "1418dd73",
   "metadata": {},
   "source": [
    " # frozenSet : immutable version of python set"
   ]
  },
  {
   "cell_type": "code",
   "execution_count": 1,
   "id": "a10e441a",
   "metadata": {},
   "outputs": [],
   "source": [
    "cities = {\"Kathmandu\",\"lalitpur\",\"pokhara\",\"bhaktapur\",\"kavre\",\"dharan\"}"
   ]
  },
  {
   "cell_type": "code",
   "execution_count": 2,
   "id": "a47dbf27",
   "metadata": {},
   "outputs": [
    {
     "data": {
      "text/plain": [
       "frozenset({'Kathmandu', 'bhaktapur', 'dharan', 'kavre', 'lalitpur', 'pokhara'})"
      ]
     },
     "execution_count": 2,
     "metadata": {},
     "output_type": "execute_result"
    }
   ],
   "source": [
    "frozen_cities = frozenset(cities)\n",
    "frozen_cities"
   ]
  },
  {
   "cell_type": "code",
   "execution_count": 3,
   "id": "a713dd6d",
   "metadata": {},
   "outputs": [
    {
     "data": {
      "text/plain": [
       "frozenset"
      ]
     },
     "execution_count": 3,
     "metadata": {},
     "output_type": "execute_result"
    }
   ],
   "source": [
    "type(frozen_cities)"
   ]
  },
  {
   "cell_type": "code",
   "execution_count": 4,
   "id": "d21f7265",
   "metadata": {},
   "outputs": [
    {
     "ename": "AttributeError",
     "evalue": "'frozenset' object has no attribute 'add'",
     "output_type": "error",
     "traceback": [
      "\u001b[1;31m---------------------------------------------------------------------------\u001b[0m",
      "\u001b[1;31mAttributeError\u001b[0m                            Traceback (most recent call last)",
      "Cell \u001b[1;32mIn[4], line 1\u001b[0m\n\u001b[1;32m----> 1\u001b[0m \u001b[43mfrozen_cities\u001b[49m\u001b[38;5;241;43m.\u001b[39;49m\u001b[43madd\u001b[49m(\u001b[38;5;124m\"\u001b[39m\u001b[38;5;124mbiratnagar\u001b[39m\u001b[38;5;124m\"\u001b[39m)\n",
      "\u001b[1;31mAttributeError\u001b[0m: 'frozenset' object has no attribute 'add'"
     ]
    }
   ],
   "source": [
    "frozen_cities.add(\"biratnagar\")"
   ]
  },
  {
   "cell_type": "code",
   "execution_count": null,
   "id": "aa80bea5",
   "metadata": {},
   "outputs": [],
   "source": []
  }
 ],
 "metadata": {
  "kernelspec": {
   "display_name": "Python 3 (ipykernel)",
   "language": "python",
   "name": "python3"
  },
  "language_info": {
   "codemirror_mode": {
    "name": "ipython",
    "version": 3
   },
   "file_extension": ".py",
   "mimetype": "text/x-python",
   "name": "python",
   "nbconvert_exporter": "python",
   "pygments_lexer": "ipython3",
   "version": "3.8.10"
  }
 },
 "nbformat": 4,
 "nbformat_minor": 5
}
