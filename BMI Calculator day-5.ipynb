{
 "cells": [
  {
   "cell_type": "markdown",
   "id": "92be05ed",
   "metadata": {},
   "source": [
    "$$BMI = \\frac{Kg}{m^2} $$"
   ]
  },
  {
   "cell_type": "code",
   "execution_count": 27,
   "id": "2f284db1",
   "metadata": {},
   "outputs": [
    {
     "name": "stdout",
     "output_type": "stream",
     "text": [
      "enter the weight of the individualin kg: 120\n",
      "enter the height of the individual in cm: 120\n",
      "your bmi is 83.33 and obesity is detected\n"
     ]
    }
   ],
   "source": [
    "weight = int(input(\"enter the weight of the individualin kg: \"))\n",
    "height = int(input(\"enter the height of the individual in cm: \"))\n",
    "height_in_meter = height/100\n",
    "\n",
    "bmi = weight/(height_in_meter**2)\n",
    "bmi2 = round(bmi,2)\n",
    "\n",
    "\n",
    "if bmi<18.5:\n",
    "    print(f\"your bmi is {bmi2} and you are underweight\")\n",
    "elif bmi <= 24.9:\n",
    "    print(f\"your bmi is {bmi2} and you are normal weight\")\n",
    "elif bmi <= 29.9:\n",
    "    print(f\"your bmi is {bmi2} overweight\")\n",
    "elif bmi > 30:\n",
    "    print(f\"your bmi is {bmi2} and obesity is detected\")\n",
    "else:\n",
    "    assert (\"invalid numbers\")\n",
    "    "
   ]
  },
  {
   "cell_type": "code",
   "execution_count": null,
   "id": "1e0f39da",
   "metadata": {},
   "outputs": [],
   "source": []
  }
 ],
 "metadata": {
  "kernelspec": {
   "display_name": "Python 3 (ipykernel)",
   "language": "python",
   "name": "python3"
  },
  "language_info": {
   "codemirror_mode": {
    "name": "ipython",
    "version": 3
   },
   "file_extension": ".py",
   "mimetype": "text/x-python",
   "name": "python",
   "nbconvert_exporter": "python",
   "pygments_lexer": "ipython3",
   "version": "3.8.10"
  }
 },
 "nbformat": 4,
 "nbformat_minor": 5
}
