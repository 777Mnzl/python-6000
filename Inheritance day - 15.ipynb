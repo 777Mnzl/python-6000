{
 "cells": [
  {
   "cell_type": "markdown",
   "id": "61fa7e7e",
   "metadata": {},
   "source": [
    "# Inheritance\n",
    "* Base class, Parent Class and Super Class are same\n",
    "* Derrived Class, child class and sub-class are same\n"
   ]
  },
  {
   "cell_type": "code",
   "execution_count": 1,
   "id": "870d557e",
   "metadata": {},
   "outputs": [],
   "source": [
    "class Computer:\n",
    "    def __init__(self,model_name):\n",
    "        self.model = model_name\n",
    "class Mobile:\n",
    "    def __init__(self, has_flash):\n",
    "        self.has_flash = has_flash"
   ]
  },
  {
   "cell_type": "code",
   "execution_count": 2,
   "id": "aaec6563",
   "metadata": {},
   "outputs": [],
   "source": [
    "mo = Mobile(has_flash = True)"
   ]
  },
  {
   "cell_type": "code",
   "execution_count": 3,
   "id": "99945aff",
   "metadata": {},
   "outputs": [
    {
     "data": {
      "text/plain": [
       "True"
      ]
     },
     "execution_count": 3,
     "metadata": {},
     "output_type": "execute_result"
    }
   ],
   "source": [
    "mo.has_flash"
   ]
  },
  {
   "cell_type": "code",
   "execution_count": 1,
   "id": "c5a55042",
   "metadata": {},
   "outputs": [
    {
     "ename": "NameError",
     "evalue": "name 'mo' is not defined",
     "output_type": "error",
     "traceback": [
      "\u001b[1;31m---------------------------------------------------------------------------\u001b[0m",
      "\u001b[1;31mNameError\u001b[0m                                 Traceback (most recent call last)",
      "Cell \u001b[1;32mIn[1], line 1\u001b[0m\n\u001b[1;32m----> 1\u001b[0m \u001b[43mmo\u001b[49m\u001b[38;5;241m.\u001b[39mmodel\n",
      "\u001b[1;31mNameError\u001b[0m: name 'mo' is not defined"
     ]
    }
   ],
   "source": [
    "mo.model_name"
   ]
  },
  {
   "cell_type": "code",
   "execution_count": 21,
   "id": "8d370392",
   "metadata": {},
   "outputs": [],
   "source": [
    "class Computer:\n",
    "    def __init__(self, model_name):\n",
    "        self.model = model_name\n",
    "        self.screen = 'LED'\n",
    "class Mobile(Computer):\n",
    "    def __init__(self, has_flash, model_name):\n",
    "        super().__init__(model_name)\n",
    "        self.has_flash = has_flash"
   ]
  },
  {
   "cell_type": "code",
   "execution_count": 26,
   "id": "f3fc559a",
   "metadata": {},
   "outputs": [
    {
     "data": {
      "text/plain": [
       "'Iphone'"
      ]
     },
     "execution_count": 26,
     "metadata": {},
     "output_type": "execute_result"
    }
   ],
   "source": [
    "mo = Mobile(True, \"Iphone\")\n",
    "mo.model"
   ]
  },
  {
   "cell_type": "code",
   "execution_count": 14,
   "id": "24d9d471",
   "metadata": {},
   "outputs": [],
   "source": [
    "mo = Mobile(True, 'iphone')"
   ]
  },
  {
   "cell_type": "code",
   "execution_count": 16,
   "id": "171f7cbf",
   "metadata": {},
   "outputs": [
    {
     "data": {
      "text/plain": [
       "'LED'"
      ]
     },
     "execution_count": 16,
     "metadata": {},
     "output_type": "execute_result"
    }
   ],
   "source": [
    "mo.screen"
   ]
  },
  {
   "cell_type": "code",
   "execution_count": 25,
   "id": "4d2c6516",
   "metadata": {},
   "outputs": [
    {
     "data": {
      "text/plain": [
       "'Iphone'"
      ]
     },
     "execution_count": 25,
     "metadata": {},
     "output_type": "execute_result"
    }
   ],
   "source": [
    "mo.model"
   ]
  },
  {
   "cell_type": "markdown",
   "id": "736bdabe",
   "metadata": {},
   "source": [
    "# Recap"
   ]
  },
  {
   "cell_type": "code",
   "execution_count": 9,
   "id": "c89e1a41",
   "metadata": {},
   "outputs": [],
   "source": [
    "class A:\n",
    "    def __init__(self):\n",
    "        self.name = \"Ram\"\n",
    "class B(A):\n",
    "    def __init(self):\n",
    "        super().__init__()\n",
    "        self.address = \"anamnagar\""
   ]
  },
  {
   "cell_type": "code",
   "execution_count": 10,
   "id": "20206356",
   "metadata": {},
   "outputs": [],
   "source": [
    "obj = B()"
   ]
  },
  {
   "cell_type": "code",
   "execution_count": 13,
   "id": "d7f4b2cb",
   "metadata": {},
   "outputs": [
    {
     "data": {
      "text/plain": [
       "'Ram'"
      ]
     },
     "execution_count": 13,
     "metadata": {},
     "output_type": "execute_result"
    }
   ],
   "source": [
    "obj.name"
   ]
  },
  {
   "cell_type": "markdown",
   "id": "75785ee5",
   "metadata": {},
   "source": [
    "# Multiple inheritance"
   ]
  },
  {
   "cell_type": "code",
   "execution_count": 18,
   "id": "40e06d50",
   "metadata": {},
   "outputs": [],
   "source": [
    "class Father:\n",
    "    def __init__(self):\n",
    "        self.f_name = \"RAM\"\n",
    "class Mother:\n",
    "    def __init__(self):\n",
    "        self.m_name = \"sita\"\n",
    "class Children(Father, Mother):\n",
    "    def __init__(self):\n",
    "        self.child_name = \"luv-kush\"\n",
    "        Father.__init__(self)\n",
    "        Mother.__init__(self)"
   ]
  },
  {
   "cell_type": "code",
   "execution_count": 19,
   "id": "0738b01f",
   "metadata": {},
   "outputs": [],
   "source": [
    "ch1 = Children()"
   ]
  },
  {
   "cell_type": "code",
   "execution_count": 20,
   "id": "f015bada",
   "metadata": {},
   "outputs": [
    {
     "data": {
      "text/plain": [
       "'RAM'"
      ]
     },
     "execution_count": 20,
     "metadata": {},
     "output_type": "execute_result"
    }
   ],
   "source": [
    "ch1.f_name"
   ]
  },
  {
   "cell_type": "code",
   "execution_count": 21,
   "id": "95b7817d",
   "metadata": {},
   "outputs": [
    {
     "data": {
      "text/plain": [
       "'sita'"
      ]
     },
     "execution_count": 21,
     "metadata": {},
     "output_type": "execute_result"
    }
   ],
   "source": [
    "ch1.m_name"
   ]
  },
  {
   "cell_type": "code",
   "execution_count": 22,
   "id": "a1385bdc",
   "metadata": {},
   "outputs": [
    {
     "data": {
      "text/plain": [
       "'luv-kush'"
      ]
     },
     "execution_count": 22,
     "metadata": {},
     "output_type": "execute_result"
    }
   ],
   "source": [
    "c"
   ]
  },
  {
   "cell_type": "code",
   "execution_count": null,
   "id": "58a3842a",
   "metadata": {},
   "outputs": [],
   "source": []
  }
 ],
 "metadata": {
  "kernelspec": {
   "display_name": "Python 3 (ipykernel)",
   "language": "python",
   "name": "python3"
  },
  "language_info": {
   "codemirror_mode": {
    "name": "ipython",
    "version": 3
   },
   "file_extension": ".py",
   "mimetype": "text/x-python",
   "name": "python",
   "nbconvert_exporter": "python",
   "pygments_lexer": "ipython3",
   "version": "3.8.10"
  }
 },
 "nbformat": 4,
 "nbformat_minor": 5
}
