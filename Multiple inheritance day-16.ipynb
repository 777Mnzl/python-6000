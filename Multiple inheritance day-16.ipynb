{
 "cells": [
  {
   "cell_type": "code",
   "execution_count": 1,
   "id": "90cfd86a",
   "metadata": {},
   "outputs": [],
   "source": [
    "class Father:\n",
    "    def __init__(self):\n",
    "        self.f_name = \"RAM\"\n",
    "class Mother:\n",
    "    def __init__(self):\n",
    "        self.m_name = \"sita\"\n",
    "class Children(Father, Mother):\n",
    "    def __init__(self):\n",
    "        self.child_name = \"luv-kush\"\n",
    "        Father.__init__(self)\n",
    "        Mother.__init__(self)"
   ]
  },
  {
   "cell_type": "code",
   "execution_count": 2,
   "id": "4289880f",
   "metadata": {},
   "outputs": [],
   "source": [
    "ch1 = Children()\n"
   ]
  },
  {
   "cell_type": "code",
   "execution_count": 3,
   "id": "e88ad66b",
   "metadata": {},
   "outputs": [
    {
     "data": {
      "text/plain": [
       "'RAM'"
      ]
     },
     "execution_count": 3,
     "metadata": {},
     "output_type": "execute_result"
    }
   ],
   "source": [
    "ch1.f_name"
   ]
  },
  {
   "cell_type": "code",
   "execution_count": 4,
   "id": "3c5e3f02",
   "metadata": {},
   "outputs": [
    {
     "data": {
      "text/plain": [
       "'sita'"
      ]
     },
     "execution_count": 4,
     "metadata": {},
     "output_type": "execute_result"
    }
   ],
   "source": [
    "ch1.m_name"
   ]
  },
  {
   "cell_type": "code",
   "execution_count": 5,
   "id": "506d708a",
   "metadata": {},
   "outputs": [
    {
     "data": {
      "text/plain": [
       "'luv-kush'"
      ]
     },
     "execution_count": 5,
     "metadata": {},
     "output_type": "execute_result"
    }
   ],
   "source": [
    "ch1.child_name"
   ]
  },
  {
   "cell_type": "code",
   "execution_count": 6,
   "id": "f6b3a6b0",
   "metadata": {},
   "outputs": [],
   "source": [
    "class Father:\n",
    "    def __init__(self):\n",
    "        self.f_name = \"RAM\"\n",
    "    def display(self):\n",
    "        return (\"this is father class called by children class\")\n",
    "        \n",
    "class Mother:\n",
    "    def __init__(self):\n",
    "        self.m_name = \"sita\"\n",
    "class Children(Father, Mother):\n",
    "    def __init__(self):\n",
    "        self.child_name = \"luv-kush\"\n",
    "        Father.__init__(self)\n",
    "        Mother.__init__(self)"
   ]
  },
  {
   "cell_type": "code",
   "execution_count": 7,
   "id": "23ee0b22",
   "metadata": {},
   "outputs": [],
   "source": [
    "ch1 = Children()"
   ]
  },
  {
   "cell_type": "code",
   "execution_count": 8,
   "id": "2fac395f",
   "metadata": {},
   "outputs": [
    {
     "data": {
      "text/plain": [
       "'this is father class called by children class'"
      ]
     },
     "execution_count": 8,
     "metadata": {},
     "output_type": "execute_result"
    }
   ],
   "source": [
    "ch1.display()"
   ]
  },
  {
   "cell_type": "markdown",
   "id": "840c1742",
   "metadata": {},
   "source": []
  },
  {
   "cell_type": "code",
   "execution_count": null,
   "id": "101f793c",
   "metadata": {},
   "outputs": [],
   "source": []
  },
  {
   "cell_type": "code",
   "execution_count": null,
   "id": "49887cb2",
   "metadata": {},
   "outputs": [],
   "source": []
  },
  {
   "cell_type": "markdown",
   "id": "7affeb16",
   "metadata": {},
   "source": [
    "# Multilevel Inheritance"
   ]
  },
  {
   "cell_type": "code",
   "execution_count": 9,
   "id": "36214c24",
   "metadata": {},
   "outputs": [],
   "source": [
    "# yo topic afai research gara"
   ]
  },
  {
   "cell_type": "code",
   "execution_count": null,
   "id": "f00f64e4",
   "metadata": {},
   "outputs": [],
   "source": []
  }
 ],
 "metadata": {
  "kernelspec": {
   "display_name": "Python 3 (ipykernel)",
   "language": "python",
   "name": "python3"
  },
  "language_info": {
   "codemirror_mode": {
    "name": "ipython",
    "version": 3
   },
   "file_extension": ".py",
   "mimetype": "text/x-python",
   "name": "python",
   "nbconvert_exporter": "python",
   "pygments_lexer": "ipython3",
   "version": "3.8.10"
  }
 },
 "nbformat": 4,
 "nbformat_minor": 5
}
