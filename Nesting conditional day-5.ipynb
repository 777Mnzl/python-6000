{
 "cells": [
  {
   "cell_type": "code",
   "execution_count": 1,
   "id": "f824bfd5",
   "metadata": {},
   "outputs": [
    {
     "name": "stdout",
     "output_type": "stream",
     "text": [
      "enter any number: 2\n",
      "the number is positive\n"
     ]
    }
   ],
   "source": [
    "num = int(input(\"enter any number: \"))\n",
    "if num < 0:\n",
    "    print(\"the given number is negative\")\n",
    "else:\n",
    "    if num == 0:\n",
    "        print(\"the number is zero\")\n",
    "    else:\n",
    "        print(\"the number is positive\")"
   ]
  },
  {
   "cell_type": "markdown",
   "id": "c373758a",
   "metadata": {},
   "source": [
    "# chained conditional (if...elif...else):"
   ]
  },
  {
   "cell_type": "code",
   "execution_count": 4,
   "id": "d64e8883",
   "metadata": {},
   "outputs": [
    {
     "name": "stdout",
     "output_type": "stream",
     "text": [
      "enter any number: 122\n",
      "it is positive number\n"
     ]
    }
   ],
   "source": [
    "num = int(input(\"enter any number: \"))\n",
    "if num == 0:\n",
    "    print(\"it is zero\")\n",
    "elif num > 0:\n",
    "    print(\"it is positive number\")\n",
    "else:\n",
    "    print(\"it is negative number\")"
   ]
  },
  {
   "cell_type": "code",
   "execution_count": null,
   "id": "7ecb1157",
   "metadata": {},
   "outputs": [],
   "source": []
  }
 ],
 "metadata": {
  "kernelspec": {
   "display_name": "Python 3 (ipykernel)",
   "language": "python",
   "name": "python3"
  },
  "language_info": {
   "codemirror_mode": {
    "name": "ipython",
    "version": 3
   },
   "file_extension": ".py",
   "mimetype": "text/x-python",
   "name": "python",
   "nbconvert_exporter": "python",
   "pygments_lexer": "ipython3",
   "version": "3.8.10"
  }
 },
 "nbformat": 4,
 "nbformat_minor": 5
}
