{
 "cells": [
  {
   "cell_type": "code",
   "execution_count": 2,
   "id": "002c87e5",
   "metadata": {},
   "outputs": [],
   "source": [
    "import os"
   ]
  },
  {
   "cell_type": "code",
   "execution_count": 4,
   "id": "2a3e2618",
   "metadata": {},
   "outputs": [
    {
     "data": {
      "text/plain": [
       "['.ipynb_checkpoints',\n",
       " '05.03.2023 day - 10.ipynb',\n",
       " 'access specifier and operator over loading day-16.ipynb',\n",
       " 'arg vs kwargs day - 14.ipynb',\n",
       " 'arithematic operator in python day-2.ipynb',\n",
       " 'Assigning multple values to multiple variables day-2.ipynb',\n",
       " 'BMI Calculator day-5.ipynb',\n",
       " 'classwork swap day-3.ipynb',\n",
       " 'comparision operator day-3.ipynb',\n",
       " 'conditional python day-3.ipynb',\n",
       " 'day - 4 latex typing.ipynb',\n",
       " 'dictionary day -12.ipynb',\n",
       " 'dynamic  typing day-2.ipynb',\n",
       " 'exception handling day-17.ipynb',\n",
       " 'file handling day-18.ipynb',\n",
       " 'for loop in python day-7.ipynb',\n",
       " 'Functioin Assignment day-13.ipynb',\n",
       " 'Homework 28.02.2023.ipynb',\n",
       " 'homework day-2.ipynb',\n",
       " 'homework loop day -9.ipynb',\n",
       " 'Inheritance day - 15.ipynb',\n",
       " 'intro to python day-1.ipynb',\n",
       " 'lambda function or anonymous function day-16.ipynb',\n",
       " 'list comprehension part2 day-11.ipynb',\n",
       " 'logical operators day-6.ipynb',\n",
       " 'loop day - 6.ipynb',\n",
       " 'manzil.txt',\n",
       " 'manzil2.txt',\n",
       " 'membership operator day - 9.ipynb',\n",
       " 'Multiple inheritance day-16.ipynb',\n",
       " 'nested for loop and while loops day-17.ipynb',\n",
       " 'Nesting conditional day-5.ipynb',\n",
       " 'None day - 10.ipynb',\n",
       " 'OOP class and objects day-15.ipynb',\n",
       " 'OS library.ipynb',\n",
       " 'pass in python day -14.ipynb',\n",
       " 'prac 06.03.2023.ipynb',\n",
       " 'prac 1 day-1.ipynb',\n",
       " 'prac friday 24.02.2023.ipynb',\n",
       " 'prac loop day-8.ipynb',\n",
       " 'python function day-13.ipynb',\n",
       " 'python list day-8.ipynb',\n",
       " 'python numbers day-3.ipynb',\n",
       " 'python strings day-5.ipynb',\n",
       " 'read.txt day-18',\n",
       " 'recusion day-14.ipynb',\n",
       " 'sets day-11.ipynb',\n",
       " 'SQL in python day-19.ipynb',\n",
       " 'string method day -7.ipynb',\n",
       " 'student.db',\n",
       " 'student.db-journal',\n",
       " 'tuple day-10.ipynb',\n",
       " 'updating variable values day-2.ipynb',\n",
       " 'user input in python day-3.ipynb',\n",
       " 'variable naming day-2.ipynb']"
      ]
     },
     "execution_count": 4,
     "metadata": {},
     "output_type": "execute_result"
    }
   ],
   "source": [
    "os.listdir() #list of all files in the directory"
   ]
  },
  {
   "cell_type": "markdown",
   "id": "65cf2265",
   "metadata": {},
   "source": [
    "# Absolute path of current directory"
   ]
  },
  {
   "cell_type": "code",
   "execution_count": 5,
   "id": "32e036b2",
   "metadata": {},
   "outputs": [
    {
     "data": {
      "text/plain": [
       "'C:\\\\Users\\\\Dell\\\\Desktop\\\\python6000'"
      ]
     },
     "execution_count": 5,
     "metadata": {},
     "output_type": "execute_result"
    }
   ],
   "source": [
    "os.getcwd()"
   ]
  },
  {
   "cell_type": "markdown",
   "id": "f881c7ee",
   "metadata": {},
   "source": [
    "# file path are relative or absolute"
   ]
  },
  {
   "cell_type": "code",
   "execution_count": 6,
   "id": "8b7b9fe9",
   "metadata": {},
   "outputs": [
    {
     "data": {
      "text/plain": [
       "'student.db'"
      ]
     },
     "execution_count": 6,
     "metadata": {},
     "output_type": "execute_result"
    }
   ],
   "source": [
    "os.path.relpath('student.db')"
   ]
  },
  {
   "cell_type": "code",
   "execution_count": 7,
   "id": "d3cd8def",
   "metadata": {},
   "outputs": [
    {
     "data": {
      "text/plain": [
       "'C:\\\\Users\\\\Dell\\\\Desktop\\\\python6000\\\\student.db'"
      ]
     },
     "execution_count": 7,
     "metadata": {},
     "output_type": "execute_result"
    }
   ],
   "source": [
    "os.path.abspath('student.db')"
   ]
  },
  {
   "cell_type": "code",
   "execution_count": null,
   "id": "23b04d2b",
   "metadata": {},
   "outputs": [],
   "source": []
  }
 ],
 "metadata": {
  "kernelspec": {
   "display_name": "Python 3 (ipykernel)",
   "language": "python",
   "name": "python3"
  },
  "language_info": {
   "codemirror_mode": {
    "name": "ipython",
    "version": 3
   },
   "file_extension": ".py",
   "mimetype": "text/x-python",
   "name": "python",
   "nbconvert_exporter": "python",
   "pygments_lexer": "ipython3",
   "version": "3.8.10"
  }
 },
 "nbformat": 4,
 "nbformat_minor": 5
}
