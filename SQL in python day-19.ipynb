{
 "cells": [
  {
   "cell_type": "markdown",
   "id": "8e06ef2f",
   "metadata": {},
   "source": [
    "# SQL\n",
    "* Structured Query Language (SQL) is a standardized programming language that is used to manage relational databases and perform various operations on the data in them.\n",
    "* Case Insensitive language\n"
   ]
  },
  {
   "cell_type": "code",
   "execution_count": 17,
   "id": "e1b690a2",
   "metadata": {},
   "outputs": [],
   "source": [
    "import sqlite3"
   ]
  },
  {
   "cell_type": "markdown",
   "id": "1e83d294",
   "metadata": {},
   "source": [
    "# creating and connecting to database\n",
    "* DATABASE NAME: student"
   ]
  },
  {
   "cell_type": "code",
   "execution_count": 18,
   "id": "6640d9f2",
   "metadata": {},
   "outputs": [],
   "source": [
    "con = sqlite3.connect('student.db')"
   ]
  },
  {
   "cell_type": "code",
   "execution_count": 19,
   "id": "ca8883a2",
   "metadata": {},
   "outputs": [
    {
     "data": {
      "text/plain": [
       "<sqlite3.Connection at 0x2489cf943f0>"
      ]
     },
     "execution_count": 19,
     "metadata": {},
     "output_type": "execute_result"
    }
   ],
   "source": [
    "con"
   ]
  },
  {
   "cell_type": "markdown",
   "id": "c0fc33e6",
   "metadata": {},
   "source": [
    "# create a cursor to execute SQL query"
   ]
  },
  {
   "cell_type": "code",
   "execution_count": 20,
   "id": "579b34a0",
   "metadata": {},
   "outputs": [],
   "source": [
    "cur = con.cursor()"
   ]
  },
  {
   "cell_type": "markdown",
   "id": "6152dada",
   "metadata": {},
   "source": [
    "# Creating table in database CREATE statement\n",
    "```sql\n",
    "CREATE TABLE table_name(column_name1 datatype, coloumn_name_2 datatype,...coloumn name_n datatype)\n",
    "```"
   ]
  },
  {
   "cell_type": "code",
   "execution_count": 33,
   "id": "4878a4e6",
   "metadata": {},
   "outputs": [],
   "source": [
    "query = \"\"\"\n",
    "create table student_details\n",
    "(roll_no int not null, name varchar(50), gender varchar(5))\n",
    "\"\"\""
   ]
  },
  {
   "cell_type": "code",
   "execution_count": 34,
   "id": "7f17feba",
   "metadata": {},
   "outputs": [
    {
     "data": {
      "text/plain": [
       "<sqlite3.Cursor at 0x2489d296340>"
      ]
     },
     "execution_count": 34,
     "metadata": {},
     "output_type": "execute_result"
    }
   ],
   "source": [
    "cur.execute(query)"
   ]
  },
  {
   "cell_type": "markdown",
   "id": "5f1c308e",
   "metadata": {},
   "source": [
    "   # Insert Statement in SQL"
   ]
  },
  {
   "cell_type": "markdown",
   "id": "da0c1893",
   "metadata": {},
   "source": [
    "```sql\n",
    "INSERT INTO table_name (column _name_1, column_name_2....column_name_n \n",
    "                        values\n",
    "                        (values1, values2...valuesn)\n",
    "```"
   ]
  },
  {
   "cell_type": "code",
   "execution_count": 39,
   "id": "5936250f",
   "metadata": {},
   "outputs": [],
   "source": [
    "insert_query = \"\"\"\n",
    "INSERT into student_details (roll_no, name, gender)\n",
    "values\n",
    "(1, 'Kshitiz', 'M'),\n",
    "(2, 'Manzil', 'M'),\n",
    "(3, 'Shraddha', 'F'),\n",
    "(4, 'Jyoti', 'F')\n",
    "\"\"\""
   ]
  },
  {
   "cell_type": "code",
   "execution_count": 40,
   "id": "6c67f07d",
   "metadata": {},
   "outputs": [
    {
     "data": {
      "text/plain": [
       "<sqlite3.Cursor at 0x2489d296340>"
      ]
     },
     "execution_count": 40,
     "metadata": {},
     "output_type": "execute_result"
    }
   ],
   "source": [
    "cur.execute(insert_query)"
   ]
  },
  {
   "cell_type": "markdown",
   "id": "495e7e52",
   "metadata": {},
   "source": [
    "# Select Statement in SQL\n",
    "```SQL\n",
    "Select * from table_name\n",
    "```"
   ]
  },
  {
   "cell_type": "code",
   "execution_count": 42,
   "id": "fd2b11a3",
   "metadata": {},
   "outputs": [
    {
     "data": {
      "text/plain": [
       "<sqlite3.Cursor at 0x2489d296340>"
      ]
     },
     "execution_count": 42,
     "metadata": {},
     "output_type": "execute_result"
    }
   ],
   "source": [
    "cur.execute(\"Select * from student_details \")"
   ]
  },
  {
   "cell_type": "code",
   "execution_count": 44,
   "id": "8121ad3c",
   "metadata": {},
   "outputs": [
    {
     "data": {
      "text/plain": [
       "[(1, 'Kshitiz', 'M'),\n",
       " (2, 'Manzil', 'M'),\n",
       " (3, 'Shraddha', 'F'),\n",
       " (4, 'Jyoti', 'F')]"
      ]
     },
     "execution_count": 44,
     "metadata": {},
     "output_type": "execute_result"
    }
   ],
   "source": [
    "cur.execute(\"Select * from student_details \").fetchall() #fetchall le print garcha"
   ]
  },
  {
   "cell_type": "code",
   "execution_count": 45,
   "id": "7bdedd6d",
   "metadata": {},
   "outputs": [
    {
     "data": {
      "text/plain": [
       "sqlite3.Cursor"
      ]
     },
     "execution_count": 45,
     "metadata": {},
     "output_type": "execute_result"
    }
   ],
   "source": [
    "type(cur.execute(\"Select * from student_details \"))"
   ]
  },
  {
   "cell_type": "markdown",
   "id": "03b44f1b",
   "metadata": {},
   "source": [
    "# Find all data with gender F"
   ]
  },
  {
   "cell_type": "code",
   "execution_count": 47,
   "id": "ff3f181e",
   "metadata": {},
   "outputs": [],
   "source": [
    "query = \"\"\"\n",
    "select name from student_details\n",
    "where gender = \"F\"\n",
    "\"\"\""
   ]
  },
  {
   "cell_type": "code",
   "execution_count": 49,
   "id": "eed071bf",
   "metadata": {},
   "outputs": [
    {
     "data": {
      "text/plain": [
       "[('Shraddha',), ('Jyoti',)]"
      ]
     },
     "execution_count": 49,
     "metadata": {},
     "output_type": "execute_result"
    }
   ],
   "source": [
    "cur.execute(query).fetchall()"
   ]
  },
  {
   "cell_type": "code",
   "execution_count": 50,
   "id": "544a0229",
   "metadata": {},
   "outputs": [],
   "source": [
    "query = \"\"\"\n",
    "select name from student_details\n",
    "where gender = \"M\"\n",
    "\"\"\""
   ]
  },
  {
   "cell_type": "code",
   "execution_count": 51,
   "id": "38d451bf",
   "metadata": {},
   "outputs": [
    {
     "data": {
      "text/plain": [
       "[('Kshitiz',), ('Manzil',)]"
      ]
     },
     "execution_count": 51,
     "metadata": {},
     "output_type": "execute_result"
    }
   ],
   "source": [
    "cur.execute(query).fetchall()"
   ]
  },
  {
   "cell_type": "code",
   "execution_count": 54,
   "id": "7af52846",
   "metadata": {},
   "outputs": [
    {
     "data": {
      "text/plain": [
       "[('Kshitiz',), ('Manzil',)]"
      ]
     },
     "execution_count": 54,
     "metadata": {},
     "output_type": "execute_result"
    }
   ],
   "source": [
    "cur.execute(\"SELECT NAME FROM STUDENT_DETAILS WHERE GENDER = 'M' \").fetchall() #alternate way"
   ]
  },
  {
   "cell_type": "markdown",
   "id": "f38d31f4",
   "metadata": {},
   "source": [
    "# update statement"
   ]
  },
  {
   "cell_type": "markdown",
   "id": "c813d31a",
   "metadata": {},
   "source": [
    "```sql\n",
    "update table_name\n",
    "set col_name = value\n",
    "where id = <id>\n",
    "```"
   ]
  },
  {
   "cell_type": "code",
   "execution_count": 61,
   "id": "7378bfc8",
   "metadata": {},
   "outputs": [],
   "source": [
    "update_query = \"\"\"\n",
    "update student_details\n",
    "set name = 'Manzil Shrestha'\n",
    "where roll_no = 1\n",
    "\"\"\""
   ]
  },
  {
   "cell_type": "code",
   "execution_count": 62,
   "id": "29777f98",
   "metadata": {},
   "outputs": [
    {
     "data": {
      "text/plain": [
       "<sqlite3.Cursor at 0x2489d296340>"
      ]
     },
     "execution_count": 62,
     "metadata": {},
     "output_type": "execute_result"
    }
   ],
   "source": [
    "cur.execute(update_query)"
   ]
  },
  {
   "cell_type": "code",
   "execution_count": 66,
   "id": "e255558a",
   "metadata": {},
   "outputs": [
    {
     "data": {
      "text/plain": [
       "[(1, 'Manzil Shrestha', 'M'),\n",
       " (2, 'Manzil', 'M'),\n",
       " (3, 'Shraddha', 'F'),\n",
       " (4, 'Jyoti', 'F')]"
      ]
     },
     "execution_count": 66,
     "metadata": {},
     "output_type": "execute_result"
    }
   ],
   "source": [
    "cur.execute(\"select * from student_details\").fetchall()"
   ]
  },
  {
   "cell_type": "code",
   "execution_count": 69,
   "id": "d1c44b63",
   "metadata": {},
   "outputs": [],
   "source": [
    "update_query = \"\"\"\n",
    "update student_details\n",
    "set name = 'Kshitiz'\n",
    "where roll_no = 2\n",
    "\"\"\""
   ]
  },
  {
   "cell_type": "code",
   "execution_count": 70,
   "id": "b269bd5e",
   "metadata": {},
   "outputs": [
    {
     "data": {
      "text/plain": [
       "<sqlite3.Cursor at 0x2489d296340>"
      ]
     },
     "execution_count": 70,
     "metadata": {},
     "output_type": "execute_result"
    }
   ],
   "source": [
    "cur.execute(update_query)"
   ]
  },
  {
   "cell_type": "code",
   "execution_count": 71,
   "id": "06ad69e3",
   "metadata": {},
   "outputs": [
    {
     "data": {
      "text/plain": [
       "[(1, 'Manzil Shrestha', 'M'),\n",
       " (2, 'Kshitiz', 'M'),\n",
       " (3, 'Shraddha', 'F'),\n",
       " (4, 'Jyoti', 'F')]"
      ]
     },
     "execution_count": 71,
     "metadata": {},
     "output_type": "execute_result"
    }
   ],
   "source": [
    "cur.execute(\"select * from student_details\").fetchall()"
   ]
  },
  {
   "cell_type": "markdown",
   "id": "1fb09be7",
   "metadata": {},
   "source": [
    "# Delete Statement"
   ]
  },
  {
   "cell_type": "code",
   "execution_count": 73,
   "id": "475ebd2b",
   "metadata": {},
   "outputs": [
    {
     "data": {
      "text/plain": [
       "<sqlite3.Cursor at 0x2489d296340>"
      ]
     },
     "execution_count": 73,
     "metadata": {},
     "output_type": "execute_result"
    }
   ],
   "source": [
    "cur.execute(\"delete from student_details where roll_no = 1\")"
   ]
  },
  {
   "cell_type": "code",
   "execution_count": 74,
   "id": "206e1914",
   "metadata": {},
   "outputs": [
    {
     "data": {
      "text/plain": [
       "[(2, 'Kshitiz', 'M'), (3, 'Shraddha', 'F'), (4, 'Jyoti', 'F')]"
      ]
     },
     "execution_count": 74,
     "metadata": {},
     "output_type": "execute_result"
    }
   ],
   "source": [
    "cur.execute(\"select * from student_details\").fetchall()"
   ]
  },
  {
   "cell_type": "markdown",
   "id": "e3bdd136",
   "metadata": {},
   "source": [
    "# check multiple condition using where clause"
   ]
  },
  {
   "cell_type": "code",
   "execution_count": 90,
   "id": "090470da",
   "metadata": {},
   "outputs": [],
   "source": [
    "query = \"\"\"\n",
    "select * from student_details\n",
    "where \n",
    "gender = 'M'\n",
    "and name like 'K%'\n",
    "\"\"\""
   ]
  },
  {
   "cell_type": "code",
   "execution_count": 91,
   "id": "6723302d",
   "metadata": {},
   "outputs": [
    {
     "data": {
      "text/plain": [
       "[(2, 'Kshitiz', 'M')]"
      ]
     },
     "execution_count": 91,
     "metadata": {},
     "output_type": "execute_result"
    }
   ],
   "source": [
    "cur.execute(query).fetchall()"
   ]
  },
  {
   "cell_type": "code",
   "execution_count": null,
   "id": "8674aa95",
   "metadata": {},
   "outputs": [],
   "source": []
  }
 ],
 "metadata": {
  "kernelspec": {
   "display_name": "Python 3 (ipykernel)",
   "language": "python",
   "name": "python3"
  },
  "language_info": {
   "codemirror_mode": {
    "name": "ipython",
    "version": 3
   },
   "file_extension": ".py",
   "mimetype": "text/x-python",
   "name": "python",
   "nbconvert_exporter": "python",
   "pygments_lexer": "ipython3",
   "version": "3.8.10"
  }
 },
 "nbformat": 4,
 "nbformat_minor": 5
}
