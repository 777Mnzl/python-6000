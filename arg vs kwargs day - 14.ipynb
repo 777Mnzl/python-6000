{
 "cells": [
  {
   "cell_type": "code",
   "execution_count": 1,
   "id": "ea8b8cd8",
   "metadata": {},
   "outputs": [],
   "source": [
    "def add (x,y):\n",
    "    return x + y"
   ]
  },
  {
   "cell_type": "code",
   "execution_count": 4,
   "id": "b85d157f",
   "metadata": {},
   "outputs": [
    {
     "data": {
      "text/plain": [
       "14"
      ]
     },
     "execution_count": 4,
     "metadata": {},
     "output_type": "execute_result"
    }
   ],
   "source": [
    "add(12,2)"
   ]
  },
  {
   "cell_type": "markdown",
   "id": "0cc434fb",
   "metadata": {},
   "source": [
    "# What if i want to sum n numbers? just lke in calculator?\n",
    "* variable length input using '*args' and '**kwargs' \n",
    "* args are used in tupple\n",
    "* kwargs are used in dictionary"
   ]
  },
  {
   "cell_type": "code",
   "execution_count": 5,
   "id": "c14cf22c",
   "metadata": {},
   "outputs": [],
   "source": [
    "def add(*args):\n",
    "    print(type(args))\n",
    "    print(args)"
   ]
  },
  {
   "cell_type": "code",
   "execution_count": 8,
   "id": "de45aca9",
   "metadata": {},
   "outputs": [
    {
     "name": "stdout",
     "output_type": "stream",
     "text": [
      "<class 'tuple'>\n",
      "(1, 2, 34, 5, 5, 'manzil')\n"
     ]
    }
   ],
   "source": [
    "add(1,2,34,5,5, \"manzil\")"
   ]
  },
  {
   "cell_type": "code",
   "execution_count": 9,
   "id": "941ee4ff",
   "metadata": {},
   "outputs": [],
   "source": [
    "def add (*args):\n",
    "    total = 0\n",
    "    for item in args:\n",
    "        total = total + item\n",
    "    return total"
   ]
  },
  {
   "cell_type": "code",
   "execution_count": 14,
   "id": "8d5a8edb",
   "metadata": {},
   "outputs": [
    {
     "data": {
      "text/plain": [
       "387"
      ]
     },
     "execution_count": 14,
     "metadata": {},
     "output_type": "execute_result"
    }
   ],
   "source": [
    "add(12,34,341)"
   ]
  },
  {
   "cell_type": "markdown",
   "id": "78cae489",
   "metadata": {},
   "source": [
    "#  **Kwargs"
   ]
  },
  {
   "cell_type": "code",
   "execution_count": 15,
   "id": "72bf9670",
   "metadata": {},
   "outputs": [],
   "source": [
    "def about(**kwargs):\n",
    "    print(kwargs)\n",
    "    print(type(kwargs))"
   ]
  },
  {
   "cell_type": "code",
   "execution_count": 18,
   "id": "c00394b0",
   "metadata": {},
   "outputs": [
    {
     "name": "stdout",
     "output_type": "stream",
     "text": [
      "{'name': 'manzil', 'learns': 'python'}\n",
      "<class 'dict'>\n"
     ]
    }
   ],
   "source": [
    "about(name = 'manzil', learns = 'python')"
   ]
  },
  {
   "cell_type": "code",
   "execution_count": 21,
   "id": "590121f8",
   "metadata": {},
   "outputs": [],
   "source": [
    "def about(**kwargs):\n",
    "    print(f\"your name is {kwargs['name']} and you learn {kwargs['learns']}\")"
   ]
  },
  {
   "cell_type": "code",
   "execution_count": 23,
   "id": "b521710a",
   "metadata": {},
   "outputs": [
    {
     "name": "stdout",
     "output_type": "stream",
     "text": [
      "your name is mnzl and you learn python\n"
     ]
    }
   ],
   "source": [
    "about(name = 'mnzl', learns = 'python')"
   ]
  },
  {
   "cell_type": "code",
   "execution_count": null,
   "id": "e84b67b8",
   "metadata": {},
   "outputs": [],
   "source": []
  }
 ],
 "metadata": {
  "kernelspec": {
   "display_name": "Python 3 (ipykernel)",
   "language": "python",
   "name": "python3"
  },
  "language_info": {
   "codemirror_mode": {
    "name": "ipython",
    "version": 3
   },
   "file_extension": ".py",
   "mimetype": "text/x-python",
   "name": "python",
   "nbconvert_exporter": "python",
   "pygments_lexer": "ipython3",
   "version": "3.8.10"
  }
 },
 "nbformat": 4,
 "nbformat_minor": 5
}
