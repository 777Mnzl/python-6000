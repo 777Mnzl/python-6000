{
 "cells": [
  {
   "cell_type": "markdown",
   "id": "35cb15a7",
   "metadata": {},
   "source": [
    "#Arithematic operator in python\n",
    "* Addition\n",
    "* subtraction\n",
    "* multiplication\n",
    "* division \n",
    "* exponentional(**)\n",
    "* floor division (//)\n",
    "* modulus (%)\n",
    "\n"
   ]
  },
  {
   "cell_type": "code",
   "execution_count": 2,
   "id": "31259a31",
   "metadata": {},
   "outputs": [],
   "source": [
    "#this is a comment "
   ]
  },
  {
   "cell_type": "markdown",
   "id": "2b11c739",
   "metadata": {},
   "source": [
    "#Exponentiation\n",
    "\n",
    "to the power\n",
    "\n"
   ]
  },
  {
   "cell_type": "code",
   "execution_count": 5,
   "id": "d3aea8ee",
   "metadata": {},
   "outputs": [
    {
     "data": {
      "text/plain": [
       "8"
      ]
     },
     "execution_count": 5,
     "metadata": {},
     "output_type": "execute_result"
    }
   ],
   "source": [
    "2  ** 3 #2 to the power 3"
   ]
  },
  {
   "cell_type": "code",
   "execution_count": 6,
   "id": "40994444",
   "metadata": {},
   "outputs": [
    {
     "data": {
      "text/plain": [
       "81"
      ]
     },
     "execution_count": 6,
     "metadata": {},
     "output_type": "execute_result"
    }
   ],
   "source": [
    "3 ** 4 #3 to the power 4"
   ]
  },
  {
   "cell_type": "markdown",
   "id": "6992aaee",
   "metadata": {},
   "source": [
    "#Floor division\n",
    "\n",
    "integer ma output aaucha ra result ko decimal value hataucha\n"
   ]
  },
  {
   "cell_type": "code",
   "execution_count": 8,
   "id": "30965c11",
   "metadata": {},
   "outputs": [
    {
     "data": {
      "text/plain": [
       "7"
      ]
     },
     "execution_count": 8,
     "metadata": {},
     "output_type": "execute_result"
    }
   ],
   "source": [
    "15//2 #7.5 ko floor value 7 ho so output = 7"
   ]
  },
  {
   "cell_type": "code",
   "execution_count": 10,
   "id": "1fffc5bf",
   "metadata": {},
   "outputs": [
    {
     "data": {
      "text/plain": [
       "4"
      ]
     },
     "execution_count": 10,
     "metadata": {},
     "output_type": "execute_result"
    }
   ],
   "source": [
    "19//4 #4.75 huncha tara 4 matra dekcha "
   ]
  },
  {
   "cell_type": "markdown",
   "id": "e8cf10fa",
   "metadata": {},
   "source": [
    "#Modulus\n",
    "\n",
    "modulus le reaminder dincha"
   ]
  },
  {
   "cell_type": "code",
   "execution_count": 11,
   "id": "0134c9a8",
   "metadata": {},
   "outputs": [
    {
     "data": {
      "text/plain": [
       "1"
      ]
     },
     "execution_count": 11,
     "metadata": {},
     "output_type": "execute_result"
    }
   ],
   "source": [
    "5%2 #remainder"
   ]
  },
  {
   "cell_type": "code",
   "execution_count": 12,
   "id": "3a33c334",
   "metadata": {},
   "outputs": [
    {
     "data": {
      "text/plain": [
       "3"
      ]
     },
     "execution_count": 12,
     "metadata": {},
     "output_type": "execute_result"
    }
   ],
   "source": [
    "19 % 4 #remainder"
   ]
  },
  {
   "cell_type": "code",
   "execution_count": null,
   "id": "6a217f34",
   "metadata": {},
   "outputs": [],
   "source": []
  }
 ],
 "metadata": {
  "kernelspec": {
   "display_name": "Python 3 (ipykernel)",
   "language": "python",
   "name": "python3"
  },
  "language_info": {
   "codemirror_mode": {
    "name": "ipython",
    "version": 3
   },
   "file_extension": ".py",
   "mimetype": "text/x-python",
   "name": "python",
   "nbconvert_exporter": "python",
   "pygments_lexer": "ipython3",
   "version": "3.8.10"
  }
 },
 "nbformat": 4,
 "nbformat_minor": 5
}
