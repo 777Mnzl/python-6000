{
 "cells": [
  {
   "cell_type": "code",
   "execution_count": null,
   "id": "ea0e1f79",
   "metadata": {},
   "outputs": [],
   "source": [
    "a = 2.5\n",
    "b = 0.36\n",
    "swap = a\n",
    "a = b\n",
    "b = swap \n",
    "print(f\"the first number is {a}\")\n",
    "print(f\"the second number is {b}\")"
   ]
  },
  {
   "cell_type": "code",
   "execution_count": null,
   "id": "85879c0a",
   "metadata": {},
   "outputs": [],
   "source": [
    "a = 2.5 \n",
    "b = 0.36\n",
    "a,b = b,a"
   ]
  },
  {
   "cell_type": "code",
   "execution_count": null,
   "id": "7368ef29",
   "metadata": {},
   "outputs": [],
   "source": [
    "a"
   ]
  },
  {
   "cell_type": "markdown",
   "id": "bee28406",
   "metadata": {},
   "source": [
    "b"
   ]
  },
  {
   "cell_type": "markdown",
   "id": "099665c0",
   "metadata": {},
   "source": [
    "# HOMEWORK\n"
   ]
  },
  {
   "cell_type": "code",
   "execution_count": 26,
   "id": "9fd83e9c",
   "metadata": {},
   "outputs": [
    {
     "name": "stdout",
     "output_type": "stream",
     "text": [
      "enter any minute: 42\n",
      "enter any seconds: 42\n",
      "the entered time in total seconds is 2562\n"
     ]
    }
   ],
   "source": [
    "#python calculator of time (minute and sec into seconds)\n",
    "minute = int(input(\"enter any minute: \"))\n",
    "sec = int(input(\"enter any seconds: \"))\n",
    "minute = minute * 60\n",
    "total = minute + sec\n",
    "print(f\"the entered time in total seconds is {total}\")"
   ]
  },
  {
   "cell_type": "code",
   "execution_count": 27,
   "id": "1ec9bace",
   "metadata": {},
   "outputs": [
    {
     "name": "stdout",
     "output_type": "stream",
     "text": [
      "enter the miles to convert into km: 10\n",
      "the converted distance in km is 16.09\n"
     ]
    }
   ],
   "source": [
    "#python calulator of miles into kilometers\n",
    "miles = float(input(\"enter the miles to convert into km: \"))\n",
    "convert = miles * 1.609\n",
    "convert2 = round(convert, 2)\n",
    "print(f\"the converted distance in km is {convert2}\")"
   ]
  },
  {
   "cell_type": "code",
   "execution_count": 28,
   "id": "0db19f55",
   "metadata": {},
   "outputs": [
    {
     "name": "stdout",
     "output_type": "stream",
     "text": [
      "enter the distance you ran: 10\n",
      "enter the distance you ran in minute: 42\n",
      "enter the distance you ran in seconds: 42\n",
      "the averge pace you ran in miles per minute is: 4.35\n",
      "the average pace you ran in miles per sec is: 0.15\n"
     ]
    }
   ],
   "source": [
    "#python calculator of average speed\n",
    "km = int(input(\"enter the distance you ran: \"))\n",
    "miles = km/1.609\n",
    "minute = int(input(\"enter the distance you ran in minute: \"))\n",
    "pace_in_min = miles * minute/60\n",
    "sec = int(input(\"enter the distance you ran in seconds: \"))\n",
    "pace_in_sec = miles/sec\n",
    "pace_in_min2 = round(pace_in_min, 2)\n",
    "pace_in_sec2 = round(pace_in_sec, 2)\n",
    "print(f\"the averge pace you ran in miles per minute is: {pace_in_min2}\")\n",
    "print(f\"the average pace you ran in miles per sec is: {pace_in_sec2}\")"
   ]
  },
  {
   "cell_type": "code",
   "execution_count": 29,
   "id": "b944ea40",
   "metadata": {},
   "outputs": [
    {
     "name": "stdout",
     "output_type": "stream",
     "text": [
      "enter the radius of the circle: 5\n",
      "the volume of the circle is 523.33\n"
     ]
    }
   ],
   "source": [
    "#python program to calculate the volume of  the sphere\n",
    "radius = float(input(\"enter the radius of the circle: \"))\n",
    "volume = 4/3 * 3.14 * radius * radius * radius \n",
    "volume2 = round (volume, 2)\n",
    "print(f\"the volume of the circle is {volume2}\")"
   ]
  },
  {
   "cell_type": "code",
   "execution_count": 3,
   "id": "12f22813",
   "metadata": {},
   "outputs": [
    {
     "name": "stdout",
     "output_type": "stream",
     "text": [
      "enter a positive or negative number: 12\n",
      "it is positive number \n"
     ]
    }
   ],
   "source": [
    "#wap to check the integer is positve or negative\n",
    "num = int(input(\"enter a positive or negative number: \"))\n",
    "if num < 0:\n",
    "    print(\"it is a negative number\")\n",
    "else:\n",
    "    print(\"it is positive number \")"
   ]
  },
  {
   "cell_type": "code",
   "execution_count": 34,
   "id": "e9cf367b",
   "metadata": {},
   "outputs": [
    {
     "name": "stdout",
     "output_type": "stream",
     "text": [
      "enter a number to know if it is the multiple of five: 13\n",
      "bye\n"
     ]
    }
   ],
   "source": [
    "#wap to check if the number is the multiple of five\n",
    "num = int(input(\"enter a number to know if it is the multiple of five: \"))\n",
    "if num % 5 == 0:\n",
    "    print(\"hello\")\n",
    "else:\n",
    "    print(\"bye\")\n",
    "    "
   ]
  },
  {
   "cell_type": "code",
   "execution_count": 36,
   "id": "714ad4eb",
   "metadata": {},
   "outputs": [
    {
     "name": "stdout",
     "output_type": "stream",
     "text": [
      "enter your age: 19\n",
      "you are eligible to vote!\n"
     ]
    }
   ],
   "source": [
    "#wap to check if a person is eligible to vote or not\n",
    "age = int(input(\"enter your age: \"))\n",
    "if age >= 18:\n",
    "    print(\"you are eligible to vote!\")\n",
    "else:\n",
    "    print(\"you are not eligible to vote!\")"
   ]
  },
  {
   "cell_type": "code",
   "execution_count": 15,
   "id": "e317a7e8",
   "metadata": {},
   "outputs": [
    {
     "name": "stdout",
     "output_type": "stream",
     "text": [
      "enter any number: 1455\n",
      "it is not divisible by 3!\n"
     ]
    }
   ],
   "source": [
    "#wap to check if the last digit of a number is divisible by 3 or not\n",
    "num = int(input(\"enter any number: \"))\n",
    "num2 = num % 10\n",
    "if num2 % 3 == 0:\n",
    "    print(\"it is divisible by 3!\")\n",
    "else:\n",
    "    print(\"it is not divisible by 3!\")"
   ]
  },
  {
   "cell_type": "code",
   "execution_count": null,
   "id": "24ed18f8",
   "metadata": {},
   "outputs": [],
   "source": []
  }
 ],
 "metadata": {
  "kernelspec": {
   "display_name": "Python 3 (ipykernel)",
   "language": "python",
   "name": "python3"
  },
  "language_info": {
   "codemirror_mode": {
    "name": "ipython",
    "version": 3
   },
   "file_extension": ".py",
   "mimetype": "text/x-python",
   "name": "python",
   "nbconvert_exporter": "python",
   "pygments_lexer": "ipython3",
   "version": "3.8.10"
  }
 },
 "nbformat": 4,
 "nbformat_minor": 5
}
