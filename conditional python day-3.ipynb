{
 "cells": [
  {
   "cell_type": "code",
   "execution_count": null,
   "id": "8d224ed2",
   "metadata": {},
   "outputs": [],
   "source": [
    "num=int(input(\"enter any number\"))\n",
    "rem = num % 2\n",
    "if rem == 0:\n",
    "        print(\"it is even\")\n",
    "else:\n",
    "        print(\"it is odd\")"
   ]
  },
  {
   "cell_type": "code",
   "execution_count": null,
   "id": "b65abd18",
   "metadata": {},
   "outputs": [],
   "source": [
    "10 == 12"
   ]
  },
  {
   "cell_type": "code",
   "execution_count": null,
   "id": "bca64f28",
   "metadata": {},
   "outputs": [],
   "source": [
    "if 10 == 10:\n",
    "print(\"equal\")"
   ]
  },
  {
   "cell_type": "code",
   "execution_count": null,
   "id": "6d1ec75a",
   "metadata": {},
   "outputs": [],
   "source": [
    "if 10 == 10:\n",
    "    print(\"equal\")"
   ]
  },
  {
   "cell_type": "code",
   "execution_count": 3,
   "id": "d593f459",
   "metadata": {},
   "outputs": [
    {
     "name": "stdout",
     "output_type": "stream",
     "text": [
      "enter any number10\n",
      "the value is 10\n"
     ]
    }
   ],
   "source": [
    "num = int(input(\"enter any number\"))\n",
    "if num == 10:\n",
    "    print(f\"the value is {num}\")\n",
    "elif num < 10:\n",
    "    print(\"the value is smaller than 10\")\n",
    "elif num > 10:\n",
    "    print(\"the value is greater than 10\")\n",
    "else:\n",
    "    print(\"invalid number\")"
   ]
  },
  {
   "cell_type": "code",
   "execution_count": null,
   "id": "0584db64",
   "metadata": {},
   "outputs": [],
   "source": []
  }
 ],
 "metadata": {
  "kernelspec": {
   "display_name": "Python 3 (ipykernel)",
   "language": "python",
   "name": "python3"
  },
  "language_info": {
   "codemirror_mode": {
    "name": "ipython",
    "version": 3
   },
   "file_extension": ".py",
   "mimetype": "text/x-python",
   "name": "python",
   "nbconvert_exporter": "python",
   "pygments_lexer": "ipython3",
   "version": "3.8.10"
  }
 },
 "nbformat": 4,
 "nbformat_minor": 5
}
