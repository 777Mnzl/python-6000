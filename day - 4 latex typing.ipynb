{
 "cells": [
  {
   "cell_type": "markdown",
   "id": "4705f82b",
   "metadata": {},
   "source": [
    "# latex typing\n",
    "\n",
    "$$V = \\frac{4}{3} \\pi \\cdot r^3$$"
   ]
  },
  {
   "cell_type": "markdown",
   "id": "69348af6",
   "metadata": {},
   "source": [
    "$$V = \\pi r^2 h $$"
   ]
  },
  {
   "cell_type": "markdown",
   "id": "cc336fae",
   "metadata": {},
   "source": [
    "$$V = \\pi r^2 \\frac{h}{3}$$"
   ]
  },
  {
   "cell_type": "markdown",
   "id": "d2ac1688",
   "metadata": {},
   "source": [
    "$$V = a^3$$"
   ]
  },
  {
   "cell_type": "markdown",
   "id": "bd56c165",
   "metadata": {},
   "source": [
    "$$V = (\\frac{1}{3}) \\cdot \\pi r^2 h$$"
   ]
  },
  {
   "cell_type": "markdown",
   "id": "f54050ca",
   "metadata": {},
   "source": [
    "$$V = (\\frac{4}{3}) \\pi \\cdot a\\cdot b\\cdot c$$"
   ]
  },
  {
   "cell_type": "markdown",
   "id": "7962c34e",
   "metadata": {},
   "source": [
    "# to check if the number is zero positive or negative"
   ]
  },
  {
   "cell_type": "code",
   "execution_count": 5,
   "id": "f20de85d",
   "metadata": {},
   "outputs": [
    {
     "name": "stdout",
     "output_type": "stream",
     "text": [
      "enter any number: 12\n",
      "it is positive number\n"
     ]
    }
   ],
   "source": [
    "num = int(input(\"enter any number: \"))\n",
    "if num == 0:\n",
    "    print(\"it is zero\")\n",
    "elif num>0:\n",
    "    print(\"it is positive number\")\n",
    "else:\n",
    "    print(\"it is negative number\")"
   ]
  },
  {
   "cell_type": "code",
   "execution_count": null,
   "id": "78070152",
   "metadata": {},
   "outputs": [],
   "source": []
  }
 ],
 "metadata": {
  "kernelspec": {
   "display_name": "Python 3 (ipykernel)",
   "language": "python",
   "name": "python3"
  },
  "language_info": {
   "codemirror_mode": {
    "name": "ipython",
    "version": 3
   },
   "file_extension": ".py",
   "mimetype": "text/x-python",
   "name": "python",
   "nbconvert_exporter": "python",
   "pygments_lexer": "ipython3",
   "version": "3.8.10"
  }
 },
 "nbformat": 4,
 "nbformat_minor": 5
}
