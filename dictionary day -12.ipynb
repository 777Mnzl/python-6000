{
 "cells": [
  {
   "cell_type": "markdown",
   "id": "42ec4460",
   "metadata": {},
   "source": [
    "# Dictionary\n",
    "* mapping data types\n",
    "* syntax:\n",
    "```python\n",
    "{\n",
    "    key:value\n",
    "}\n",
    "```\n",
    "* no duplicate keys"
   ]
  },
  {
   "cell_type": "markdown",
   "id": "2e2ad135",
   "metadata": {},
   "source": [
    "# creating empty dictionary"
   ]
  },
  {
   "cell_type": "code",
   "execution_count": 9,
   "id": "51249d42",
   "metadata": {},
   "outputs": [
    {
     "data": {
      "text/plain": [
       "dict"
      ]
     },
     "execution_count": 9,
     "metadata": {},
     "output_type": "execute_result"
    }
   ],
   "source": [
    "about = {}\n",
    "type(about)"
   ]
  },
  {
   "cell_type": "code",
   "execution_count": 10,
   "id": "d763bf99",
   "metadata": {},
   "outputs": [],
   "source": [
    "#alternative way\n",
    "about = dict()"
   ]
  },
  {
   "cell_type": "code",
   "execution_count": 11,
   "id": "f32f1f53",
   "metadata": {},
   "outputs": [
    {
     "data": {
      "text/plain": [
       "dict"
      ]
     },
     "execution_count": 11,
     "metadata": {},
     "output_type": "execute_result"
    }
   ],
   "source": [
    "type(about)"
   ]
  },
  {
   "cell_type": "markdown",
   "id": "0ccb026f",
   "metadata": {},
   "source": [
    "# adding key value pairs in dictionary"
   ]
  },
  {
   "cell_type": "code",
   "execution_count": 12,
   "id": "1bf2ed8a",
   "metadata": {},
   "outputs": [],
   "source": [
    "dict1 = {}"
   ]
  },
  {
   "cell_type": "code",
   "execution_count": 13,
   "id": "5309df7b",
   "metadata": {},
   "outputs": [],
   "source": [
    "#add key value pair"
   ]
  },
  {
   "cell_type": "code",
   "execution_count": 22,
   "id": "2484ff35",
   "metadata": {},
   "outputs": [],
   "source": [
    "about[\"manzil\"]=\"manzil\""
   ]
  },
  {
   "cell_type": "code",
   "execution_count": 23,
   "id": "0f3908c6",
   "metadata": {},
   "outputs": [
    {
     "data": {
      "text/plain": [
       "{'m': 'manzil', 'manzil': 'manzil'}"
      ]
     },
     "execution_count": 23,
     "metadata": {},
     "output_type": "execute_result"
    }
   ],
   "source": [
    "about"
   ]
  },
  {
   "cell_type": "code",
   "execution_count": 24,
   "id": "66211743",
   "metadata": {},
   "outputs": [],
   "source": [
    "# other ways to add key value pairs "
   ]
  },
  {
   "cell_type": "code",
   "execution_count": 25,
   "id": "f3b4f964",
   "metadata": {},
   "outputs": [],
   "source": [
    "about.update({\"works_at\": \"broadway \"})"
   ]
  },
  {
   "cell_type": "code",
   "execution_count": 26,
   "id": "2bbcd5f8",
   "metadata": {},
   "outputs": [
    {
     "data": {
      "text/plain": [
       "{'m': 'manzil', 'manzil': 'manzil', 'works_at': 'broadway '}"
      ]
     },
     "execution_count": 26,
     "metadata": {},
     "output_type": "execute_result"
    }
   ],
   "source": [
    "about"
   ]
  },
  {
   "cell_type": "code",
   "execution_count": 27,
   "id": "5a429237",
   "metadata": {},
   "outputs": [],
   "source": [
    "about ['learns'] = {'python','data science','machine learning','AI','Deep learning','coding'}"
   ]
  },
  {
   "cell_type": "code",
   "execution_count": 28,
   "id": "f0ffe861",
   "metadata": {},
   "outputs": [
    {
     "data": {
      "text/plain": [
       "{'m': 'manzil',\n",
       " 'manzil': 'manzil',\n",
       " 'works_at': 'broadway ',\n",
       " 'learns': {'AI',\n",
       "  'Deep learning',\n",
       "  'coding',\n",
       "  'data science',\n",
       "  'machine learning',\n",
       "  'python'}}"
      ]
     },
     "execution_count": 28,
     "metadata": {},
     "output_type": "execute_result"
    }
   ],
   "source": [
    "about"
   ]
  },
  {
   "cell_type": "code",
   "execution_count": 29,
   "id": "ca802ba3",
   "metadata": {},
   "outputs": [],
   "source": [
    "about['age'] = 17"
   ]
  },
  {
   "cell_type": "code",
   "execution_count": 30,
   "id": "a28cd177",
   "metadata": {},
   "outputs": [
    {
     "data": {
      "text/plain": [
       "{'m': 'manzil',\n",
       " 'manzil': 'manzil',\n",
       " 'works_at': 'broadway ',\n",
       " 'learns': {'AI',\n",
       "  'Deep learning',\n",
       "  'coding',\n",
       "  'data science',\n",
       "  'machine learning',\n",
       "  'python'},\n",
       " 'age': 17}"
      ]
     },
     "execution_count": 30,
     "metadata": {},
     "output_type": "execute_result"
    }
   ],
   "source": [
    "about"
   ]
  },
  {
   "cell_type": "markdown",
   "id": "ba69be55",
   "metadata": {},
   "source": [
    "# .update()methods add key value pair if key doesn't exist if it exists it updates the value"
   ]
  },
  {
   "cell_type": "code",
   "execution_count": 31,
   "id": "556eac13",
   "metadata": {},
   "outputs": [],
   "source": [
    "about.update ({'name':'Manzil Shrestha'})"
   ]
  },
  {
   "cell_type": "code",
   "execution_count": 32,
   "id": "424c6eb2",
   "metadata": {},
   "outputs": [
    {
     "data": {
      "text/plain": [
       "{'m': 'manzil',\n",
       " 'manzil': 'manzil',\n",
       " 'works_at': 'broadway ',\n",
       " 'learns': {'AI',\n",
       "  'Deep learning',\n",
       "  'coding',\n",
       "  'data science',\n",
       "  'machine learning',\n",
       "  'python'},\n",
       " 'age': 17,\n",
       " 'name': 'Manzil Shrestha'}"
      ]
     },
     "execution_count": 32,
     "metadata": {},
     "output_type": "execute_result"
    }
   ],
   "source": [
    "about"
   ]
  },
  {
   "cell_type": "markdown",
   "id": "40f8628d",
   "metadata": {},
   "source": [
    "# create a dictionary with key as a country name and value as its capital"
   ]
  },
  {
   "cell_type": "code",
   "execution_count": 33,
   "id": "2f3e541c",
   "metadata": {},
   "outputs": [],
   "source": [
    "country = {\n",
    "    'Nepal':'Kathmandu','India':'New-Delhi','China':'Beijing','Bangladesh':'Dhaka'\n",
    "}"
   ]
  },
  {
   "cell_type": "code",
   "execution_count": 34,
   "id": "94dd60bd",
   "metadata": {},
   "outputs": [
    {
     "data": {
      "text/plain": [
       "{'Nepal': 'Kathmandu',\n",
       " 'India': 'New-Delhi',\n",
       " 'China': 'Beijing',\n",
       " 'Bangladesh': 'Dhaka'}"
      ]
     },
     "execution_count": 34,
     "metadata": {},
     "output_type": "execute_result"
    }
   ],
   "source": [
    "country"
   ]
  },
  {
   "cell_type": "code",
   "execution_count": 35,
   "id": "f8478881",
   "metadata": {},
   "outputs": [],
   "source": [
    "country.update({'bhutan':'thimpu'})"
   ]
  },
  {
   "cell_type": "code",
   "execution_count": 36,
   "id": "cb20d72b",
   "metadata": {},
   "outputs": [
    {
     "data": {
      "text/plain": [
       "{'Nepal': 'Kathmandu',\n",
       " 'India': 'New-Delhi',\n",
       " 'China': 'Beijing',\n",
       " 'Bangladesh': 'Dhaka',\n",
       " 'bhutan': 'thimpu'}"
      ]
     },
     "execution_count": 36,
     "metadata": {},
     "output_type": "execute_result"
    }
   ],
   "source": [
    "country"
   ]
  },
  {
   "cell_type": "markdown",
   "id": "cb298012",
   "metadata": {},
   "source": [
    "# What are valid keys?"
   ]
  },
  {
   "cell_type": "code",
   "execution_count": 37,
   "id": "b866f869",
   "metadata": {},
   "outputs": [],
   "source": [
    "num = {\n",
    "    1:'One',\n",
    "    2:'Two',\n",
    "    3:'Three'\n",
    "}"
   ]
  },
  {
   "cell_type": "code",
   "execution_count": 38,
   "id": "8f8c69f4",
   "metadata": {},
   "outputs": [
    {
     "data": {
      "text/plain": [
       "{1: 'One', 2: 'Two', 3: 'Three'}"
      ]
     },
     "execution_count": 38,
     "metadata": {},
     "output_type": "execute_result"
    }
   ],
   "source": [
    "num #int can be keys"
   ]
  },
  {
   "cell_type": "code",
   "execution_count": 39,
   "id": "8b26463d",
   "metadata": {},
   "outputs": [],
   "source": [
    "num.update({1.2:'one dot two'}) #float values can be keys "
   ]
  },
  {
   "cell_type": "code",
   "execution_count": 40,
   "id": "0f70103b",
   "metadata": {},
   "outputs": [
    {
     "data": {
      "text/plain": [
       "{1: 'One', 2: 'Two', 3: 'Three', 1.2: 'one dot two'}"
      ]
     },
     "execution_count": 40,
     "metadata": {},
     "output_type": "execute_result"
    }
   ],
   "source": [
    "num"
   ]
  },
  {
   "cell_type": "code",
   "execution_count": 41,
   "id": "7ce0506d",
   "metadata": {},
   "outputs": [
    {
     "ename": "TypeError",
     "evalue": "unhashable type: 'list'",
     "output_type": "error",
     "traceback": [
      "\u001b[1;31m---------------------------------------------------------------------------\u001b[0m",
      "\u001b[1;31mTypeError\u001b[0m                                 Traceback (most recent call last)",
      "Cell \u001b[1;32mIn[41], line 1\u001b[0m\n\u001b[1;32m----> 1\u001b[0m {\n\u001b[0;32m      2\u001b[0m     [\u001b[38;5;124m'\u001b[39m\u001b[38;5;124mone\u001b[39m\u001b[38;5;124m'\u001b[39m,\u001b[38;5;124m'\u001b[39m\u001b[38;5;124mtwo\u001b[39m\u001b[38;5;124m'\u001b[39m]:\u001b[38;5;241m12\u001b[39m\n\u001b[0;32m      3\u001b[0m }\u001b[38;5;66;03m#list tuples cannot be keys\u001b[39;00m\n",
      "\u001b[1;31mTypeError\u001b[0m: unhashable type: 'list'"
     ]
    }
   ],
   "source": [
    "{\n",
    "    ['one','two']:12\n",
    "}#list tuples cannot be keys"
   ]
  },
  {
   "cell_type": "markdown",
   "id": "32ddbb06",
   "metadata": {},
   "source": [
    "# Accessing values of a key"
   ]
  },
  {
   "cell_type": "code",
   "execution_count": 42,
   "id": "22cbdb90",
   "metadata": {},
   "outputs": [],
   "source": [
    "country = {'Nepal': 'Kathmandu',\n",
    " 'India': 'New-Delhi',\n",
    " 'China': 'Beijing',\n",
    " 'Bangladesh': 'Dhaka',\n",
    " 'bhutan': 'thimpu'}"
   ]
  },
  {
   "cell_type": "code",
   "execution_count": 43,
   "id": "1eec2165",
   "metadata": {},
   "outputs": [
    {
     "data": {
      "text/plain": [
       "{'Nepal': 'Kathmandu',\n",
       " 'India': 'New-Delhi',\n",
       " 'China': 'Beijing',\n",
       " 'Bangladesh': 'Dhaka',\n",
       " 'bhutan': 'thimpu'}"
      ]
     },
     "execution_count": 43,
     "metadata": {},
     "output_type": "execute_result"
    }
   ],
   "source": [
    "country"
   ]
  },
  {
   "cell_type": "code",
   "execution_count": 44,
   "id": "7605346d",
   "metadata": {},
   "outputs": [
    {
     "data": {
      "text/plain": [
       "'thimpu'"
      ]
     },
     "execution_count": 44,
     "metadata": {},
     "output_type": "execute_result"
    }
   ],
   "source": [
    "country['bhutan']"
   ]
  },
  {
   "cell_type": "code",
   "execution_count": 45,
   "id": "bbf10131",
   "metadata": {},
   "outputs": [
    {
     "data": {
      "text/plain": [
       "'thimpu'"
      ]
     },
     "execution_count": 45,
     "metadata": {},
     "output_type": "execute_result"
    }
   ],
   "source": [
    "country.get('bhutan')\n"
   ]
  },
  {
   "cell_type": "code",
   "execution_count": 46,
   "id": "00f24810",
   "metadata": {},
   "outputs": [
    {
     "data": {
      "text/plain": [
       "['Nepal', 'India', 'China', 'Bangladesh', 'bhutan']"
      ]
     },
     "execution_count": 46,
     "metadata": {},
     "output_type": "execute_result"
    }
   ],
   "source": [
    "list(country)"
   ]
  },
  {
   "cell_type": "markdown",
   "id": "213f06d0",
   "metadata": {},
   "source": [
    "# What are my keys and values"
   ]
  },
  {
   "cell_type": "code",
   "execution_count": 47,
   "id": "99c8a1a2",
   "metadata": {},
   "outputs": [
    {
     "data": {
      "text/plain": [
       "{'Nepal': 'Kathmandu',\n",
       " 'India': 'New-Delhi',\n",
       " 'China': 'Beijing',\n",
       " 'Bangladesh': 'Dhaka',\n",
       " 'bhutan': 'thimpu'}"
      ]
     },
     "execution_count": 47,
     "metadata": {},
     "output_type": "execute_result"
    }
   ],
   "source": [
    "country"
   ]
  },
  {
   "cell_type": "code",
   "execution_count": 48,
   "id": "58ba1e5e",
   "metadata": {},
   "outputs": [
    {
     "data": {
      "text/plain": [
       "dict_keys(['Nepal', 'India', 'China', 'Bangladesh', 'bhutan'])"
      ]
     },
     "execution_count": 48,
     "metadata": {},
     "output_type": "execute_result"
    }
   ],
   "source": [
    "country.keys()"
   ]
  },
  {
   "cell_type": "code",
   "execution_count": 49,
   "id": "64a82113",
   "metadata": {},
   "outputs": [
    {
     "data": {
      "text/plain": [
       "['Nepal', 'India', 'China', 'Bangladesh', 'bhutan']"
      ]
     },
     "execution_count": 49,
     "metadata": {},
     "output_type": "execute_result"
    }
   ],
   "source": [
    "list(country.keys())"
   ]
  },
  {
   "cell_type": "code",
   "execution_count": 50,
   "id": "f17c7205",
   "metadata": {},
   "outputs": [
    {
     "data": {
      "text/plain": [
       "dict_values(['Kathmandu', 'New-Delhi', 'Beijing', 'Dhaka', 'thimpu'])"
      ]
     },
     "execution_count": 50,
     "metadata": {},
     "output_type": "execute_result"
    }
   ],
   "source": [
    "country.values()"
   ]
  },
  {
   "cell_type": "code",
   "execution_count": 51,
   "id": "17cd0855",
   "metadata": {},
   "outputs": [
    {
     "data": {
      "text/plain": [
       "dict_items([('Nepal', 'Kathmandu'), ('India', 'New-Delhi'), ('China', 'Beijing'), ('Bangladesh', 'Dhaka'), ('bhutan', 'thimpu')])"
      ]
     },
     "execution_count": 51,
     "metadata": {},
     "output_type": "execute_result"
    }
   ],
   "source": [
    "country.items()"
   ]
  },
  {
   "cell_type": "markdown",
   "id": "4ae7a4e2",
   "metadata": {},
   "source": [
    "# tuple unpacking"
   ]
  },
  {
   "cell_type": "code",
   "execution_count": 52,
   "id": "eb1f0b42",
   "metadata": {},
   "outputs": [],
   "source": [
    "a,b=(3,4)"
   ]
  },
  {
   "cell_type": "code",
   "execution_count": 53,
   "id": "3fb10adf",
   "metadata": {},
   "outputs": [
    {
     "data": {
      "text/plain": [
       "3"
      ]
     },
     "execution_count": 53,
     "metadata": {},
     "output_type": "execute_result"
    }
   ],
   "source": [
    "a"
   ]
  },
  {
   "cell_type": "code",
   "execution_count": 54,
   "id": "dea49fd9",
   "metadata": {},
   "outputs": [
    {
     "data": {
      "text/plain": [
       "4"
      ]
     },
     "execution_count": 54,
     "metadata": {},
     "output_type": "execute_result"
    }
   ],
   "source": [
    "b"
   ]
  },
  {
   "cell_type": "markdown",
   "id": "4d9f1efc",
   "metadata": {},
   "source": [
    "# looping in dictionary"
   ]
  },
  {
   "cell_type": "code",
   "execution_count": 55,
   "id": "f35f12c7",
   "metadata": {},
   "outputs": [],
   "source": [
    "country = {'Nepal': 'Kathmandu',\n",
    " 'India': 'New-Delhi',\n",
    " 'China': 'Beijing',\n",
    " 'Bangladesh': 'Dhaka',\n",
    " 'bhutan': 'thimpu'}"
   ]
  },
  {
   "cell_type": "code",
   "execution_count": 56,
   "id": "a6959872",
   "metadata": {},
   "outputs": [
    {
     "data": {
      "text/plain": [
       "dict_items([('Nepal', 'Kathmandu'), ('India', 'New-Delhi'), ('China', 'Beijing'), ('Bangladesh', 'Dhaka'), ('bhutan', 'thimpu')])"
      ]
     },
     "execution_count": 56,
     "metadata": {},
     "output_type": "execute_result"
    }
   ],
   "source": [
    "country.items()"
   ]
  },
  {
   "cell_type": "code",
   "execution_count": 57,
   "id": "12217497",
   "metadata": {},
   "outputs": [
    {
     "name": "stdout",
     "output_type": "stream",
     "text": [
      "Nepal\n",
      "India\n",
      "China\n",
      "Bangladesh\n",
      "bhutan\n"
     ]
    }
   ],
   "source": [
    "for key, value in country.items():\n",
    "    print(key)"
   ]
  },
  {
   "cell_type": "code",
   "execution_count": 58,
   "id": "44617b26",
   "metadata": {},
   "outputs": [
    {
     "name": "stdout",
     "output_type": "stream",
     "text": [
      "Kathmandu\n",
      "New-Delhi\n",
      "Beijing\n",
      "Dhaka\n",
      "thimpu\n"
     ]
    }
   ],
   "source": [
    "for key, value in country.items():\n",
    "    print(value)"
   ]
  },
  {
   "cell_type": "code",
   "execution_count": 59,
   "id": "91430a55",
   "metadata": {},
   "outputs": [
    {
     "name": "stdout",
     "output_type": "stream",
     "text": [
      "your country is Nepal and the capital is Kathmandu\n",
      "your country is India and the capital is New-Delhi\n",
      "your country is China and the capital is Beijing\n",
      "your country is Bangladesh and the capital is Dhaka\n",
      "your country is bhutan and the capital is thimpu\n"
     ]
    }
   ],
   "source": [
    "for key,value in country.items():\n",
    "    print(f\"your country is {key} and the capital is {value}\")"
   ]
  },
  {
   "cell_type": "markdown",
   "id": "06c77f44",
   "metadata": {},
   "source": [
    "# pop(key)"
   ]
  },
  {
   "cell_type": "code",
   "execution_count": 60,
   "id": "cd5fe012",
   "metadata": {},
   "outputs": [
    {
     "data": {
      "text/plain": [
       "{'Nepal': 'Kathmandu',\n",
       " 'India': 'New-Delhi',\n",
       " 'China': 'Beijing',\n",
       " 'Bangladesh': 'Dhaka',\n",
       " 'bhutan': 'thimpu'}"
      ]
     },
     "execution_count": 60,
     "metadata": {},
     "output_type": "execute_result"
    }
   ],
   "source": [
    "country"
   ]
  },
  {
   "cell_type": "code",
   "execution_count": 61,
   "id": "cc32a930",
   "metadata": {},
   "outputs": [
    {
     "data": {
      "text/plain": [
       "'Beijing'"
      ]
     },
     "execution_count": 61,
     "metadata": {},
     "output_type": "execute_result"
    }
   ],
   "source": [
    "country.pop('China')"
   ]
  },
  {
   "cell_type": "code",
   "execution_count": 62,
   "id": "ead9ac0f",
   "metadata": {},
   "outputs": [
    {
     "data": {
      "text/plain": [
       "{'Nepal': 'Kathmandu',\n",
       " 'India': 'New-Delhi',\n",
       " 'Bangladesh': 'Dhaka',\n",
       " 'bhutan': 'thimpu'}"
      ]
     },
     "execution_count": 62,
     "metadata": {},
     "output_type": "execute_result"
    }
   ],
   "source": [
    "country"
   ]
  },
  {
   "cell_type": "markdown",
   "id": "b15f7bf1",
   "metadata": {},
   "source": [
    "# dictionary comprehension\n",
    " - Write a program to swap key value pair from given dictionary"
   ]
  },
  {
   "cell_type": "markdown",
   "id": "cd5c1800",
   "metadata": {},
   "source": [
    "country = {'Nepal': 'Kathmandu',\n",
    " 'India': 'New-Delhi',\n",
    " 'China': 'Beijing',\n",
    " 'Bangladesh': 'Dhaka',\n",
    " 'bhutan': 'thimpu'}"
   ]
  },
  {
   "cell_type": "code",
   "execution_count": 63,
   "id": "5b3d7a02",
   "metadata": {},
   "outputs": [
    {
     "data": {
      "text/plain": [
       "{'Kathmandu': 'Nepal',\n",
       " 'New-Delhi': 'India',\n",
       " 'Dhaka': 'Bangladesh',\n",
       " 'thimpu': 'bhutan'}"
      ]
     },
     "execution_count": 63,
     "metadata": {},
     "output_type": "execute_result"
    }
   ],
   "source": [
    "{val:key for key, val in country.items()}"
   ]
  },
  {
   "cell_type": "markdown",
   "id": "7bc9ec6d",
   "metadata": {},
   "source": [
    "# Nested Dictionary"
   ]
  },
  {
   "cell_type": "code",
   "execution_count": 64,
   "id": "c82c9e09",
   "metadata": {},
   "outputs": [],
   "source": [
    "children = {\n",
    "    \"child1\":{\"name\":\"MANZIL\",\"year\":2005},\n",
    "    \"child2\":{\"name\":\"SOM\",\"year\":2004},\n",
    "    \"child3\":{\"name\":\"fns\",\"year\":1990}\n",
    "}"
   ]
  },
  {
   "cell_type": "code",
   "execution_count": 65,
   "id": "62054bc6",
   "metadata": {},
   "outputs": [
    {
     "data": {
      "text/plain": [
       "{'child1': {'name': 'MANZIL', 'year': 2005},\n",
       " 'child2': {'name': 'SOM', 'year': 2004},\n",
       " 'child3': {'name': 'fns', 'year': 1990}}"
      ]
     },
     "execution_count": 65,
     "metadata": {},
     "output_type": "execute_result"
    }
   ],
   "source": [
    "children"
   ]
  },
  {
   "cell_type": "code",
   "execution_count": 66,
   "id": "f3cb8341",
   "metadata": {},
   "outputs": [
    {
     "name": "stdout",
     "output_type": "stream",
     "text": [
      "MANZIL\n",
      "SOM\n",
      "fns\n"
     ]
    }
   ],
   "source": [
    "for key,value in children.items():\n",
    "    print(value.get('name')) "
   ]
  },
  {
   "cell_type": "code",
   "execution_count": 67,
   "id": "e8e45f2c",
   "metadata": {},
   "outputs": [
    {
     "name": "stdout",
     "output_type": "stream",
     "text": [
      "MANZIL\n",
      "SOM\n",
      "fns\n"
     ]
    }
   ],
   "source": [
    "for key, value in children.items(): #alternate way\n",
    "    child_name = value.get('name')\n",
    "    print(child_name)"
   ]
  },
  {
   "cell_type": "code",
   "execution_count": 68,
   "id": "46a7e130",
   "metadata": {},
   "outputs": [
    {
     "name": "stdout",
     "output_type": "stream",
     "text": [
      "2005\n",
      "2004\n",
      "1990\n"
     ]
    }
   ],
   "source": [
    "for key, value in children.items():\n",
    "    print(value.get('year'))"
   ]
  },
  {
   "cell_type": "code",
   "execution_count": 69,
   "id": "f334addf",
   "metadata": {},
   "outputs": [],
   "source": [
    "diction = {\n",
    "    \"manzil\"\n",
    "}"
   ]
  },
  {
   "cell_type": "code",
   "execution_count": 70,
   "id": "73095bd0",
   "metadata": {},
   "outputs": [
    {
     "data": {
      "text/plain": [
       "{'manzil'}"
      ]
     },
     "execution_count": 70,
     "metadata": {},
     "output_type": "execute_result"
    }
   ],
   "source": [
    "diction"
   ]
  },
  {
   "cell_type": "code",
   "execution_count": 71,
   "id": "19e5f172",
   "metadata": {},
   "outputs": [
    {
     "data": {
      "text/plain": [
       "set"
      ]
     },
     "execution_count": 71,
     "metadata": {},
     "output_type": "execute_result"
    }
   ],
   "source": [
    "type(diction)"
   ]
  },
  {
   "cell_type": "code",
   "execution_count": null,
   "id": "46b23a81",
   "metadata": {},
   "outputs": [],
   "source": []
  },
  {
   "cell_type": "code",
   "execution_count": null,
   "id": "a0838c26",
   "metadata": {},
   "outputs": [],
   "source": []
  },
  {
   "cell_type": "code",
   "execution_count": null,
   "id": "23420051",
   "metadata": {},
   "outputs": [],
   "source": []
  },
  {
   "cell_type": "code",
   "execution_count": null,
   "id": "34f7d5e3",
   "metadata": {},
   "outputs": [],
   "source": []
  },
  {
   "cell_type": "code",
   "execution_count": null,
   "id": "3e6c3817",
   "metadata": {},
   "outputs": [],
   "source": []
  },
  {
   "cell_type": "code",
   "execution_count": null,
   "id": "a0322f5c",
   "metadata": {},
   "outputs": [],
   "source": []
  },
  {
   "cell_type": "code",
   "execution_count": null,
   "id": "a97c83b5",
   "metadata": {},
   "outputs": [],
   "source": []
  },
  {
   "cell_type": "code",
   "execution_count": null,
   "id": "fde02320",
   "metadata": {},
   "outputs": [],
   "source": []
  },
  {
   "cell_type": "code",
   "execution_count": null,
   "id": "ee6e1fb2",
   "metadata": {},
   "outputs": [],
   "source": []
  },
  {
   "cell_type": "code",
   "execution_count": null,
   "id": "7ef028d6",
   "metadata": {},
   "outputs": [],
   "source": []
  },
  {
   "cell_type": "code",
   "execution_count": null,
   "id": "1b846f91",
   "metadata": {},
   "outputs": [],
   "source": []
  },
  {
   "cell_type": "code",
   "execution_count": null,
   "id": "1d67302a",
   "metadata": {},
   "outputs": [],
   "source": []
  }
 ],
 "metadata": {
  "kernelspec": {
   "display_name": "Python 3 (ipykernel)",
   "language": "python",
   "name": "python3"
  },
  "language_info": {
   "codemirror_mode": {
    "name": "ipython",
    "version": 3
   },
   "file_extension": ".py",
   "mimetype": "text/x-python",
   "name": "python",
   "nbconvert_exporter": "python",
   "pygments_lexer": "ipython3",
   "version": "3.8.10"
  }
 },
 "nbformat": 4,
 "nbformat_minor": 5
}
