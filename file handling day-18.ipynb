{
 "cells": [
  {
   "cell_type": "markdown",
   "id": "30bf310d",
   "metadata": {},
   "source": [
    "# File handling\n",
    "* open()\n",
    "* read()\n",
    "* close()\n",
    "* write()\n",
    "* append()\n",
    "* create()\n",
    "\n",
    "Different modeto open a file:\n",
    "* read: r\n",
    "* write: w\n",
    "* append: a\n",
    "* create: x"
   ]
  },
  {
   "cell_type": "code",
   "execution_count": 10,
   "id": "1401ce1a",
   "metadata": {},
   "outputs": [
    {
     "name": "stdout",
     "output_type": "stream",
     "text": [
      "South Korean President Yoon Suk Yeol has pulled off quite the coup to get this summit.\n",
      "\n",
      "This is the first time a South Korean leader has been invited to Tokyo for such a meeting in 12 years.\n",
      "\n",
      "The relationship between these neighbours has been plagued for decades by their difficult history. South Korea was colonised by Japan from 1910 until the end of World War Two. Japanese soldiers forced hundreds of thousands of Koreans to work in its mines and factories. Women were pushed into sexual slavery.\n",
      "\n",
      "These scars, while no longer fresh, are not forgotten nor forgiven here.\n"
     ]
    }
   ],
   "source": [
    "file = open('read.txt day-18','r')\n",
    "text = file.read() \n",
    "print(text)"
   ]
  },
  {
   "cell_type": "code",
   "execution_count": 11,
   "id": "cc86ea97",
   "metadata": {},
   "outputs": [
    {
     "name": "stdout",
     "output_type": "stream",
     "text": [
      "['South Korean President Yoon Suk Yeol has pulled off quite the coup to get this summit.\\n', '\\n', 'This is the first time a South Korean leader has been invited to Tokyo for such a meeting in 12 years.\\n', '\\n', 'The relationship between these neighbours has been plagued for decades by their difficult history. South Korea was colonised by Japan from 1910 until the end of World War Two. Japanese soldiers forced hundreds of thousands of Koreans to work in its mines and factories. Women were pushed into sexual slavery.\\n', '\\n', 'These scars, while no longer fresh, are not forgotten nor forgiven here.']\n"
     ]
    }
   ],
   "source": [
    "file = open('read.txt day-18','r')\n",
    "text = file.readlines() #first paragraph only \n",
    "print(text)"
   ]
  },
  {
   "cell_type": "code",
   "execution_count": 12,
   "id": "4e34e621",
   "metadata": {},
   "outputs": [
    {
     "data": {
      "text/plain": [
       "'\\n'"
      ]
     },
     "execution_count": 12,
     "metadata": {},
     "output_type": "execute_result"
    }
   ],
   "source": [
    "text[1]"
   ]
  },
  {
   "cell_type": "code",
   "execution_count": 13,
   "id": "346df4f7",
   "metadata": {},
   "outputs": [
    {
     "data": {
      "text/plain": [
       "'This is the first time a South Korean leader has been invited to Tokyo for such a meeting in 12 years.\\n'"
      ]
     },
     "execution_count": 13,
     "metadata": {},
     "output_type": "execute_result"
    }
   ],
   "source": [
    "text[2]"
   ]
  },
  {
   "cell_type": "code",
   "execution_count": 14,
   "id": "cbe624dc",
   "metadata": {},
   "outputs": [
    {
     "data": {
      "text/plain": [
       "'\\n'"
      ]
     },
     "execution_count": 14,
     "metadata": {},
     "output_type": "execute_result"
    }
   ],
   "source": [
    "text[3]"
   ]
  },
  {
   "cell_type": "code",
   "execution_count": 15,
   "id": "2559a176",
   "metadata": {},
   "outputs": [
    {
     "data": {
      "text/plain": [
       "'The relationship between these neighbours has been plagued for decades by their difficult history. South Korea was colonised by Japan from 1910 until the end of World War Two. Japanese soldiers forced hundreds of thousands of Koreans to work in its mines and factories. Women were pushed into sexual slavery.\\n'"
      ]
     },
     "execution_count": 15,
     "metadata": {},
     "output_type": "execute_result"
    }
   ],
   "source": [
    "text[4] #paragraph ma aaucha"
   ]
  },
  {
   "cell_type": "code",
   "execution_count": 16,
   "id": "f7f4174f",
   "metadata": {},
   "outputs": [
    {
     "data": {
      "text/plain": [
       "'South Korean President Yoon Suk Yeol has pulled off quite the coup to get this summit.\\n'"
      ]
     },
     "execution_count": 16,
     "metadata": {},
     "output_type": "execute_result"
    }
   ],
   "source": [
    "text[0]"
   ]
  },
  {
   "cell_type": "code",
   "execution_count": 17,
   "id": "ced25350",
   "metadata": {},
   "outputs": [
    {
     "data": {
      "text/plain": [
       "list"
      ]
     },
     "execution_count": 17,
     "metadata": {},
     "output_type": "execute_result"
    }
   ],
   "source": [
    "type(text)"
   ]
  },
  {
   "cell_type": "markdown",
   "id": "72ca555b",
   "metadata": {},
   "source": [
    "# you should close files after opening it"
   ]
  },
  {
   "cell_type": "code",
   "execution_count": 18,
   "id": "55307621",
   "metadata": {},
   "outputs": [],
   "source": [
    "file = open(\"read.txt day-18\",'r')\n",
    "text = file.read()\n",
    "file.close()"
   ]
  },
  {
   "cell_type": "code",
   "execution_count": 19,
   "id": "e40fafdb",
   "metadata": {},
   "outputs": [
    {
     "data": {
      "text/plain": [
       "<_io.TextIOWrapper name='read.txt day-18' mode='r' encoding='cp1252'>"
      ]
     },
     "execution_count": 19,
     "metadata": {},
     "output_type": "execute_result"
    }
   ],
   "source": [
    "file"
   ]
  },
  {
   "cell_type": "code",
   "execution_count": 20,
   "id": "2e834c75",
   "metadata": {},
   "outputs": [
    {
     "data": {
      "text/plain": [
       "'South Korean President Yoon Suk Yeol has pulled off quite the coup to get this summit.\\n\\nThis is the first time a South Korean leader has been invited to Tokyo for such a meeting in 12 years.\\n\\nThe relationship between these neighbours has been plagued for decades by their difficult history. South Korea was colonised by Japan from 1910 until the end of World War Two. Japanese soldiers forced hundreds of thousands of Koreans to work in its mines and factories. Women were pushed into sexual slavery.\\n\\nThese scars, while no longer fresh, are not forgotten nor forgiven here.'"
      ]
     },
     "execution_count": 20,
     "metadata": {},
     "output_type": "execute_result"
    }
   ],
   "source": [
    "text"
   ]
  },
  {
   "cell_type": "code",
   "execution_count": 21,
   "id": "2ac6ad30",
   "metadata": {},
   "outputs": [],
   "source": [
    "with open('read.txt day-18','r') as file: #best way to file handling\n",
    "    text = file.read()"
   ]
  },
  {
   "cell_type": "code",
   "execution_count": 22,
   "id": "323b37f1",
   "metadata": {},
   "outputs": [
    {
     "data": {
      "text/plain": [
       "'South Korean President Yoon Suk Yeol has pulled off quite the coup to get this summit.\\n\\nThis is the first time a South Korean leader has been invited to Tokyo for such a meeting in 12 years.\\n\\nThe relationship between these neighbours has been plagued for decades by their difficult history. South Korea was colonised by Japan from 1910 until the end of World War Two. Japanese soldiers forced hundreds of thousands of Koreans to work in its mines and factories. Women were pushed into sexual slavery.\\n\\nThese scars, while no longer fresh, are not forgotten nor forgiven here.'"
      ]
     },
     "execution_count": 22,
     "metadata": {},
     "output_type": "execute_result"
    }
   ],
   "source": [
    "text"
   ]
  },
  {
   "cell_type": "markdown",
   "id": "0d6d1c76",
   "metadata": {},
   "source": [
    "# File in write mode: new file is created if file does not exist, if exist it replace and create new"
   ]
  },
  {
   "cell_type": "code",
   "execution_count": 23,
   "id": "23138d5d",
   "metadata": {},
   "outputs": [],
   "source": [
    "with open('manzil.txt', 'w') as file:\n",
    "    file.write(\"new file created in code\")"
   ]
  },
  {
   "cell_type": "code",
   "execution_count": 24,
   "id": "9bf8e2b0",
   "metadata": {},
   "outputs": [],
   "source": [
    "with open('manzil.txt','r') as file:\n",
    "    text = file.read()"
   ]
  },
  {
   "cell_type": "code",
   "execution_count": 25,
   "id": "064d58fb",
   "metadata": {},
   "outputs": [
    {
     "data": {
      "text/plain": [
       "'new file created in code'"
      ]
     },
     "execution_count": 25,
     "metadata": {},
     "output_type": "execute_result"
    }
   ],
   "source": [
    "text"
   ]
  },
  {
   "cell_type": "code",
   "execution_count": 26,
   "id": "21025b61",
   "metadata": {},
   "outputs": [],
   "source": [
    "# manzil.txt exist maile tesma feri write garna khojchu"
   ]
  },
  {
   "cell_type": "code",
   "execution_count": 27,
   "id": "d9c3fb1b",
   "metadata": {},
   "outputs": [],
   "source": [
    "with open('manzil.txt','w') as file:\n",
    "    file.write('newest code in the code second time')"
   ]
  },
  {
   "cell_type": "code",
   "execution_count": 28,
   "id": "2d282641",
   "metadata": {},
   "outputs": [],
   "source": [
    "with open('manzil.txt','r') as file:\n",
    "    text = file.read()"
   ]
  },
  {
   "cell_type": "code",
   "execution_count": 29,
   "id": "2d544c5c",
   "metadata": {},
   "outputs": [
    {
     "data": {
      "text/plain": [
       "'newest code in the code second time'"
      ]
     },
     "execution_count": 29,
     "metadata": {},
     "output_type": "execute_result"
    }
   ],
   "source": [
    "text"
   ]
  },
  {
   "cell_type": "code",
   "execution_count": 30,
   "id": "65ce822c",
   "metadata": {},
   "outputs": [
    {
     "data": {
      "text/plain": [
       "str"
      ]
     },
     "execution_count": 30,
     "metadata": {},
     "output_type": "execute_result"
    }
   ],
   "source": [
    "type(text)"
   ]
  },
  {
   "cell_type": "markdown",
   "id": "f835320a",
   "metadata": {},
   "source": [
    "# append mode: creates a new file if it doesnt exist. if it exist append to existing file"
   ]
  },
  {
   "cell_type": "code",
   "execution_count": 31,
   "id": "d15bce7a",
   "metadata": {},
   "outputs": [],
   "source": [
    "with open('manzil2.txt', 'a') as file:\n",
    "    \n",
    "    file.write('new file is created if it doesnt exist ')"
   ]
  },
  {
   "cell_type": "code",
   "execution_count": 32,
   "id": "11165608",
   "metadata": {},
   "outputs": [],
   "source": [
    "with open('manzil2.txt','r') as file:\n",
    "    text = file.read()"
   ]
  },
  {
   "cell_type": "code",
   "execution_count": 33,
   "id": "af9497c8",
   "metadata": {},
   "outputs": [
    {
     "data": {
      "text/plain": [
       "'new file is created if it doesnt existthis is a new text in existing one if the file exisst this is a new text in existing one if the file exisstnew file is created if it doesnt exist this is a new text in existing one if the file exisstnew file is created if it doesnt exist  this is a new text in existing one if the file exisstnew file is created if it doesnt exist new file is created if it doesnt exist  this is a new text in existing one if the file exisstnew file is created if it doesnt exist '"
      ]
     },
     "execution_count": 33,
     "metadata": {},
     "output_type": "execute_result"
    }
   ],
   "source": [
    "text"
   ]
  },
  {
   "cell_type": "code",
   "execution_count": 34,
   "id": "92ef126b",
   "metadata": {},
   "outputs": [],
   "source": [
    "with open('manzil2.txt','a') as file:\n",
    "    file.write(' this is a new text in existing one if the file exisst')"
   ]
  },
  {
   "cell_type": "code",
   "execution_count": 35,
   "id": "eba45f5b",
   "metadata": {},
   "outputs": [],
   "source": [
    "with open('manzil2.txt','r') as file:\n",
    "    text = file.read()"
   ]
  },
  {
   "cell_type": "code",
   "execution_count": 36,
   "id": "def9d8ba",
   "metadata": {},
   "outputs": [
    {
     "data": {
      "text/plain": [
       "'new file is created if it doesnt existthis is a new text in existing one if the file exisst this is a new text in existing one if the file exisstnew file is created if it doesnt exist this is a new text in existing one if the file exisstnew file is created if it doesnt exist  this is a new text in existing one if the file exisstnew file is created if it doesnt exist new file is created if it doesnt exist  this is a new text in existing one if the file exisstnew file is created if it doesnt exist  this is a new text in existing one if the file exisst'"
      ]
     },
     "execution_count": 36,
     "metadata": {},
     "output_type": "execute_result"
    }
   ],
   "source": [
    "text"
   ]
  },
  {
   "cell_type": "code",
   "execution_count": 37,
   "id": "118ac532",
   "metadata": {},
   "outputs": [],
   "source": [
    "# create mode afai gara"
   ]
  },
  {
   "cell_type": "code",
   "execution_count": null,
   "id": "9c848bb4",
   "metadata": {},
   "outputs": [],
   "source": []
  }
 ],
 "metadata": {
  "kernelspec": {
   "display_name": "Python 3 (ipykernel)",
   "language": "python",
   "name": "python3"
  },
  "language_info": {
   "codemirror_mode": {
    "name": "ipython",
    "version": 3
   },
   "file_extension": ".py",
   "mimetype": "text/x-python",
   "name": "python",
   "nbconvert_exporter": "python",
   "pygments_lexer": "ipython3",
   "version": "3.8.10"
  }
 },
 "nbformat": 4,
 "nbformat_minor": 5
}
