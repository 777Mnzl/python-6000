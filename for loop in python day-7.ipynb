{
 "cells": [
  {
   "cell_type": "code",
   "execution_count": 13,
   "id": "eced1765",
   "metadata": {},
   "outputs": [
    {
     "data": {
      "text/plain": [
       "[0, 1, 2, 3, 4, 5, 6, 7, 8, 9, 10, 11]"
      ]
     },
     "execution_count": 13,
     "metadata": {},
     "output_type": "execute_result"
    }
   ],
   "source": [
    "msg = \"Good morning\"\n",
    "list(range(len(msg)))\n"
   ]
  },
  {
   "cell_type": "code",
   "execution_count": 14,
   "id": "5b2e9a11",
   "metadata": {},
   "outputs": [
    {
     "name": "stdout",
     "output_type": "stream",
     "text": [
      "the index is 0 and the letter is G\n",
      "the index is 1 and the letter is o\n",
      "the index is 2 and the letter is o\n",
      "the index is 3 and the letter is d\n",
      "the index is 5 and the letter is m\n",
      "the index is 6 and the letter is o\n",
      "the index is 7 and the letter is r\n",
      "the index is 8 and the letter is n\n",
      "the index is 9 and the letter is i\n",
      "the index is 10 and the letter is n\n",
      "the index is 11 and the letter is g\n"
     ]
    }
   ],
   "source": [
    "for index in range (len(msg)):\n",
    "    letter = msg[index]\n",
    "    if letter == \" \":\n",
    "        continue\n",
    "    print(f\"the index is {index} and the letter is {letter}\")"
   ]
  },
  {
   "cell_type": "code",
   "execution_count": 11,
   "id": "bb62b7db",
   "metadata": {},
   "outputs": [
    {
     "data": {
      "text/plain": [
       "[0, 1, 2, 3, 4, 5, 6, 7, 8, 9, 10]"
      ]
     },
     "execution_count": 11,
     "metadata": {},
     "output_type": "execute_result"
    }
   ],
   "source": [
    "msg = \"hello world\"\n",
    "list(range(len(msg)))"
   ]
  },
  {
   "cell_type": "markdown",
   "id": "63e5c42e",
   "metadata": {},
   "source": [
    "# Print using reverse loop"
   ]
  },
  {
   "cell_type": "code",
   "execution_count": 12,
   "id": "8700a389",
   "metadata": {},
   "outputs": [
    {
     "name": "stdout",
     "output_type": "stream",
     "text": [
      "the index is 10 and the letter is d\n",
      "the index is 9 and the letter is l\n",
      "the index is 8 and the letter is r\n",
      "the index is 7 and the letter is o\n",
      "the index is 6 and the letter is w\n",
      "the index is 4 and the letter is o\n",
      "the index is 3 and the letter is l\n",
      "the index is 2 and the letter is l\n",
      "the index is 1 and the letter is e\n",
      "the index is 0 and the letter is h\n"
     ]
    }
   ],
   "source": [
    "for  index in reversed (range(len(msg))):\n",
    "    letter = msg[index]\n",
    "    if letter == \" \":\n",
    "        continue \n",
    "    print(f\"the index is {index} and the letter is {letter}\")"
   ]
  },
  {
   "cell_type": "code",
   "execution_count": 6,
   "id": "2386f408",
   "metadata": {},
   "outputs": [
    {
     "data": {
      "text/plain": [
       "[0, 1, 2, 3, 4, 5, 6, 7, 8, 9, 10]"
      ]
     },
     "execution_count": 6,
     "metadata": {},
     "output_type": "execute_result"
    }
   ],
   "source": [
    "msg = \"hello world\"\n",
    "list(range(len(msg)))"
   ]
  },
  {
   "cell_type": "markdown",
   "id": "19f17560",
   "metadata": {},
   "source": [
    "# print using loop"
   ]
  },
  {
   "cell_type": "code",
   "execution_count": 10,
   "id": "02c7d153",
   "metadata": {},
   "outputs": [
    {
     "name": "stdout",
     "output_type": "stream",
     "text": [
      "the index is 0 and the letter is h\n",
      "the index is 1 and the letter is e\n",
      "the index is 2 and the letter is l\n",
      "the index is 3 and the letter is l\n",
      "the index is 4 and the letter is o\n",
      "the index is 6 and the letter is w\n",
      "the index is 7 and the letter is o\n",
      "the index is 8 and the letter is r\n",
      "the index is 9 and the letter is l\n",
      "the index is 10 and the letter is d\n"
     ]
    }
   ],
   "source": [
    "for index in range(len(msg)):\n",
    "    letter = msg[index]\n",
    "    if letter == \" \":\n",
    "        continue \n",
    "    print(f\"the index is {index} and the letter is {letter}\")"
   ]
  },
  {
   "cell_type": "markdown",
   "id": "23f36cb6",
   "metadata": {},
   "source": [
    "# Wap to print vowels and consonant in given word"
   ]
  },
  {
   "cell_type": "code",
   "execution_count": 7,
   "id": "e76443bd",
   "metadata": {},
   "outputs": [
    {
     "name": "stdout",
     "output_type": "stream",
     "text": [
      "the given word is a and it is vowel\n",
      "the given word is e and it is vowel\n",
      "the given word is y and it is consonent\n",
      "the given word is i and it is vowel\n"
     ]
    }
   ],
   "source": [
    "words = \"aeyi\"\n",
    "for index in range(len(words)):\n",
    "    letter = words[index]\n",
    "    if letter ==\"a\" or letter == \"e\" or letter == \"i\" or letter ==\"o\"or letter == \"u\":\n",
    "        print(f\"the given word is {letter} and it is vowel\")\n",
    "    else:\n",
    "        print(f\"the given word is {letter} and it is consonent\")"
   ]
  },
  {
   "cell_type": "markdown",
   "id": "4334d5bf",
   "metadata": {},
   "source": [
    "# break vs continue statement "
   ]
  },
  {
   "cell_type": "code",
   "execution_count": 8,
   "id": "b3ac3bdc",
   "metadata": {},
   "outputs": [
    {
     "name": "stdout",
     "output_type": "stream",
     "text": [
      "the given word is a and it is vowel\n",
      "the given word is b and it is consonent\n",
      "the given word is c and it is consonent\n",
      "the given word is d and it is consonent\n",
      "the given word is e and it is vowel\n",
      "the given word is f and it is consonent\n",
      "the given word is g and it is consonent\n",
      "the given word is h and it is consonent\n",
      "the given word is i and it is vowel\n"
     ]
    }
   ],
   "source": [
    "words = \"abc def ghi\"\n",
    "for index in range(len(words)):\n",
    "    letter = words[index]\n",
    "    if letter == \"a\" or letter ==\"e\" or letter == \"i\" or letter ==\"o\" or letter== \"u\":\n",
    "        print(f\"the given word is {letter} and it is vowel\")\n",
    "    elif letter ==\" \":\n",
    "        continue\n",
    "    elif letter == \" \":\n",
    "        continue\n",
    "    else:\n",
    "        print(f\"the given word is {letter} and it is consonent\")"
   ]
  },
  {
   "cell_type": "code",
   "execution_count": 9,
   "id": "e3c933ab",
   "metadata": {},
   "outputs": [
    {
     "name": "stdout",
     "output_type": "stream",
     "text": [
      "the given word is a and it is vowel\n",
      "the given word is b and it is consonent\n",
      "the given word is c and it is consonent\n"
     ]
    }
   ],
   "source": [
    "words = \"abc def ghi\"\n",
    "for index in range(len(words)):\n",
    "    letter = words[index]\n",
    "    if letter == \"a\" or letter ==\"e\" or letter == \"i\" or letter ==\"o\" or letter== \"u\":\n",
    "        print(f\"the given word is {letter} and it is vowel\")\n",
    "    elif letter ==\" \":\n",
    "        break\n",
    "    elif letter == \" \":\n",
    "        break\n",
    "    else:\n",
    "        print(f\"the given word is {letter} and it is consonent\")"
   ]
  },
  {
   "cell_type": "code",
   "execution_count": 10,
   "id": "ad04d75a",
   "metadata": {},
   "outputs": [
    {
     "name": "stdout",
     "output_type": "stream",
     "text": [
      "1\n",
      "2\n",
      "4\n"
     ]
    }
   ],
   "source": [
    "for num in range (1,5):\n",
    "    if num == 3:\n",
    "        continue\n",
    "    print(num)"
   ]
  },
  {
   "cell_type": "code",
   "execution_count": 3,
   "id": "d0316dca",
   "metadata": {},
   "outputs": [
    {
     "name": "stdout",
     "output_type": "stream",
     "text": [
      "1\n",
      "2\n"
     ]
    }
   ],
   "source": [
    "for num in range (1,5):\n",
    "    if num == 3:\n",
    "        break\n",
    "    print(num)"
   ]
  },
  {
   "cell_type": "code",
   "execution_count": 13,
   "id": "ef568d66",
   "metadata": {},
   "outputs": [],
   "source": [
    "list = [[\"manzil\",1],[\"hero\",2],[\"zero\",3],[\"coffee\",4]]"
   ]
  },
  {
   "cell_type": "code",
   "execution_count": 18,
   "id": "a916f2ce",
   "metadata": {},
   "outputs": [
    {
     "name": "stdout",
     "output_type": "stream",
     "text": [
      "manzil and the number is 1\n",
      "hero and the number is 2\n",
      "zero and the number is 3\n",
      "coffee and the number is 4\n"
     ]
    }
   ],
   "source": [
    "for index, number in list:\n",
    "    print(index,\"and the number is\", number)"
   ]
  },
  {
   "cell_type": "code",
   "execution_count": null,
   "id": "0a9013a3",
   "metadata": {},
   "outputs": [],
   "source": []
  }
 ],
 "metadata": {
  "kernelspec": {
   "display_name": "Python 3 (ipykernel)",
   "language": "python",
   "name": "python3"
  },
  "language_info": {
   "codemirror_mode": {
    "name": "ipython",
    "version": 3
   },
   "file_extension": ".py",
   "mimetype": "text/x-python",
   "name": "python",
   "nbconvert_exporter": "python",
   "pygments_lexer": "ipython3",
   "version": "3.8.10"
  }
 },
 "nbformat": 4,
 "nbformat_minor": 5
}
