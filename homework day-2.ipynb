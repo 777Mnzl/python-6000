{
 "cells": [
  {
   "cell_type": "markdown",
   "id": "cd81a4ca",
   "metadata": {},
   "source": [
    "# Addition\n"
   ]
  },
  {
   "cell_type": "code",
   "execution_count": 1,
   "id": "d4ff9d79",
   "metadata": {},
   "outputs": [
    {
     "data": {
      "text/plain": [
       "3"
      ]
     },
     "execution_count": 1,
     "metadata": {},
     "output_type": "execute_result"
    }
   ],
   "source": [
    "1+2"
   ]
  },
  {
   "cell_type": "code",
   "execution_count": 2,
   "id": "ba5d7c4f",
   "metadata": {},
   "outputs": [
    {
     "data": {
      "text/plain": [
       "4"
      ]
     },
     "execution_count": 2,
     "metadata": {},
     "output_type": "execute_result"
    }
   ],
   "source": [
    "2++2"
   ]
  },
  {
   "cell_type": "code",
   "execution_count": 3,
   "id": "8a797183",
   "metadata": {},
   "outputs": [
    {
     "data": {
      "text/plain": [
       "5"
      ]
     },
     "execution_count": 3,
     "metadata": {},
     "output_type": "execute_result"
    }
   ],
   "source": [
    "2++3"
   ]
  },
  {
   "cell_type": "code",
   "execution_count": 4,
   "id": "8c1c5a95",
   "metadata": {},
   "outputs": [
    {
     "name": "stdout",
     "output_type": "stream",
     "text": [
      "146\n"
     ]
    }
   ],
   "source": [
    "a = 12\n",
    "b = 134\n",
    "print(a+b)"
   ]
  },
  {
   "cell_type": "code",
   "execution_count": 5,
   "id": "54a302e9",
   "metadata": {},
   "outputs": [
    {
     "name": "stdout",
     "output_type": "stream",
     "text": [
      "235\n"
     ]
    }
   ],
   "source": [
    "a = 12\n",
    "b =223\n",
    "sum = a + b\n",
    "print(sum)"
   ]
  },
  {
   "cell_type": "markdown",
   "id": "35af41c4",
   "metadata": {},
   "source": [
    "# Subtraction\n"
   ]
  },
  {
   "cell_type": "code",
   "execution_count": 6,
   "id": "7f9cb29b",
   "metadata": {},
   "outputs": [
    {
     "data": {
      "text/plain": [
       "2"
      ]
     },
     "execution_count": 6,
     "metadata": {},
     "output_type": "execute_result"
    }
   ],
   "source": [
    "4-2\n"
   ]
  },
  {
   "cell_type": "code",
   "execution_count": 7,
   "id": "c18e0b3b",
   "metadata": {},
   "outputs": [
    {
     "data": {
      "text/plain": [
       "-32"
      ]
     },
     "execution_count": 7,
     "metadata": {},
     "output_type": "execute_result"
    }
   ],
   "source": [
    "2-34\n"
   ]
  },
  {
   "cell_type": "code",
   "execution_count": 8,
   "id": "16a6d001",
   "metadata": {},
   "outputs": [
    {
     "data": {
      "text/plain": [
       "6"
      ]
     },
     "execution_count": 8,
     "metadata": {},
     "output_type": "execute_result"
    }
   ],
   "source": [
    "2--4"
   ]
  },
  {
   "cell_type": "code",
   "execution_count": 9,
   "id": "a22d3b85",
   "metadata": {},
   "outputs": [
    {
     "data": {
      "text/plain": [
       "20"
      ]
     },
     "execution_count": 9,
     "metadata": {},
     "output_type": "execute_result"
    }
   ],
   "source": [
    "23-3"
   ]
  },
  {
   "cell_type": "code",
   "execution_count": 10,
   "id": "8fa88f74",
   "metadata": {},
   "outputs": [
    {
     "name": "stdout",
     "output_type": "stream",
     "text": [
      "10\n"
     ]
    }
   ],
   "source": [
    "a = 12\n",
    "b = 2\n",
    "print(a-b)"
   ]
  },
  {
   "cell_type": "markdown",
   "id": "84e2c0cd",
   "metadata": {},
   "source": [
    "# Multiplication\n"
   ]
  },
  {
   "cell_type": "code",
   "execution_count": 11,
   "id": "a878a7a9",
   "metadata": {},
   "outputs": [
    {
     "data": {
      "text/plain": [
       "3"
      ]
     },
     "execution_count": 11,
     "metadata": {},
     "output_type": "execute_result"
    }
   ],
   "source": [
    "3*1"
   ]
  },
  {
   "cell_type": "code",
   "execution_count": 12,
   "id": "9da47aba",
   "metadata": {},
   "outputs": [
    {
     "data": {
      "text/plain": [
       "168"
      ]
     },
     "execution_count": 12,
     "metadata": {},
     "output_type": "execute_result"
    }
   ],
   "source": [
    "3*56"
   ]
  },
  {
   "cell_type": "code",
   "execution_count": 13,
   "id": "8036b5ae",
   "metadata": {},
   "outputs": [
    {
     "data": {
      "text/plain": [
       "6"
      ]
     },
     "execution_count": 13,
     "metadata": {},
     "output_type": "execute_result"
    }
   ],
   "source": [
    "3*b\n"
   ]
  },
  {
   "cell_type": "code",
   "execution_count": 16,
   "id": "4ec40839",
   "metadata": {},
   "outputs": [
    {
     "data": {
      "text/plain": [
       "276"
      ]
     },
     "execution_count": 16,
     "metadata": {},
     "output_type": "execute_result"
    }
   ],
   "source": [
    "12*23"
   ]
  },
  {
   "cell_type": "code",
   "execution_count": 18,
   "id": "2c965921",
   "metadata": {},
   "outputs": [
    {
     "name": "stdout",
     "output_type": "stream",
     "text": [
      "144\n"
     ]
    }
   ],
   "source": [
    "a = 12\n",
    "b = 12\n",
    "mul = a * b\n",
    "print(mul)\n"
   ]
  },
  {
   "cell_type": "markdown",
   "id": "1d06f14b",
   "metadata": {},
   "source": [
    "# Division\n"
   ]
  },
  {
   "cell_type": "code",
   "execution_count": 19,
   "id": "22327588",
   "metadata": {},
   "outputs": [
    {
     "data": {
      "text/plain": [
       "12.0"
      ]
     },
     "execution_count": 19,
     "metadata": {},
     "output_type": "execute_result"
    }
   ],
   "source": [
    "24/2"
   ]
  },
  {
   "cell_type": "code",
   "execution_count": 20,
   "id": "eebca3fa",
   "metadata": {},
   "outputs": [
    {
     "data": {
      "text/plain": [
       "10.5"
      ]
     },
     "execution_count": 20,
     "metadata": {},
     "output_type": "execute_result"
    }
   ],
   "source": [
    "21/2"
   ]
  },
  {
   "cell_type": "code",
   "execution_count": 21,
   "id": "660d8739",
   "metadata": {},
   "outputs": [
    {
     "name": "stdout",
     "output_type": "stream",
     "text": [
      "12.0\n"
     ]
    }
   ],
   "source": [
    "a = 24\n",
    "b = 2\n",
    "print(a/b)"
   ]
  },
  {
   "cell_type": "code",
   "execution_count": 22,
   "id": "4949e6a0",
   "metadata": {},
   "outputs": [
    {
     "name": "stdout",
     "output_type": "stream",
     "text": [
      "10.0\n"
     ]
    }
   ],
   "source": [
    "a = 40\n",
    "b = 4\n",
    "div = a/b\n",
    "print(div)"
   ]
  },
  {
   "cell_type": "markdown",
   "id": "c3f94750",
   "metadata": {},
   "source": [
    "# Exponentional"
   ]
  },
  {
   "cell_type": "code",
   "execution_count": 23,
   "id": "ce5c2626",
   "metadata": {},
   "outputs": [
    {
     "data": {
      "text/plain": [
       "279841"
      ]
     },
     "execution_count": 23,
     "metadata": {},
     "output_type": "execute_result"
    }
   ],
   "source": [
    "23 ** 4"
   ]
  },
  {
   "cell_type": "code",
   "execution_count": 24,
   "id": "954761f7",
   "metadata": {},
   "outputs": [
    {
     "data": {
      "text/plain": [
       "991035916125874083964008999"
      ]
     },
     "execution_count": 24,
     "metadata": {},
     "output_type": "execute_result"
    }
   ],
   "source": [
    "999 ** 9"
   ]
  },
  {
   "cell_type": "code",
   "execution_count": 26,
   "id": "2fd511a5",
   "metadata": {},
   "outputs": [
    {
     "data": {
      "text/plain": [
       "990148353526723487602263124753282625570559528895791057324326529121794837894053513464422176826916433932586924386677766244032001623756821400432975051208820204980098735552703841362304669970510691243800218202840374329378800694920309791954185117798434329591212159106298699938669908067573374724331208942425544893910910073205049031656789220889560732962926226305865706593594917896276756396848514900989999"
      ]
     },
     "execution_count": 26,
     "metadata": {},
     "output_type": "execute_result"
    }
   ],
   "source": [
    "9999 ** 99"
   ]
  },
  {
   "cell_type": "markdown",
   "id": "0b1a0214",
   "metadata": {},
   "source": [
    "# Floor Division\n"
   ]
  },
  {
   "cell_type": "code",
   "execution_count": 27,
   "id": "002701a9",
   "metadata": {},
   "outputs": [
    {
     "data": {
      "text/plain": [
       "61"
      ]
     },
     "execution_count": 27,
     "metadata": {},
     "output_type": "execute_result"
    }
   ],
   "source": [
    "122//2\n"
   ]
  },
  {
   "cell_type": "code",
   "execution_count": 28,
   "id": "48f0e791",
   "metadata": {},
   "outputs": [
    {
     "data": {
      "text/plain": [
       "27"
      ]
     },
     "execution_count": 28,
     "metadata": {},
     "output_type": "execute_result"
    }
   ],
   "source": [
    "1222//45\n"
   ]
  },
  {
   "cell_type": "code",
   "execution_count": 29,
   "id": "2b7a9b0a",
   "metadata": {},
   "outputs": [
    {
     "name": "stdout",
     "output_type": "stream",
     "text": [
      "28\n"
     ]
    }
   ],
   "source": [
    "a = 1222\n",
    "b = 43\n",
    "print(a//b)"
   ]
  },
  {
   "cell_type": "code",
   "execution_count": 31,
   "id": "436c5862",
   "metadata": {},
   "outputs": [
    {
     "name": "stdout",
     "output_type": "stream",
     "text": [
      "36\n"
     ]
    }
   ],
   "source": [
    "a = 1233\n",
    "b = 34\n",
    "\n",
    "floor_div = a//b\n",
    "print(floor_div)"
   ]
  },
  {
   "cell_type": "markdown",
   "id": "6e436659",
   "metadata": {},
   "source": [
    "# Modulus\n"
   ]
  },
  {
   "cell_type": "code",
   "execution_count": 32,
   "id": "ca307a77",
   "metadata": {},
   "outputs": [
    {
     "data": {
      "text/plain": [
       "0"
      ]
     },
     "execution_count": 32,
     "metadata": {},
     "output_type": "execute_result"
    }
   ],
   "source": [
    "122%2"
   ]
  },
  {
   "cell_type": "code",
   "execution_count": 33,
   "id": "2f9d2d59",
   "metadata": {},
   "outputs": [
    {
     "data": {
      "text/plain": [
       "20"
      ]
     },
     "execution_count": 33,
     "metadata": {},
     "output_type": "execute_result"
    }
   ],
   "source": [
    "122 % 34"
   ]
  },
  {
   "cell_type": "code",
   "execution_count": 34,
   "id": "3f5af09d",
   "metadata": {},
   "outputs": [
    {
     "name": "stdout",
     "output_type": "stream",
     "text": [
      "0\n"
     ]
    }
   ],
   "source": [
    "a = 1224\n",
    "b = 34\n",
    "modulus = a % b\n",
    "print(modulus)"
   ]
  },
  {
   "cell_type": "code",
   "execution_count": 35,
   "id": "8a172b85",
   "metadata": {},
   "outputs": [
    {
     "data": {
      "text/plain": [
       "20"
      ]
     },
     "execution_count": 35,
     "metadata": {},
     "output_type": "execute_result"
    }
   ],
   "source": [
    "122 % 34\n"
   ]
  },
  {
   "cell_type": "code",
   "execution_count": 36,
   "id": "9494a580",
   "metadata": {},
   "outputs": [
    {
     "data": {
      "text/plain": [
       "20"
      ]
     },
     "execution_count": 36,
     "metadata": {},
     "output_type": "execute_result"
    }
   ],
   "source": [
    "190 % 34"
   ]
  },
  {
   "cell_type": "markdown",
   "id": "42017b35",
   "metadata": {},
   "source": [
    "# Format and Fstring\n"
   ]
  },
  {
   "cell_type": "code",
   "execution_count": 41,
   "id": "f25f0260",
   "metadata": {},
   "outputs": [
    {
     "name": "stdout",
     "output_type": "stream",
     "text": [
      "the first num is 12\n"
     ]
    }
   ],
   "source": [
    "a = 12\n",
    "b = 223\n",
    "print(f\"the first num is {a}\")"
   ]
  },
  {
   "cell_type": "code",
   "execution_count": null,
   "id": "3d1bb357",
   "metadata": {},
   "outputs": [],
   "source": [
    "a = 233\n",
    "b = 235\n",
    "floor_div=a//b\n",
    "print(f\"the first nums is {a}, and the second num is {b}, the total is {floor_div}\")"
   ]
  }
 ],
 "metadata": {
  "kernelspec": {
   "display_name": "Python 3 (ipykernel)",
   "language": "python",
   "name": "python3"
  },
  "language_info": {
   "codemirror_mode": {
    "name": "ipython",
    "version": 3
   },
   "file_extension": ".py",
   "mimetype": "text/x-python",
   "name": "python",
   "nbconvert_exporter": "python",
   "pygments_lexer": "ipython3",
   "version": "3.8.10"
  }
 },
 "nbformat": 4,
 "nbformat_minor": 5
}
