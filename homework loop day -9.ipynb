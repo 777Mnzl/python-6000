{
 "cells": [
  {
   "cell_type": "code",
   "execution_count": 1,
   "id": "2c94302d",
   "metadata": {},
   "outputs": [
    {
     "name": "stdout",
     "output_type": "stream",
     "text": [
      "[1, 4, 9, 16, 25, 36, 49, 64, 81, 100, 144, 169, 196, 225, 256]\n"
     ]
    }
   ],
   "source": [
    "#wap to find the square of given number in the list (1 to 15)\n",
    "\n",
    "list1 = [1,2,3,4,5,6,7,8,9,10,11,12,13,14,15]\n",
    "for num in range(len(list1)):\n",
    "    list1[num]=list1[num]**2\n",
    "print(list1)\n",
    "    "
   ]
  },
  {
   "cell_type": "code",
   "execution_count": 3,
   "id": "d7ebc1e0",
   "metadata": {},
   "outputs": [
    {
     "name": "stdout",
     "output_type": "stream",
     "text": [
      "[1, 8, 27, 64, 125, 216, 343, 512, 729, 1000, 1331, 1728, 2197, 2744, 3375]\n"
     ]
    }
   ],
   "source": [
    "#wap to find the cube of given number in the list (1 to 15)\n",
    "\n",
    "list2 = [1,2,3,4,5,6,7,8,9,10,11,12,13,14,15]\n",
    "for num in range(len(list2)):\n",
    "    list2[num]=list2[num]**3\n",
    "print(list2)\n"
   ]
  },
  {
   "cell_type": "code",
   "execution_count": 1,
   "id": "26f4488b",
   "metadata": {},
   "outputs": [
    {
     "name": "stdout",
     "output_type": "stream",
     "text": [
      "['apple', 'banana', 'mango', 'orange']\n"
     ]
    }
   ],
   "source": [
    "#wap to store lower case value of given list\n",
    "\n",
    "fruits = [\"APPLE\",\"BANANA\",\"MANGO\",\"ORANGE\"]\n",
    "newlist= []\n",
    "for fruit in fruits:\n",
    "    newlist.append(fruit.lower())\n",
    "print(newlist)\n"
   ]
  },
  {
   "cell_type": "code",
   "execution_count": 2,
   "id": "66a08026",
   "metadata": {},
   "outputs": [
    {
     "name": "stdout",
     "output_type": "stream",
     "text": [
      "['APPLE', 'BANANA', 'MANGO', 'ORANGE']\n"
     ]
    }
   ],
   "source": [
    "fruits = [\"apple\",\"banana\",\"mango\",\"orange\"]\n",
    "newlist = []\n",
    "for fruit in fruits:\n",
    "    newlist.append(fruit.upper())\n",
    "print(newlist)"
   ]
  },
  {
   "cell_type": "code",
   "execution_count": null,
   "id": "03e0bb05",
   "metadata": {},
   "outputs": [],
   "source": []
  }
 ],
 "metadata": {
  "kernelspec": {
   "display_name": "Python 3 (ipykernel)",
   "language": "python",
   "name": "python3"
  },
  "language_info": {
   "codemirror_mode": {
    "name": "ipython",
    "version": 3
   },
   "file_extension": ".py",
   "mimetype": "text/x-python",
   "name": "python",
   "nbconvert_exporter": "python",
   "pygments_lexer": "ipython3",
   "version": "3.8.10"
  }
 },
 "nbformat": 4,
 "nbformat_minor": 5
}
