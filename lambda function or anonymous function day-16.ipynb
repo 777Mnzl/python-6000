{
 "cells": [
  {
   "cell_type": "markdown",
   "id": "ee3db2e4",
   "metadata": {},
   "source": [
    "# lambda function\n",
    "```python\n",
    "lambda x : Expression # x is an arguement to lamda function\n",
    "```\n",
    "we generally use lamda function with()\n",
    "* map()\n",
    "* filter()"
   ]
  },
  {
   "cell_type": "code",
   "execution_count": 3,
   "id": "41259776",
   "metadata": {},
   "outputs": [
    {
     "data": {
      "text/plain": [
       "<map at 0x24c3d9e8430>"
      ]
     },
     "execution_count": 3,
     "metadata": {},
     "output_type": "execute_result"
    }
   ],
   "source": [
    "nums = [3,5,6,7]\n",
    "map(lambda x: x**3, nums)"
   ]
  },
  {
   "cell_type": "code",
   "execution_count": 4,
   "id": "a84fee5f",
   "metadata": {},
   "outputs": [
    {
     "data": {
      "text/plain": [
       "[27, 125, 216, 343]"
      ]
     },
     "execution_count": 4,
     "metadata": {},
     "output_type": "execute_result"
    }
   ],
   "source": [
    "list(map(lambda x: x**3, nums))"
   ]
  },
  {
   "cell_type": "code",
   "execution_count": 5,
   "id": "db25cfd0",
   "metadata": {},
   "outputs": [
    {
     "data": {
      "text/plain": [
       "[9, 25, 36, 49]"
      ]
     },
     "execution_count": 5,
     "metadata": {},
     "output_type": "execute_result"
    }
   ],
   "source": [
    "nums = [3,5,6,7]\n",
    "list(map(lambda x: x**2, nums))"
   ]
  },
  {
   "cell_type": "code",
   "execution_count": 6,
   "id": "1fbc3f94",
   "metadata": {},
   "outputs": [],
   "source": [
    "nums = range(1,10)"
   ]
  },
  {
   "cell_type": "code",
   "execution_count": 16,
   "id": "70e9c201",
   "metadata": {},
   "outputs": [
    {
     "data": {
      "text/plain": [
       "{2, 4, 6, 8}"
      ]
     },
     "execution_count": 16,
     "metadata": {},
     "output_type": "execute_result"
    }
   ],
   "source": [
    "set(filter(lambda x: x%2 == 0, nums)) # even numbers"
   ]
  },
  {
   "cell_type": "code",
   "execution_count": 18,
   "id": "2bb1bdad",
   "metadata": {},
   "outputs": [
    {
     "data": {
      "text/plain": [
       "{1, 3, 5, 7, 9}"
      ]
     },
     "execution_count": 18,
     "metadata": {},
     "output_type": "execute_result"
    }
   ],
   "source": [
    "set(filter(lambda x: x%2 != 0, nums)) # odd numbers"
   ]
  },
  {
   "cell_type": "code",
   "execution_count": 7,
   "id": "b401fc7b",
   "metadata": {},
   "outputs": [
    {
     "data": {
      "text/plain": [
       "[[1, 56, 7, 8], [1, 56, 7, 8], [1, 56, 7, 8], [1, 56, 7, 8]]"
      ]
     },
     "execution_count": 7,
     "metadata": {},
     "output_type": "execute_result"
    }
   ],
   "source": [
    "nums =  [1,56,7,8]\n",
    "list(map(lambda x: nums,nums))"
   ]
  },
  {
   "cell_type": "code",
   "execution_count": 13,
   "id": "b8c07129",
   "metadata": {},
   "outputs": [
    {
     "data": {
      "text/plain": [
       "['manzil', 'manzil', 'manzil', 'manzil', 'manzil', 'manzil']"
      ]
     },
     "execution_count": 13,
     "metadata": {},
     "output_type": "execute_result"
    }
   ],
   "source": [
    "name = \"manzil\"\n",
    "list(map(lambda x: name, name))"
   ]
  },
  {
   "cell_type": "code",
   "execution_count": null,
   "id": "6438fdbc",
   "metadata": {},
   "outputs": [],
   "source": [
    "word = \"manzil\""
   ]
  }
 ],
 "metadata": {
  "kernelspec": {
   "display_name": "Python 3 (ipykernel)",
   "language": "python",
   "name": "python3"
  },
  "language_info": {
   "codemirror_mode": {
    "name": "ipython",
    "version": 3
   },
   "file_extension": ".py",
   "mimetype": "text/x-python",
   "name": "python",
   "nbconvert_exporter": "python",
   "pygments_lexer": "ipython3",
   "version": "3.8.10"
  }
 },
 "nbformat": 4,
 "nbformat_minor": 5
}
