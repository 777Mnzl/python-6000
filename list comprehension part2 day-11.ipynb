{
 "cells": [
  {
   "cell_type": "markdown",
   "id": "a55053fc",
   "metadata": {},
   "source": [
    "# syntax"
   ]
  },
  {
   "cell_type": "code",
   "execution_count": null,
   "id": "8b9a0b97",
   "metadata": {},
   "outputs": [],
   "source": [
    "[Expression for item in iterables]\n",
    "[Expression for item in iterables if True]\n",
    "[Expression if True else expression for item in iterables]"
   ]
  },
  {
   "cell_type": "code",
   "execution_count": 1,
   "id": "c1c60cf5",
   "metadata": {},
   "outputs": [
    {
     "data": {
      "text/plain": [
       "{4, 9, 16, 25}"
      ]
     },
     "execution_count": 1,
     "metadata": {},
     "output_type": "execute_result"
    }
   ],
   "source": [
    "iterables = [2,3,4,5]\n",
    "{item**2 for item in iterables }"
   ]
  },
  {
   "cell_type": "code",
   "execution_count": 2,
   "id": "1d3d1727",
   "metadata": {},
   "outputs": [
    {
     "data": {
      "text/plain": [
       "[4, 16]"
      ]
     },
     "execution_count": 2,
     "metadata": {},
     "output_type": "execute_result"
    }
   ],
   "source": [
    "[item ** 2 for item in iterables if item % 2 == 0] #square of even number only"
   ]
  },
  {
   "cell_type": "code",
   "execution_count": 3,
   "id": "0164d3e5",
   "metadata": {},
   "outputs": [],
   "source": [
    "# if even square else cube"
   ]
  },
  {
   "cell_type": "code",
   "execution_count": 4,
   "id": "dd5c1823",
   "metadata": {},
   "outputs": [
    {
     "data": {
      "text/plain": [
       "[4, 27, 16, 125]"
      ]
     },
     "execution_count": 4,
     "metadata": {},
     "output_type": "execute_result"
    }
   ],
   "source": [
    "[item ** 2 if item % 2 == 0 else item ** 3 for item in iterables]"
   ]
  },
  {
   "cell_type": "code",
   "execution_count": null,
   "id": "f259f06a",
   "metadata": {},
   "outputs": [],
   "source": []
  }
 ],
 "metadata": {
  "kernelspec": {
   "display_name": "Python 3 (ipykernel)",
   "language": "python",
   "name": "python3"
  },
  "language_info": {
   "codemirror_mode": {
    "name": "ipython",
    "version": 3
   },
   "file_extension": ".py",
   "mimetype": "text/x-python",
   "name": "python",
   "nbconvert_exporter": "python",
   "pygments_lexer": "ipython3",
   "version": "3.8.10"
  }
 },
 "nbformat": 4,
 "nbformat_minor": 5
}
