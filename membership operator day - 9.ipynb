{
 "cells": [
  {
   "cell_type": "markdown",
   "id": "a2cb30ba",
   "metadata": {},
   "source": [
    "# how to check if something is in the list or not? - membership operators"
   ]
  },
  {
   "cell_type": "code",
   "execution_count": null,
   "id": "64adc249",
   "metadata": {},
   "outputs": [],
   "source": [
    "student = [\"shraddha\",\"manzil\",\"jyoti\",\"darshan\",\"rekha\"] \n",
    "\"kshitiz\" in student"
   ]
  },
  {
   "cell_type": "code",
   "execution_count": null,
   "id": "a5ce4b84",
   "metadata": {},
   "outputs": [],
   "source": [
    "\"rekha\" in student"
   ]
  },
  {
   "cell_type": "code",
   "execution_count": null,
   "id": "7f155562",
   "metadata": {},
   "outputs": [],
   "source": [
    "\"ram\" not in student"
   ]
  },
  {
   "cell_type": "code",
   "execution_count": null,
   "id": "4e03c3a2",
   "metadata": {},
   "outputs": [],
   "source": [
    "\"ram\" in student"
   ]
  },
  {
   "cell_type": "code",
   "execution_count": null,
   "id": "466192fa",
   "metadata": {},
   "outputs": [],
   "source": [
    "\"manzil\" not in student"
   ]
  },
  {
   "cell_type": "markdown",
   "id": "079fa871",
   "metadata": {},
   "source": [
    "# python list are mutable"
   ]
  },
  {
   "cell_type": "code",
   "execution_count": null,
   "id": "ac98a419",
   "metadata": {},
   "outputs": [],
   "source": [
    "fruits = [\"apple\",\"banana\",\"mango\",\"orange\",\"pear\"]\n",
    "fruits [1]"
   ]
  },
  {
   "cell_type": "code",
   "execution_count": null,
   "id": "1cb47404",
   "metadata": {},
   "outputs": [],
   "source": [
    "fruits [1] = \"papaya\""
   ]
  },
  {
   "cell_type": "code",
   "execution_count": null,
   "id": "5ea5f059",
   "metadata": {},
   "outputs": [],
   "source": [
    "fruits[1]"
   ]
  },
  {
   "cell_type": "code",
   "execution_count": null,
   "id": "29baf392",
   "metadata": {},
   "outputs": [],
   "source": [
    "fruits"
   ]
  },
  {
   "cell_type": "code",
   "execution_count": null,
   "id": "3d670b2d",
   "metadata": {},
   "outputs": [],
   "source": [
    "fruits [1:3]"
   ]
  },
  {
   "cell_type": "code",
   "execution_count": null,
   "id": "5a93459f",
   "metadata": {},
   "outputs": [],
   "source": [
    "fruits"
   ]
  },
  {
   "cell_type": "code",
   "execution_count": null,
   "id": "e94879de",
   "metadata": {},
   "outputs": [],
   "source": [
    "fruits[1:3] =[\"black current\",\"guava\"] "
   ]
  },
  {
   "cell_type": "code",
   "execution_count": null,
   "id": "f96fe79e",
   "metadata": {},
   "outputs": [],
   "source": [
    "fruits"
   ]
  },
  {
   "cell_type": "markdown",
   "id": "7e8e853d",
   "metadata": {},
   "source": [
    "# List methods\n",
    "# .insert()"
   ]
  },
  {
   "cell_type": "code",
   "execution_count": null,
   "id": "21bccb9e",
   "metadata": {},
   "outputs": [],
   "source": [
    "# insert ()"
   ]
  },
  {
   "cell_type": "code",
   "execution_count": 1,
   "id": "336e4b8f",
   "metadata": {},
   "outputs": [],
   "source": [
    "fruits = ['apple', 'black current', 'guava', 'orange', 'pear']"
   ]
  },
  {
   "cell_type": "code",
   "execution_count": 2,
   "id": "e5a8d485",
   "metadata": {},
   "outputs": [],
   "source": [
    "fruits.insert(1, \"dragaonfruit\")"
   ]
  },
  {
   "cell_type": "code",
   "execution_count": 3,
   "id": "e85d6805",
   "metadata": {},
   "outputs": [
    {
     "data": {
      "text/plain": [
       "['apple', 'dragaonfruit', 'black current', 'guava', 'orange', 'pear']"
      ]
     },
     "execution_count": 3,
     "metadata": {},
     "output_type": "execute_result"
    }
   ],
   "source": [
    "fruits"
   ]
  },
  {
   "cell_type": "markdown",
   "id": "587d398b",
   "metadata": {},
   "source": [
    "# .append()"
   ]
  },
  {
   "cell_type": "code",
   "execution_count": null,
   "id": "fad83fda",
   "metadata": {},
   "outputs": [],
   "source": [
    "# creating empty list"
   ]
  },
  {
   "cell_type": "code",
   "execution_count": 4,
   "id": "e15fcc5c",
   "metadata": {},
   "outputs": [],
   "source": [
    "cars = []"
   ]
  },
  {
   "cell_type": "code",
   "execution_count": 5,
   "id": "12d3e24d",
   "metadata": {},
   "outputs": [
    {
     "data": {
      "text/plain": [
       "list"
      ]
     },
     "execution_count": 5,
     "metadata": {},
     "output_type": "execute_result"
    }
   ],
   "source": [
    "type(cars)"
   ]
  },
  {
   "cell_type": "code",
   "execution_count": 6,
   "id": "e7dcf012",
   "metadata": {},
   "outputs": [
    {
     "data": {
      "text/plain": [
       "[]"
      ]
     },
     "execution_count": 6,
     "metadata": {},
     "output_type": "execute_result"
    }
   ],
   "source": [
    "cars"
   ]
  },
  {
   "cell_type": "code",
   "execution_count": 7,
   "id": "3bad103d",
   "metadata": {},
   "outputs": [],
   "source": [
    "# other ways to create empty list"
   ]
  },
  {
   "cell_type": "code",
   "execution_count": 8,
   "id": "2d2dd462",
   "metadata": {},
   "outputs": [],
   "source": [
    "cars  = list() #using list constructor"
   ]
  },
  {
   "cell_type": "code",
   "execution_count": 9,
   "id": "ae304d88",
   "metadata": {},
   "outputs": [
    {
     "data": {
      "text/plain": [
       "list"
      ]
     },
     "execution_count": 9,
     "metadata": {},
     "output_type": "execute_result"
    }
   ],
   "source": [
    "type(cars)"
   ]
  },
  {
   "cell_type": "code",
   "execution_count": 10,
   "id": "1c4b33dd",
   "metadata": {},
   "outputs": [
    {
     "data": {
      "text/plain": [
       "[]"
      ]
     },
     "execution_count": 10,
     "metadata": {},
     "output_type": "execute_result"
    }
   ],
   "source": [
    "cars"
   ]
  },
  {
   "cell_type": "code",
   "execution_count": 11,
   "id": "6a5060b7",
   "metadata": {},
   "outputs": [],
   "source": [
    "cars.append(\"audi\")"
   ]
  },
  {
   "cell_type": "code",
   "execution_count": 12,
   "id": "6e74fd30",
   "metadata": {},
   "outputs": [
    {
     "data": {
      "text/plain": [
       "['audi']"
      ]
     },
     "execution_count": 12,
     "metadata": {},
     "output_type": "execute_result"
    }
   ],
   "source": [
    "cars"
   ]
  },
  {
   "cell_type": "code",
   "execution_count": 13,
   "id": "01610c80",
   "metadata": {},
   "outputs": [],
   "source": [
    "cars.append(\"bentley\")"
   ]
  },
  {
   "cell_type": "code",
   "execution_count": 14,
   "id": "0e6a0eaa",
   "metadata": {},
   "outputs": [],
   "source": [
    "cars.append(\"mercedes\")"
   ]
  },
  {
   "cell_type": "code",
   "execution_count": 15,
   "id": "44dcfd82",
   "metadata": {},
   "outputs": [
    {
     "data": {
      "text/plain": [
       "['audi', 'bentley', 'mercedes']"
      ]
     },
     "execution_count": 15,
     "metadata": {},
     "output_type": "execute_result"
    }
   ],
   "source": [
    "cars"
   ]
  },
  {
   "cell_type": "code",
   "execution_count": 16,
   "id": "ec57e229",
   "metadata": {},
   "outputs": [
    {
     "name": "stdout",
     "output_type": "stream",
     "text": [
      "2 4 6 8 10 "
     ]
    }
   ],
   "source": [
    "#wap to print even number from 1 to 10 in list\n",
    "\n",
    "list1 = [1, 2, 3, 4, 5, 6,7,8,9,10]\n",
    "\n",
    "\n",
    "for num in list1:\n",
    "\tif num % 2 == 0:\n",
    "\t\tprint(num, end=\" \")\n"
   ]
  },
  {
   "cell_type": "code",
   "execution_count": 17,
   "id": "59339455",
   "metadata": {},
   "outputs": [
    {
     "name": "stdout",
     "output_type": "stream",
     "text": [
      "2\n",
      "4\n",
      "6\n",
      "8\n"
     ]
    }
   ],
   "source": [
    "even = []\n",
    "odd = []\n",
    "for num in range(1,10):\n",
    "    if num % 2 == 0:\n",
    "        print(num)"
   ]
  },
  {
   "cell_type": "markdown",
   "id": "bc5cda4f",
   "metadata": {},
   "source": [
    "# you can append elements from another list to the current list. Use the extend method"
   ]
  },
  {
   "cell_type": "code",
   "execution_count": 1,
   "id": "3f120188",
   "metadata": {},
   "outputs": [],
   "source": [
    "a = [55,66,3]\n",
    "b = [5,2,1]\n"
   ]
  },
  {
   "cell_type": "code",
   "execution_count": 4,
   "id": "f070a54f",
   "metadata": {},
   "outputs": [
    {
     "data": {
      "text/plain": [
       "[55, 66, 3, 5, 2, 1, 55, 66, 3]"
      ]
     },
     "execution_count": 4,
     "metadata": {},
     "output_type": "execute_result"
    }
   ],
   "source": [
    "a + b #concat the list"
   ]
  },
  {
   "cell_type": "code",
   "execution_count": null,
   "id": "5b8bf198",
   "metadata": {},
   "outputs": [],
   "source": [
    "a.extend(b)"
   ]
  },
  {
   "cell_type": "code",
   "execution_count": null,
   "id": "7bdf9a85",
   "metadata": {},
   "outputs": [],
   "source": [
    "a"
   ]
  },
  {
   "cell_type": "code",
   "execution_count": null,
   "id": "42f4c1cd",
   "metadata": {},
   "outputs": [],
   "source": [
    "b"
   ]
  },
  {
   "cell_type": "code",
   "execution_count": 2,
   "id": "43c319b2",
   "metadata": {},
   "outputs": [],
   "source": [
    "b.extend(a)"
   ]
  },
  {
   "cell_type": "code",
   "execution_count": 3,
   "id": "466006b4",
   "metadata": {},
   "outputs": [
    {
     "data": {
      "text/plain": [
       "[5, 2, 1, 55, 66, 3]"
      ]
     },
     "execution_count": 3,
     "metadata": {},
     "output_type": "execute_result"
    }
   ],
   "source": [
    "b"
   ]
  },
  {
   "cell_type": "markdown",
   "id": "8b908212",
   "metadata": {},
   "source": [
    "# remove"
   ]
  },
  {
   "cell_type": "code",
   "execution_count": 5,
   "id": "b16d9fd0",
   "metadata": {},
   "outputs": [],
   "source": [
    "cars = [\"audi\",\"nano\",\"mercedes\",\"nano\",\"audi\"]\n",
    "cars.remove(\"nano\")"
   ]
  },
  {
   "cell_type": "code",
   "execution_count": 6,
   "id": "0f47a4bd",
   "metadata": {},
   "outputs": [
    {
     "data": {
      "text/plain": [
       "['audi', 'mercedes', 'nano', 'audi']"
      ]
     },
     "execution_count": 6,
     "metadata": {},
     "output_type": "execute_result"
    }
   ],
   "source": [
    "cars"
   ]
  },
  {
   "cell_type": "code",
   "execution_count": 7,
   "id": "ab5d3016",
   "metadata": {},
   "outputs": [],
   "source": [
    "cars.remove(\"nano\")"
   ]
  },
  {
   "cell_type": "code",
   "execution_count": 8,
   "id": "312542a1",
   "metadata": {},
   "outputs": [
    {
     "data": {
      "text/plain": [
       "['audi', 'mercedes', 'audi']"
      ]
     },
     "execution_count": 8,
     "metadata": {},
     "output_type": "execute_result"
    }
   ],
   "source": [
    "cars"
   ]
  },
  {
   "cell_type": "markdown",
   "id": "86955e85",
   "metadata": {},
   "source": [
    "# pop()"
   ]
  },
  {
   "cell_type": "code",
   "execution_count": 13,
   "id": "cf750deb",
   "metadata": {},
   "outputs": [
    {
     "data": {
      "text/plain": [
       "['audi', 'nano', 'nano', 'audi']"
      ]
     },
     "execution_count": 13,
     "metadata": {},
     "output_type": "execute_result"
    }
   ],
   "source": [
    "cars = [\"audi\",\"nano\",\"mercedes\",\"nano\",\"audi\"]\n",
    "cars.pop(2)\n",
    "cars"
   ]
  },
  {
   "cell_type": "code",
   "execution_count": 11,
   "id": "fa541779",
   "metadata": {},
   "outputs": [],
   "source": [
    "# append() and pop() togethcare used to push and pop data from the list \n",
    "# therefore list can be used as stack data structure"
   ]
  },
  {
   "cell_type": "markdown",
   "id": "965bb36a",
   "metadata": {},
   "source": [
    "# sorting of list"
   ]
  },
  {
   "cell_type": "code",
   "execution_count": 18,
   "id": "8c8a0814",
   "metadata": {},
   "outputs": [],
   "source": [
    "nums = [-2,-11,44,5,7,99,-8]\n",
    "nums.sort()"
   ]
  },
  {
   "cell_type": "code",
   "execution_count": 19,
   "id": "bd6c3936",
   "metadata": {},
   "outputs": [
    {
     "data": {
      "text/plain": [
       "[-11, -8, -2, 5, 7, 44, 99]"
      ]
     },
     "execution_count": 19,
     "metadata": {},
     "output_type": "execute_result"
    }
   ],
   "source": [
    "nums"
   ]
  },
  {
   "cell_type": "code",
   "execution_count": 20,
   "id": "1cb5970f",
   "metadata": {},
   "outputs": [
    {
     "data": {
      "text/plain": [
       "[99, 44, 7, 5, -2, -8, -11]"
      ]
     },
     "execution_count": 20,
     "metadata": {},
     "output_type": "execute_result"
    }
   ],
   "source": [
    "nums = [-2,-11,44,5,7,99,-8]\n",
    "nums.sort(reverse=True)\n",
    "nums"
   ]
  },
  {
   "cell_type": "code",
   "execution_count": 21,
   "id": "a1e83dc8",
   "metadata": {},
   "outputs": [
    {
     "data": {
      "text/plain": [
       "[-11, -8, -2, 5, 7, 44, 99]"
      ]
     },
     "execution_count": 21,
     "metadata": {},
     "output_type": "execute_result"
    }
   ],
   "source": [
    "nums = [-2,-11,44,5,7,99,-8]\n",
    "sorted(nums)"
   ]
  },
  {
   "cell_type": "code",
   "execution_count": 22,
   "id": "1c970ce6",
   "metadata": {},
   "outputs": [
    {
     "data": {
      "text/plain": [
       "[-2, -11, 44, 5, 7, 99, -8]"
      ]
     },
     "execution_count": 22,
     "metadata": {},
     "output_type": "execute_result"
    }
   ],
   "source": [
    "nums"
   ]
  },
  {
   "cell_type": "code",
   "execution_count": 23,
   "id": "4420f0ce",
   "metadata": {},
   "outputs": [
    {
     "data": {
      "text/plain": [
       "[99, 44, 7, 5, -2, -8, -11]"
      ]
     },
     "execution_count": 23,
     "metadata": {},
     "output_type": "execute_result"
    }
   ],
   "source": [
    "nums = [-2,-11,44,5,7,99,-8]\n",
    "sorted(nums, reverse=True)"
   ]
  },
  {
   "cell_type": "code",
   "execution_count": 24,
   "id": "5995edf9",
   "metadata": {},
   "outputs": [
    {
     "data": {
      "text/plain": [
       "[-2, -11, 44, 5, 7, 99, -8]"
      ]
     },
     "execution_count": 24,
     "metadata": {},
     "output_type": "execute_result"
    }
   ],
   "source": [
    "nums"
   ]
  },
  {
   "cell_type": "code",
   "execution_count": 26,
   "id": "d52859e0",
   "metadata": {},
   "outputs": [],
   "source": [
    "#wap to find the square of given number in the list (1 to 15)\n",
    "#wap to find the cube of given number in the list (1 to 15)\n",
    "#wap to store lower case value of given list\n",
    "fruits = [\"APPLE\",\"BANANA\",\"MANGO\",\"ORANGE\"]"
   ]
  },
  {
   "cell_type": "code",
   "execution_count": null,
   "id": "d6d62feb",
   "metadata": {},
   "outputs": [],
   "source": []
  }
 ],
 "metadata": {
  "kernelspec": {
   "display_name": "Python 3 (ipykernel)",
   "language": "python",
   "name": "python3"
  },
  "language_info": {
   "codemirror_mode": {
    "name": "ipython",
    "version": 3
   },
   "file_extension": ".py",
   "mimetype": "text/x-python",
   "name": "python",
   "nbconvert_exporter": "python",
   "pygments_lexer": "ipython3",
   "version": "3.8.10"
  }
 },
 "nbformat": 4,
 "nbformat_minor": 5
}
