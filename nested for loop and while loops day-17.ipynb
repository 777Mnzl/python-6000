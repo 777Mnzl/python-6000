{
 "cells": [
  {
   "cell_type": "code",
   "execution_count": null,
   "id": "ac7b479e",
   "metadata": {},
   "outputs": [],
   "source": [
    "for i in range(3):\n",
    "    print(\"-------\")\n",
    "    print(i)\n",
    "    print(\"-------\")\n",
    "    \n",
    "    for j in range(5):\n",
    "        print(j)"
   ]
  },
  {
   "cell_type": "code",
   "execution_count": null,
   "id": "d21e96e1",
   "metadata": {},
   "outputs": [],
   "source": [
    "data = [[4,5,6],[11,44,22,9],[2,4],[8]]"
   ]
  },
  {
   "cell_type": "code",
   "execution_count": null,
   "id": "f2d6bdc0",
   "metadata": {},
   "outputs": [],
   "source": [
    "means = []"
   ]
  },
  {
   "cell_type": "code",
   "execution_count": null,
   "id": "ba4295c1",
   "metadata": {},
   "outputs": [],
   "source": [
    "for item in data:\n",
    "    total = 0\n",
    "    for i in item:\n",
    "        total = total + i\n",
    "    means.append(total/len(item))"
   ]
  },
  {
   "cell_type": "code",
   "execution_count": null,
   "id": "5b8955c2",
   "metadata": {},
   "outputs": [],
   "source": [
    "means"
   ]
  },
  {
   "cell_type": "code",
   "execution_count": null,
   "id": "c0aa7616",
   "metadata": {},
   "outputs": [],
   "source": [
    "data = [[4,5,6],[5,8,9,7],[0,3,0,1]]"
   ]
  },
  {
   "cell_type": "code",
   "execution_count": null,
   "id": "9f3e0d70",
   "metadata": {},
   "outputs": [],
   "source": [
    "index = []"
   ]
  },
  {
   "cell_type": "code",
   "execution_count": null,
   "id": "967f9f77",
   "metadata": {},
   "outputs": [],
   "source": [
    "for item in data:\n",
    "    output = []\n",
    "    for item in data:\n",
    "        output.append(item[::2])"
   ]
  },
  {
   "cell_type": "code",
   "execution_count": null,
   "id": "40823271",
   "metadata": {},
   "outputs": [],
   "source": [
    "output"
   ]
  },
  {
   "cell_type": "code",
   "execution_count": null,
   "id": "9e9eb49f",
   "metadata": {},
   "outputs": [],
   "source": [
    "list(map(lambda x : x[::2],data))"
   ]
  },
  {
   "cell_type": "markdown",
   "id": "855fcd69",
   "metadata": {},
   "source": [
    "# wap to display multiplication table"
   ]
  },
  {
   "cell_type": "code",
   "execution_count": null,
   "id": "ed1fbc44",
   "metadata": {},
   "outputs": [],
   "source": [
    "num = 5\n",
    "for i in range(1,11):\n",
    "    print(num*i )"
   ]
  },
  {
   "cell_type": "code",
   "execution_count": null,
   "id": "7dfe9df4",
   "metadata": {},
   "outputs": [],
   "source": [
    "for table in range(5,11):\n",
    "    for i in range(1,11):\n",
    "        print(table*i )"
   ]
  },
  {
   "cell_type": "markdown",
   "id": "10e136e7",
   "metadata": {},
   "source": [
    "# While loop"
   ]
  },
  {
   "cell_type": "markdown",
   "id": "1b3b393a",
   "metadata": {},
   "source": [
    "```python\n",
    "while True:\n",
    "    # body of while\n",
    "```\n",
    "```python\n",
    "while Expression:\n",
    "    # body of while\n",
    "```"
   ]
  },
  {
   "cell_type": "code",
   "execution_count": 1,
   "id": "12f4955c",
   "metadata": {},
   "outputs": [],
   "source": [
    "data = [1,2,3,4,5,6,7,8,9]"
   ]
  },
  {
   "cell_type": "code",
   "execution_count": 2,
   "id": "2383ecd4",
   "metadata": {},
   "outputs": [],
   "source": [
    "i = 0 \n",
    "total = 0\n",
    "while i < len(data):\n",
    "    total = total + data[i] \n",
    "    i = i + 1"
   ]
  },
  {
   "cell_type": "code",
   "execution_count": 3,
   "id": "227c6791",
   "metadata": {},
   "outputs": [],
   "source": [
    "mean = total/len(data)"
   ]
  },
  {
   "cell_type": "code",
   "execution_count": 4,
   "id": "a9e88f2d",
   "metadata": {},
   "outputs": [
    {
     "name": "stdout",
     "output_type": "stream",
     "text": [
      "5.0\n"
     ]
    }
   ],
   "source": [
    "print(mean)"
   ]
  },
  {
   "cell_type": "code",
   "execution_count": null,
   "id": "de128b31",
   "metadata": {},
   "outputs": [],
   "source": []
  }
 ],
 "metadata": {
  "kernelspec": {
   "display_name": "Python 3 (ipykernel)",
   "language": "python",
   "name": "python3"
  },
  "language_info": {
   "codemirror_mode": {
    "name": "ipython",
    "version": 3
   },
   "file_extension": ".py",
   "mimetype": "text/x-python",
   "name": "python",
   "nbconvert_exporter": "python",
   "pygments_lexer": "ipython3",
   "version": "3.8.10"
  }
 },
 "nbformat": 4,
 "nbformat_minor": 5
}
