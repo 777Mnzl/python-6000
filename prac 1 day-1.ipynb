{
 "cells": [
  {
   "cell_type": "code",
   "execution_count": null,
   "id": "9d00b548",
   "metadata": {},
   "outputs": [],
   "source": [
    "num = 2\n",
    "num2 = 32\n",
    "print(num*num2)\n"
   ]
  },
  {
   "cell_type": "code",
   "execution_count": null,
   "id": "c3affdd5",
   "metadata": {},
   "outputs": [],
   "source": [
    "name=input(\"whats your name\")\n",
    "print()"
   ]
  },
  {
   "cell_type": "code",
   "execution_count": null,
   "id": "16d67495",
   "metadata": {},
   "outputs": [],
   "source": [
    "name=input(\"whats your name\")\n",
    "print(\"so your name is \" + name)"
   ]
  },
  {
   "cell_type": "code",
   "execution_count": null,
   "id": "010329ec",
   "metadata": {},
   "outputs": [],
   "source": [
    "import random\n",
    "number=random.randint(1,10)\n",
    "guess = \"none\"\n",
    "while guess != number:\n",
    "    guess=(int(input(\"enter any number from 1 to 10:\\n\")))\n",
    "    if guess==number:\n",
    "       print(\"congratulation for guessing the correct number!!\")\n",
    "\n",
    "    else:\n",
    "        print(\"you guessed the wrong number!!\")\n",
    "        if guess<number:\n",
    "          print(\"the number you guessed was too low\\n\")\n",
    "        else:\n",
    "          print(\"the number you guessed was too high\\n\")\n"
   ]
  },
  {
   "cell_type": "code",
   "execution_count": 11,
   "id": "7777a44d",
   "metadata": {},
   "outputs": [
    {
     "name": "stdout",
     "output_type": "stream",
     "text": [
      "Welcome to the coffee talks! how can i help you today\n",
      "Btw What shall i call you?\n",
      "ben\n",
      "Are you evil?\n",
      "yes\n",
      "how many good deeds have you done today? \n",
      "2\n",
      "You are not welcome here ben\n",
      "so ben what would you like to have today, Here's what we serving:\n",
      "1.Americano\n",
      "2.Espresso\n",
      "3.Latte\n",
      "4.Black Coffee\n",
      "Latte\n",
      "how many coffees would you like?\n",
      "23\n",
      "Do you want an extra whipped cream?\n",
      "yes\n",
      "the price will be 15$ so\n",
      "Thank you! your total will be: $345\n",
      "Sounds good ben,We'll have your 23 Latte in a minute\n"
     ]
    }
   ],
   "source": [
    "\n",
    "print(\"Welcome to the coffee talks! how can i help you today\")\n",
    "#name verification\n",
    "name =input(\"Btw What shall i call you?\\n\")\n",
    "#name includes ben loki and patricia\n",
    "if name == \"ben\" or name==\"patricia\" or name==\"loki\":\n",
    "    evil_status=input(\"Are you evil?\\n\")\n",
    "    #checking the good deeds done by ben loki and patricia and using the \"and\" logical operator\n",
    "    good_status=int(input(\"how many good deeds have you done today? \\n\"))\n",
    "    if evil_status==\"yes\" and good_status < 4:\n",
    "        print(\"You are not welcome here \"+ name)\n",
    "        exit()\n",
    "    else:\n",
    "        print(\"Welcome to the shop\")\n",
    "else:\n",
    "    print(\"Hello \"+ name + \",thank you for coming today \")\n",
    "\n",
    "    #coffee menu\n",
    "menu= \"1.Americano\\n2.Espresso\\n3.Latte\\n4.Black Coffee\"\n",
    "order=input(\"so \" + name + \" what would you like to have today, Here's what we serving:\\n\" + menu + \"\\n\")\n",
    "#price of each item starting with americano\n",
    "if order==\"Americano\":\n",
    "    price = 10\n",
    "    quantity = input(\"how many coffees would you like?\\n\")\n",
    "    total = price * int(quantity)\n",
    "    print(\"Thank you! your total will be: $\" + str(total))\n",
    "    print(\"Sounds good \" + name + \",We'll have your \" + quantity + \" \" + order + \" in a minute\")\n",
    "#price of espresso\n",
    "elif order==\"Espresso\":\n",
    "        price=10\n",
    "        quantity = input(\"how many coffees would you like?\\n\")\n",
    "        total = price * int(quantity)\n",
    "        print(\"Thank you! your total will be: $\" + str(total))\n",
    "        print(\"Sounds good \" + name + \",We'll have your \" + quantity + \" \" + order + \" in a minute\")\n",
    "#price of a latte\n",
    "elif order==\"Latte\":\n",
    "            price=12\n",
    "            quantity = input(\"how many coffees would you like?\\n\")\n",
    "            #extra price for whipped cream\n",
    "            cream=input(\"Do you want an extra whipped cream?\\n\")\n",
    "            if cream==\"yes\" or cream==\"Yes\":\n",
    "                print(\"the price will be 15$ so\")\n",
    "                price=15\n",
    "                total = price * int(quantity)\n",
    "                print(\"Thank you! your total will be: $\" + str(total))\n",
    "                print(\"Sounds good \" + name + \",We'll have your \" + quantity + \" \" + order + \" in a minute\")\n",
    "            else:\n",
    "                total = price * int(quantity)\n",
    "                print(\"Thank you! your total will be: $\" + str(total))\n",
    "                print(\"Sounds good \" + name + \",We'll have your \" + quantity + \" \" + order + \" in a minute\")\n",
    "#Price of a black coffee\n",
    "elif order==\"Black coffee\":\n",
    "    price = 8\n",
    "    quantity=input(\"how many coffees would you like?\\n\")\n",
    "    total = price * int(quantity)\n",
    "    print(\"Thank you! your total will be: $\" + str(total))\n",
    "    print(\"Sounds good \" + name +\",We'll have your \" + quantity +\" \" + order + \" in a minute\")\n",
    "else:\n",
    "    print(\"Sorry we dont have that specific coffee\")\n",
    "\n",
    "    "
   ]
  },
  {
   "cell_type": "code",
   "execution_count": 10,
   "id": "d16dd7ec",
   "metadata": {},
   "outputs": [
    {
     "name": "stdout",
     "output_type": "stream",
     "text": [
      "whats your age?3\n",
      "so you are a adult\n"
     ]
    }
   ],
   "source": [
    "age = input(\"whats your age?\")\n",
    "if age < \"10\":\n",
    "    print(\"so you are child\")\n",
    "elif age < \"20\":\n",
    "    print(\"so you are a teen \")\n",
    "elif age < \"30\":\n",
    "    print(\"so you are a adult\")\n",
    "else:\n",
    "    print(\"so you are old\")"
   ]
  },
  {
   "cell_type": "code",
   "execution_count": null,
   "id": "ba255855",
   "metadata": {},
   "outputs": [],
   "source": []
  }
 ],
 "metadata": {
  "kernelspec": {
   "display_name": "Python 3 (ipykernel)",
   "language": "python",
   "name": "python3"
  },
  "language_info": {
   "codemirror_mode": {
    "name": "ipython",
    "version": 3
   },
   "file_extension": ".py",
   "mimetype": "text/x-python",
   "name": "python",
   "nbconvert_exporter": "python",
   "pygments_lexer": "ipython3",
   "version": "3.8.10"
  }
 },
 "nbformat": 4,
 "nbformat_minor": 5
}
