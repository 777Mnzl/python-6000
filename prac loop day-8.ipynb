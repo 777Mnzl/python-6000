{
 "cells": [
  {
   "cell_type": "code",
   "execution_count": null,
   "id": "d9de3468",
   "metadata": {},
   "outputs": [],
   "source": [
    "print(\"error\")"
   ]
  },
  {
   "cell_type": "code",
   "execution_count": null,
   "id": "a372f357",
   "metadata": {},
   "outputs": [],
   "source": [
    "for index in range(1,10,3):\n",
    "    print(\"error\",index, (index)*\".\")"
   ]
  },
  {
   "cell_type": "code",
   "execution_count": null,
   "id": "aebf4dbf",
   "metadata": {},
   "outputs": [],
   "source": [
    "successful = True\n",
    "for number in range(3):\n",
    "    print(\"attempt\")\n",
    "    if successful:\n",
    "        print(\"successful\")\n",
    "        break\n",
    "else:\n",
    "    print(\"attempted 3 times and failed\")"
   ]
  },
  {
   "cell_type": "code",
   "execution_count": 5,
   "id": "f70714c7",
   "metadata": {},
   "outputs": [
    {
     "name": "stdout",
     "output_type": "stream",
     "text": [
      "6\n",
      "7\n",
      "8\n",
      "9\n"
     ]
    }
   ],
   "source": [
    "#wap to print number >= 6\n",
    "items = [4,5,6,7,8,9]\n",
    "for item in items:\n",
    "    if str(item).isnumeric() and item>=6:\n",
    "        print(item)\n",
    "\n"
   ]
  },
  {
   "cell_type": "code",
   "execution_count": null,
   "id": "9037cad1",
   "metadata": {},
   "outputs": [],
   "source": []
  }
 ],
 "metadata": {
  "kernelspec": {
   "display_name": "Python 3 (ipykernel)",
   "language": "python",
   "name": "python3"
  },
  "language_info": {
   "codemirror_mode": {
    "name": "ipython",
    "version": 3
   },
   "file_extension": ".py",
   "mimetype": "text/x-python",
   "name": "python",
   "nbconvert_exporter": "python",
   "pygments_lexer": "ipython3",
   "version": "3.8.10"
  }
 },
 "nbformat": 4,
 "nbformat_minor": 5
}
