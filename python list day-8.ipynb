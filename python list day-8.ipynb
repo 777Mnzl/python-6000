{
 "cells": [
  {
   "cell_type": "code",
   "execution_count": null,
   "id": "24d6963c",
   "metadata": {},
   "outputs": [],
   "source": [
    "fruit = ['orange' , 'apple','banana','kiwi']\n",
    "type(fruit)"
   ]
  },
  {
   "cell_type": "markdown",
   "id": "abf83aed",
   "metadata": {},
   "source": [
    "# list is collection of item under one variable name \n",
    "* allows duplicate\n",
    "* sequenced and ordered\n",
    "* indexed\n",
    "* mutable \n",
    "* supports multiple data types\n",
    "* in python, a list is created by placing elements inside square brackets[], seperated by commas"
   ]
  },
  {
   "cell_type": "code",
   "execution_count": null,
   "id": "cd34e361",
   "metadata": {},
   "outputs": [],
   "source": [
    "list1 = [True, 0.3, 555,\"hello\", 0.3+1.4j]"
   ]
  },
  {
   "cell_type": "code",
   "execution_count": null,
   "id": "9f9fa682",
   "metadata": {},
   "outputs": [],
   "source": [
    "type(list1)"
   ]
  },
  {
   "cell_type": "markdown",
   "id": "e15a7b25",
   "metadata": {},
   "source": [
    "# indexing and slicing list in python"
   ]
  },
  {
   "cell_type": "code",
   "execution_count": 24,
   "id": "b61338f6",
   "metadata": {},
   "outputs": [],
   "source": [
    "cars = [\"audi\",\"bentley\",\"mercedes\",\"rolls royce\",\"buggati\",\"ferrari\"]"
   ]
  },
  {
   "cell_type": "code",
   "execution_count": 25,
   "id": "3f8e5b97",
   "metadata": {},
   "outputs": [
    {
     "data": {
      "text/plain": [
       "'audi'"
      ]
     },
     "execution_count": 25,
     "metadata": {},
     "output_type": "execute_result"
    }
   ],
   "source": [
    "cars[0]"
   ]
  },
  {
   "cell_type": "code",
   "execution_count": 26,
   "id": "b0d0de50",
   "metadata": {},
   "outputs": [
    {
     "data": {
      "text/plain": [
       "'mercedes'"
      ]
     },
     "execution_count": 26,
     "metadata": {},
     "output_type": "execute_result"
    }
   ],
   "source": [
    "cars[2]"
   ]
  },
  {
   "cell_type": "code",
   "execution_count": 27,
   "id": "c16ee91c",
   "metadata": {},
   "outputs": [
    {
     "data": {
      "text/plain": [
       "'ferrari'"
      ]
     },
     "execution_count": 27,
     "metadata": {},
     "output_type": "execute_result"
    }
   ],
   "source": [
    "cars[-1] #negative indexing"
   ]
  },
  {
   "cell_type": "code",
   "execution_count": 28,
   "id": "e8c4766c",
   "metadata": {},
   "outputs": [
    {
     "data": {
      "text/plain": [
       "'buggati'"
      ]
     },
     "execution_count": 28,
     "metadata": {},
     "output_type": "execute_result"
    }
   ],
   "source": [
    "cars[-2]#negative indexing"
   ]
  },
  {
   "cell_type": "code",
   "execution_count": 29,
   "id": "b513f307",
   "metadata": {},
   "outputs": [
    {
     "data": {
      "text/plain": [
       "'rolls royce'"
      ]
     },
     "execution_count": 29,
     "metadata": {},
     "output_type": "execute_result"
    }
   ],
   "source": [
    "cars [-3]#negative indexing"
   ]
  },
  {
   "cell_type": "code",
   "execution_count": 30,
   "id": "822787bd",
   "metadata": {},
   "outputs": [
    {
     "data": {
      "text/plain": [
       "'mercedes'"
      ]
     },
     "execution_count": 30,
     "metadata": {},
     "output_type": "execute_result"
    }
   ],
   "source": [
    "cars [-4]#negative indexing"
   ]
  },
  {
   "cell_type": "code",
   "execution_count": 31,
   "id": "27ba8c96",
   "metadata": {},
   "outputs": [
    {
     "data": {
      "text/plain": [
       "6"
      ]
     },
     "execution_count": 31,
     "metadata": {},
     "output_type": "execute_result"
    }
   ],
   "source": [
    "len(cars)"
   ]
  },
  {
   "cell_type": "markdown",
   "id": "6e6cc2e5",
   "metadata": {},
   "source": [
    "# SLICING\n"
   ]
  },
  {
   "cell_type": "code",
   "execution_count": 32,
   "id": "1a9b18d9",
   "metadata": {},
   "outputs": [
    {
     "data": {
      "text/plain": [
       "['mercedes']"
      ]
     },
     "execution_count": 32,
     "metadata": {},
     "output_type": "execute_result"
    }
   ],
   "source": [
    "cars[2:3]"
   ]
  },
  {
   "cell_type": "code",
   "execution_count": 33,
   "id": "a1825fd5",
   "metadata": {},
   "outputs": [
    {
     "data": {
      "text/plain": [
       "['buggati', 'ferrari']"
      ]
     },
     "execution_count": 33,
     "metadata": {},
     "output_type": "execute_result"
    }
   ],
   "source": [
    "cars[4:]"
   ]
  },
  {
   "cell_type": "code",
   "execution_count": 34,
   "id": "5bdc891c",
   "metadata": {},
   "outputs": [
    {
     "data": {
      "text/plain": [
       "['buggati', 'ferrari']"
      ]
     },
     "execution_count": 34,
     "metadata": {},
     "output_type": "execute_result"
    }
   ],
   "source": [
    "cars[-2:]"
   ]
  },
  {
   "cell_type": "code",
   "execution_count": 35,
   "id": "b0c03f78",
   "metadata": {},
   "outputs": [
    {
     "data": {
      "text/plain": [
       "['audi', 'bentley', 'mercedes']"
      ]
     },
     "execution_count": 35,
     "metadata": {},
     "output_type": "execute_result"
    }
   ],
   "source": [
    "cars[:3]"
   ]
  },
  {
   "cell_type": "markdown",
   "id": "1cc02ab6",
   "metadata": {},
   "source": [
    "# loops in python list"
   ]
  },
  {
   "cell_type": "code",
   "execution_count": 44,
   "id": "0c21e152",
   "metadata": {},
   "outputs": [
    {
     "name": "stdout",
     "output_type": "stream",
     "text": [
      "audi and the number is 1\n",
      "bentley and the number is 2\n",
      "mercedes and the number is 3\n",
      "rolls royce and the number is 4\n",
      "buggati and the number is 5\n",
      "ferrari and the number is 6\n"
     ]
    }
   ],
   "source": [
    "cars = [[\"audi\",1],[\"bentley\",2],[\"mercedes\",3],[\"rolls royce\",4],[\"buggati\",5],[\"ferrari\",6]]\n",
    "for index, number in cars:\n",
    "    print(index,\"and the number is\", number)"
   ]
  },
  {
   "cell_type": "code",
   "execution_count": 45,
   "id": "50669226",
   "metadata": {},
   "outputs": [],
   "source": [
    "cars = [\"audi\",\"bentley\",\"mercedes\",\"rolls royce\",\"buggati\",\"ferrari\"]"
   ]
  },
  {
   "cell_type": "code",
   "execution_count": 48,
   "id": "35ad3a3a",
   "metadata": {},
   "outputs": [
    {
     "name": "stdout",
     "output_type": "stream",
     "text": [
      "audi\n",
      "bentley\n",
      "mercedes\n",
      "rolls royce\n",
      "buggati\n",
      "ferrari\n"
     ]
    }
   ],
   "source": [
    "for items in cars:\n",
    "    print(items)"
   ]
  },
  {
   "cell_type": "code",
   "execution_count": 56,
   "id": "3a887f7e",
   "metadata": {},
   "outputs": [
    {
     "name": "stdout",
     "output_type": "stream",
     "text": [
      "the car is 0 and the number is audi\n",
      "the car is 1 and the number is bentley\n",
      "the car is 2 and the number is mercedes\n",
      "the car is 3 and the number is rolls royce\n",
      "the car is 4 and the number is buggati\n",
      "the car is 5 and the number is ferrari\n"
     ]
    }
   ],
   "source": [
    "cars = [\"audi\",\"bentley\",\"mercedes\",\"rolls royce\",\"buggati\",\"ferrari\"]\n",
    "for index in range(len(cars)):\n",
    "    car = cars[index]\n",
    "    print(f\"the car is {index} and the number is {car}\")"
   ]
  },
  {
   "cell_type": "markdown",
   "id": "dd258513",
   "metadata": {},
   "source": [
    "# Mean "
   ]
  },
  {
   "cell_type": "code",
   "execution_count": 64,
   "id": "469d798c",
   "metadata": {},
   "outputs": [],
   "source": [
    "mean = [55,66,77,25] #without indexing \n",
    "total = 0\n",
    "for number in mean:\n",
    "    total = total + number"
   ]
  },
  {
   "cell_type": "code",
   "execution_count": 65,
   "id": "775d7d95",
   "metadata": {},
   "outputs": [
    {
     "data": {
      "text/plain": [
       "223"
      ]
     },
     "execution_count": 65,
     "metadata": {},
     "output_type": "execute_result"
    }
   ],
   "source": [
    "total"
   ]
  },
  {
   "cell_type": "code",
   "execution_count": 66,
   "id": "8456a02c",
   "metadata": {},
   "outputs": [],
   "source": [
    "mean = total/len(mean)"
   ]
  },
  {
   "cell_type": "code",
   "execution_count": 67,
   "id": "ebb9d8a7",
   "metadata": {},
   "outputs": [
    {
     "data": {
      "text/plain": [
       "55.75"
      ]
     },
     "execution_count": 67,
     "metadata": {},
     "output_type": "execute_result"
    }
   ],
   "source": [
    "mean"
   ]
  },
  {
   "cell_type": "code",
   "execution_count": 70,
   "id": "f5126e84",
   "metadata": {},
   "outputs": [],
   "source": [
    "mean = [55,66,77,25] #with indexing\n",
    "total = 0\n",
    "for index in range(len(mean)):\n",
    "    number = mean[index]\n",
    "    total = total+number \n",
    "mean = total/len(mean)"
   ]
  },
  {
   "cell_type": "code",
   "execution_count": 71,
   "id": "7013e75c",
   "metadata": {},
   "outputs": [
    {
     "name": "stdout",
     "output_type": "stream",
     "text": [
      "55.75\n"
     ]
    }
   ],
   "source": [
    "print(mean)"
   ]
  },
  {
   "cell_type": "code",
   "execution_count": null,
   "id": "1af169d9",
   "metadata": {},
   "outputs": [],
   "source": []
  }
 ],
 "metadata": {
  "kernelspec": {
   "display_name": "Python 3 (ipykernel)",
   "language": "python",
   "name": "python3"
  },
  "language_info": {
   "codemirror_mode": {
    "name": "ipython",
    "version": 3
   },
   "file_extension": ".py",
   "mimetype": "text/x-python",
   "name": "python",
   "nbconvert_exporter": "python",
   "pygments_lexer": "ipython3",
   "version": "3.8.10"
  }
 },
 "nbformat": 4,
 "nbformat_minor": 5
}
