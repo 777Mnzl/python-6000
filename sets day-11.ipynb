{
 "cells": [
  {
   "cell_type": "markdown",
   "id": "a007e3d1",
   "metadata": {},
   "source": [
    "# sets \n",
    "* a collection of item under one variable which is unordered unchangable and unindexed"
   ]
  },
  {
   "cell_type": "code",
   "execution_count": 1,
   "id": "8a61080c",
   "metadata": {},
   "outputs": [],
   "source": [
    "cities = {\"Kathmandu\",\"lalitpur\",\"pokhara\",\"bhaktapur\",\"kavre\",\"dharan\"}"
   ]
  },
  {
   "cell_type": "code",
   "execution_count": 2,
   "id": "17bdbf6d",
   "metadata": {},
   "outputs": [
    {
     "data": {
      "text/plain": [
       "{'Kathmandu', 'bhaktapur', 'dharan', 'kavre', 'lalitpur', 'pokhara'}"
      ]
     },
     "execution_count": 2,
     "metadata": {},
     "output_type": "execute_result"
    }
   ],
   "source": [
    "cities"
   ]
  },
  {
   "cell_type": "code",
   "execution_count": 3,
   "id": "ba3980bf",
   "metadata": {},
   "outputs": [
    {
     "ename": "TypeError",
     "evalue": "'set' object is not subscriptable",
     "output_type": "error",
     "traceback": [
      "\u001b[1;31m---------------------------------------------------------------------------\u001b[0m",
      "\u001b[1;31mTypeError\u001b[0m                                 Traceback (most recent call last)",
      "Cell \u001b[1;32mIn[3], line 1\u001b[0m\n\u001b[1;32m----> 1\u001b[0m \u001b[43mcities\u001b[49m\u001b[43m[\u001b[49m\u001b[38;5;241;43m0\u001b[39;49m\u001b[43m]\u001b[49m\n",
      "\u001b[1;31mTypeError\u001b[0m: 'set' object is not subscriptable"
     ]
    }
   ],
   "source": [
    "cities[0] #unindexed and unchangable"
   ]
  },
  {
   "cell_type": "markdown",
   "id": "f9499596",
   "metadata": {},
   "source": [
    "# sets are mutable - allows to add or remove items"
   ]
  },
  {
   "cell_type": "code",
   "execution_count": 7,
   "id": "fedf6782",
   "metadata": {},
   "outputs": [],
   "source": [
    "cities = {\"Kathmandu\",\"lalitpur\",\"pokhara\",\"bhaktapur\",\"kavre\",\"dharan\"}\n",
    "cities.add(\"dhangadi\")"
   ]
  },
  {
   "cell_type": "code",
   "execution_count": 5,
   "id": "1808ea3d",
   "metadata": {},
   "outputs": [
    {
     "data": {
      "text/plain": [
       "{'Kathmandu',\n",
       " 'bhaktapur',\n",
       " 'dhangadi',\n",
       " 'dharan',\n",
       " 'kavre',\n",
       " 'lalitpur',\n",
       " 'pokhara'}"
      ]
     },
     "execution_count": 5,
     "metadata": {},
     "output_type": "execute_result"
    }
   ],
   "source": [
    "cities"
   ]
  },
  {
   "cell_type": "code",
   "execution_count": 9,
   "id": "bf82a920",
   "metadata": {},
   "outputs": [
    {
     "ename": "SyntaxError",
     "evalue": "invalid syntax (394163404.py, line 2)",
     "output_type": "error",
     "traceback": [
      "\u001b[1;36m  Cell \u001b[1;32mIn[9], line 2\u001b[1;36m\u001b[0m\n\u001b[1;33m    cities.remove{\"janakpur\"}\u001b[0m\n\u001b[1;37m                 ^\u001b[0m\n\u001b[1;31mSyntaxError\u001b[0m\u001b[1;31m:\u001b[0m invalid syntax\n"
     ]
    }
   ],
   "source": [
    "cities = {\"Kathmandu\",\"lalitpur\",\"pokhara\",\"bhaktapur\",\"kavre\",\"dharan\"}\n",
    "cities.remove{\"janakpur\"}"
   ]
  },
  {
   "cell_type": "code",
   "execution_count": 10,
   "id": "6dedbd81",
   "metadata": {},
   "outputs": [],
   "source": [
    "cities.discard(\"biratnagar\") #if you dont want error use discard"
   ]
  },
  {
   "cell_type": "code",
   "execution_count": 11,
   "id": "74599de9",
   "metadata": {},
   "outputs": [
    {
     "data": {
      "text/plain": [
       "{'Kathmandu',\n",
       " 'bhaktapur',\n",
       " 'dhangadi',\n",
       " 'dharan',\n",
       " 'kavre',\n",
       " 'lalitpur',\n",
       " 'pokhara'}"
      ]
     },
     "execution_count": 11,
     "metadata": {},
     "output_type": "execute_result"
    }
   ],
   "source": [
    "cities"
   ]
  },
  {
   "cell_type": "markdown",
   "id": "4834a116",
   "metadata": {},
   "source": [
    "# type casting"
   ]
  },
  {
   "cell_type": "code",
   "execution_count": 12,
   "id": "9778f4da",
   "metadata": {},
   "outputs": [
    {
     "data": {
      "text/plain": [
       "set"
      ]
     },
     "execution_count": 12,
     "metadata": {},
     "output_type": "execute_result"
    }
   ],
   "source": [
    "cities = {\"Kathmandu\",\"lalitpur\",\"pokhara\",\"bhaktapur\",\"kavre\",\"dharan\"}\n",
    "type(cities)"
   ]
  },
  {
   "cell_type": "code",
   "execution_count": 13,
   "id": "4768fa22",
   "metadata": {},
   "outputs": [],
   "source": [
    "cities = list(cities)"
   ]
  },
  {
   "cell_type": "code",
   "execution_count": 14,
   "id": "dd4873c7",
   "metadata": {},
   "outputs": [
    {
     "data": {
      "text/plain": [
       "['dharan', 'pokhara', 'lalitpur', 'kavre', 'bhaktapur', 'Kathmandu']"
      ]
     },
     "execution_count": 14,
     "metadata": {},
     "output_type": "execute_result"
    }
   ],
   "source": [
    "cities"
   ]
  },
  {
   "cell_type": "code",
   "execution_count": 15,
   "id": "d24a9fef",
   "metadata": {},
   "outputs": [
    {
     "data": {
      "text/plain": [
       "list"
      ]
     },
     "execution_count": 15,
     "metadata": {},
     "output_type": "execute_result"
    }
   ],
   "source": [
    "type(cities)"
   ]
  },
  {
   "cell_type": "code",
   "execution_count": 17,
   "id": "408db42f",
   "metadata": {},
   "outputs": [
    {
     "data": {
      "text/plain": [
       "{1, 3, 23, 44}"
      ]
     },
     "execution_count": 17,
     "metadata": {},
     "output_type": "execute_result"
    }
   ],
   "source": [
    "list1 = [1,23,1,3,44]\n",
    "set(list1) #set do not allow duplicate values"
   ]
  },
  {
   "cell_type": "markdown",
   "id": "4b354d03",
   "metadata": {},
   "source": [
    "# set operation in python: union, intersection, difference"
   ]
  },
  {
   "cell_type": "code",
   "execution_count": 19,
   "id": "6e9d4251",
   "metadata": {},
   "outputs": [
    {
     "data": {
      "text/plain": [
       "{'apple'}"
      ]
     },
     "execution_count": 19,
     "metadata": {},
     "output_type": "execute_result"
    }
   ],
   "source": [
    "A = {\"apple\",\"banana\",\"cherry\"}\n",
    "B = {\"google\",\"bing\",\"apple\"}\n",
    "A.intersection(B)"
   ]
  },
  {
   "cell_type": "code",
   "execution_count": 20,
   "id": "0e9ed596",
   "metadata": {},
   "outputs": [
    {
     "data": {
      "text/plain": [
       "{'apple', 'banana', 'bing', 'cherry', 'google'}"
      ]
     },
     "execution_count": 20,
     "metadata": {},
     "output_type": "execute_result"
    }
   ],
   "source": [
    "A.union(B)"
   ]
  },
  {
   "cell_type": "code",
   "execution_count": 21,
   "id": "aa9670a6",
   "metadata": {},
   "outputs": [
    {
     "data": {
      "text/plain": [
       "{'apple', 'banana', 'bing', 'cherry', 'google'}"
      ]
     },
     "execution_count": 21,
     "metadata": {},
     "output_type": "execute_result"
    }
   ],
   "source": [
    "B.union(A)"
   ]
  },
  {
   "cell_type": "code",
   "execution_count": 22,
   "id": "e5c1fbcb",
   "metadata": {},
   "outputs": [
    {
     "data": {
      "text/plain": [
       "{'banana', 'cherry'}"
      ]
     },
     "execution_count": 22,
     "metadata": {},
     "output_type": "execute_result"
    }
   ],
   "source": [
    "A.difference(B)"
   ]
  },
  {
   "cell_type": "code",
   "execution_count": 23,
   "id": "21e683be",
   "metadata": {},
   "outputs": [
    {
     "data": {
      "text/plain": [
       "{'bing', 'google'}"
      ]
     },
     "execution_count": 23,
     "metadata": {},
     "output_type": "execute_result"
    }
   ],
   "source": [
    "B.difference(A)"
   ]
  },
  {
   "cell_type": "markdown",
   "id": "28c438c3",
   "metadata": {},
   "source": [
    "# loops in set"
   ]
  },
  {
   "cell_type": "code",
   "execution_count": 24,
   "id": "5d749b11",
   "metadata": {},
   "outputs": [
    {
     "name": "stdout",
     "output_type": "stream",
     "text": [
      "dharan\n",
      "pokhara\n",
      "lalitpur\n",
      "kavre\n",
      "bhaktapur\n",
      "Kathmandu\n"
     ]
    }
   ],
   "source": [
    "cities = {\"Kathmandu\",\"lalitpur\",\"pokhara\",\"bhaktapur\",\"kavre\",\"dharan\"}\n",
    "for city in cities:\n",
    "    print(city)"
   ]
  },
  {
   "cell_type": "code",
   "execution_count": 27,
   "id": "417def3f",
   "metadata": {},
   "outputs": [
    {
     "data": {
      "text/plain": [
       "True"
      ]
     },
     "execution_count": 27,
     "metadata": {},
     "output_type": "execute_result"
    }
   ],
   "source": [
    "\"dharan\" in cities"
   ]
  },
  {
   "cell_type": "code",
   "execution_count": 28,
   "id": "1fe6eac5",
   "metadata": {},
   "outputs": [
    {
     "data": {
      "text/plain": [
       "True"
      ]
     },
     "execution_count": 28,
     "metadata": {},
     "output_type": "execute_result"
    }
   ],
   "source": [
    "\"biratnagar\" not in cities"
   ]
  },
  {
   "cell_type": "code",
   "execution_count": null,
   "id": "e34fa8e4",
   "metadata": {},
   "outputs": [],
   "source": []
  }
 ],
 "metadata": {
  "kernelspec": {
   "display_name": "Python 3 (ipykernel)",
   "language": "python",
   "name": "python3"
  },
  "language_info": {
   "codemirror_mode": {
    "name": "ipython",
    "version": 3
   },
   "file_extension": ".py",
   "mimetype": "text/x-python",
   "name": "python",
   "nbconvert_exporter": "python",
   "pygments_lexer": "ipython3",
   "version": "3.8.10"
  }
 },
 "nbformat": 4,
 "nbformat_minor": 5
}
