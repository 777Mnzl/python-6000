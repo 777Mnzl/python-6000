{
 "cells": [
  {
   "cell_type": "code",
   "execution_count": 1,
   "id": "8fb5d8c1",
   "metadata": {},
   "outputs": [],
   "source": [
    "name = \"M@nzil\""
   ]
  },
  {
   "cell_type": "code",
   "execution_count": 2,
   "id": "d63d8e07",
   "metadata": {},
   "outputs": [
    {
     "data": {
      "text/plain": [
       "'M@nzil'"
      ]
     },
     "execution_count": 2,
     "metadata": {},
     "output_type": "execute_result"
    }
   ],
   "source": [
    "name"
   ]
  },
  {
   "cell_type": "code",
   "execution_count": 3,
   "id": "6604c8e5",
   "metadata": {},
   "outputs": [
    {
     "ename": "NameError",
     "evalue": "name 'a' is not defined",
     "output_type": "error",
     "traceback": [
      "\u001b[1;31m---------------------------------------------------------------------------\u001b[0m",
      "\u001b[1;31mNameError\u001b[0m                                 Traceback (most recent call last)",
      "Cell \u001b[1;32mIn[3], line 1\u001b[0m\n\u001b[1;32m----> 1\u001b[0m name[\u001b[38;5;241m1\u001b[39m]\u001b[38;5;241m=\u001b[39m\u001b[43ma\u001b[49m \u001b[38;5;66;03m#string is a immutable datatype\u001b[39;00m\n",
      "\u001b[1;31mNameError\u001b[0m: name 'a' is not defined"
     ]
    }
   ],
   "source": [
    "name[1]=a #string is a immutable datatype"
   ]
  },
  {
   "cell_type": "code",
   "execution_count": 4,
   "id": "2c21fca7",
   "metadata": {},
   "outputs": [
    {
     "data": {
      "text/plain": [
       "'Manzil'"
      ]
     },
     "execution_count": 4,
     "metadata": {},
     "output_type": "execute_result"
    }
   ],
   "source": [
    "name.replace(\"@\" , \"a\")"
   ]
  },
  {
   "cell_type": "code",
   "execution_count": 5,
   "id": "442a4e83",
   "metadata": {},
   "outputs": [],
   "source": [
    "name = name.replace(\"@\" , \"a\")"
   ]
  },
  {
   "cell_type": "code",
   "execution_count": 6,
   "id": "1a4841ba",
   "metadata": {},
   "outputs": [
    {
     "data": {
      "text/plain": [
       "'Manzil'"
      ]
     },
     "execution_count": 6,
     "metadata": {},
     "output_type": "execute_result"
    }
   ],
   "source": [
    "name"
   ]
  },
  {
   "cell_type": "code",
   "execution_count": 7,
   "id": "9860a449",
   "metadata": {},
   "outputs": [
    {
     "data": {
      "text/plain": [
       "'Fantastic New Year'"
      ]
     },
     "execution_count": 7,
     "metadata": {},
     "output_type": "execute_result"
    }
   ],
   "source": [
    "\"Happy New Year\".replace(\"Happy\",\"Fantastic\")"
   ]
  },
  {
   "cell_type": "markdown",
   "id": "59fbc52d",
   "metadata": {},
   "source": [
    "# upper() and lower()"
   ]
  },
  {
   "cell_type": "code",
   "execution_count": 8,
   "id": "fa2f3699",
   "metadata": {},
   "outputs": [
    {
     "data": {
      "text/plain": [
       "'HAPPY HOLI'"
      ]
     },
     "execution_count": 8,
     "metadata": {},
     "output_type": "execute_result"
    }
   ],
   "source": [
    "msg =\"happy holi\"\n",
    "msg.upper()"
   ]
  },
  {
   "cell_type": "code",
   "execution_count": 9,
   "id": "2db00dc6",
   "metadata": {},
   "outputs": [
    {
     "data": {
      "text/plain": [
       "'manzil'"
      ]
     },
     "execution_count": 9,
     "metadata": {},
     "output_type": "execute_result"
    }
   ],
   "source": [
    "msg = \"MANZIL\"\n",
    "msg.lower()"
   ]
  },
  {
   "cell_type": "markdown",
   "id": "52cb2824",
   "metadata": {},
   "source": [
    "# split()"
   ]
  },
  {
   "cell_type": "code",
   "execution_count": 10,
   "id": "da87f506",
   "metadata": {},
   "outputs": [],
   "source": [
    "review = \"i love to eat food\"\n",
    "words = review.split(\" \")\n"
   ]
  },
  {
   "cell_type": "code",
   "execution_count": 11,
   "id": "69f7bd51",
   "metadata": {},
   "outputs": [
    {
     "data": {
      "text/plain": [
       "['i', 'love', 'to', 'eat', 'food']"
      ]
     },
     "execution_count": 11,
     "metadata": {},
     "output_type": "execute_result"
    }
   ],
   "source": [
    "words"
   ]
  },
  {
   "cell_type": "code",
   "execution_count": 12,
   "id": "132120b8",
   "metadata": {},
   "outputs": [
    {
     "data": {
      "text/plain": [
       "list"
      ]
     },
     "execution_count": 12,
     "metadata": {},
     "output_type": "execute_result"
    }
   ],
   "source": [
    "type(words)"
   ]
  },
  {
   "cell_type": "code",
   "execution_count": 13,
   "id": "a3e781ec",
   "metadata": {},
   "outputs": [
    {
     "data": {
      "text/plain": [
       "str"
      ]
     },
     "execution_count": 13,
     "metadata": {},
     "output_type": "execute_result"
    }
   ],
   "source": [
    "type(review)"
   ]
  },
  {
   "cell_type": "markdown",
   "id": "b86a0504",
   "metadata": {},
   "source": [
    "# Strip, lstrip(), rstrip()"
   ]
  },
  {
   "cell_type": "code",
   "execution_count": 14,
   "id": "966c0e3f",
   "metadata": {},
   "outputs": [
    {
     "data": {
      "text/plain": [
       "'junk foods'"
      ]
     },
     "execution_count": 14,
     "metadata": {},
     "output_type": "execute_result"
    }
   ],
   "source": [
    "review =\"     junk foods\"\n",
    "review.lstrip()"
   ]
  },
  {
   "cell_type": "code",
   "execution_count": 15,
   "id": "4f3b809b",
   "metadata": {},
   "outputs": [
    {
     "data": {
      "text/plain": [
       "'junk food'"
      ]
     },
     "execution_count": 15,
     "metadata": {},
     "output_type": "execute_result"
    }
   ],
   "source": [
    "review = \"junk food       \"\n",
    "review.rstrip()"
   ]
  }
 ],
 "metadata": {
  "kernelspec": {
   "display_name": "Python 3 (ipykernel)",
   "language": "python",
   "name": "python3"
  },
  "language_info": {
   "codemirror_mode": {
    "name": "ipython",
    "version": 3
   },
   "file_extension": ".py",
   "mimetype": "text/x-python",
   "name": "python",
   "nbconvert_exporter": "python",
   "pygments_lexer": "ipython3",
   "version": "3.8.10"
  }
 },
 "nbformat": 4,
 "nbformat_minor": 5
}
