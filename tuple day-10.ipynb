{
 "cells": [
  {
   "cell_type": "markdown",
   "id": "66e26d62",
   "metadata": {},
   "source": [
    "# Tuple\n",
    "* collection of item under one variable name\n",
    "* immutable\n",
    "* allows duplicate\n",
    "* indexxed and ordered\n",
    "* round bracket, item seperated by comma"
   ]
  },
  {
   "cell_type": "code",
   "execution_count": 1,
   "id": "39221fb2",
   "metadata": {},
   "outputs": [
    {
     "data": {
      "text/plain": [
       "tuple"
      ]
     },
     "execution_count": 1,
     "metadata": {},
     "output_type": "execute_result"
    }
   ],
   "source": [
    "cars = (\"audi\",\"mercedes\",\"bmw\")\n",
    "type(cars)"
   ]
  },
  {
   "cell_type": "code",
   "execution_count": 2,
   "id": "ea412f1a",
   "metadata": {},
   "outputs": [
    {
     "data": {
      "text/plain": [
       "('audi', 'mercedes', 'bmw')"
      ]
     },
     "execution_count": 2,
     "metadata": {},
     "output_type": "execute_result"
    }
   ],
   "source": [
    "cars"
   ]
  },
  {
   "cell_type": "markdown",
   "id": "d98d0af1",
   "metadata": {},
   "source": [
    "# indexing and slicing"
   ]
  },
  {
   "cell_type": "code",
   "execution_count": 3,
   "id": "125d988a",
   "metadata": {},
   "outputs": [
    {
     "data": {
      "text/plain": [
       "('audi', 'mercedes', 'bmw')"
      ]
     },
     "execution_count": 3,
     "metadata": {},
     "output_type": "execute_result"
    }
   ],
   "source": [
    "cars [:5]"
   ]
  },
  {
   "cell_type": "code",
   "execution_count": 4,
   "id": "9cc59ae5",
   "metadata": {},
   "outputs": [
    {
     "data": {
      "text/plain": [
       "('audi', 'mercedes')"
      ]
     },
     "execution_count": 4,
     "metadata": {},
     "output_type": "execute_result"
    }
   ],
   "source": [
    "cars[:2]"
   ]
  },
  {
   "cell_type": "markdown",
   "id": "72c40e34",
   "metadata": {},
   "source": [
    "# loops in tuple"
   ]
  },
  {
   "cell_type": "code",
   "execution_count": 9,
   "id": "8e32cbe4",
   "metadata": {},
   "outputs": [
    {
     "name": "stdout",
     "output_type": "stream",
     "text": [
      "Mercedes\n"
     ]
    }
   ],
   "source": [
    "cars = (\"Tesla\",\"Audi\",\"Bmw\",\"Mercedes\")\n",
    "for index in range(len(cars)):\n",
    "    car = cars[index]\n",
    "print(car)"
   ]
  },
  {
   "cell_type": "code",
   "execution_count": 10,
   "id": "6fa99e6d",
   "metadata": {},
   "outputs": [
    {
     "name": "stdout",
     "output_type": "stream",
     "text": [
      "Tesla\n",
      "Audi\n",
      "Bmw\n",
      "Mercedes\n"
     ]
    }
   ],
   "source": [
    "for item in cars:\n",
    "    print(item)"
   ]
  },
  {
   "cell_type": "markdown",
   "id": "913ef0e6",
   "metadata": {},
   "source": [
    "# Tuples are immutable"
   ]
  },
  {
   "cell_type": "code",
   "execution_count": 11,
   "id": "7d51ffd7",
   "metadata": {},
   "outputs": [
    {
     "data": {
      "text/plain": [
       "'Tesla'"
      ]
     },
     "execution_count": 11,
     "metadata": {},
     "output_type": "execute_result"
    }
   ],
   "source": [
    "cars = (\"Tesla\",\"Audi\",\"Bmw\",\"Mercedes\")\n",
    "cars[0]"
   ]
  },
  {
   "cell_type": "code",
   "execution_count": 12,
   "id": "bdf3769b",
   "metadata": {},
   "outputs": [
    {
     "ename": "TypeError",
     "evalue": "'tuple' object does not support item assignment",
     "output_type": "error",
     "traceback": [
      "\u001b[1;31m---------------------------------------------------------------------------\u001b[0m",
      "\u001b[1;31mTypeError\u001b[0m                                 Traceback (most recent call last)",
      "Cell \u001b[1;32mIn[12], line 1\u001b[0m\n\u001b[1;32m----> 1\u001b[0m \u001b[43mcars\u001b[49m\u001b[43m[\u001b[49m\u001b[38;5;241;43m0\u001b[39;49m\u001b[43m]\u001b[49m\u001b[38;5;241m=\u001b[39m\u001b[38;5;124m\"\u001b[39m\u001b[38;5;124mferrari\u001b[39m\u001b[38;5;124m\"\u001b[39m\n",
      "\u001b[1;31mTypeError\u001b[0m: 'tuple' object does not support item assignment"
     ]
    }
   ],
   "source": [
    "cars[0]=\"ferrari\""
   ]
  },
  {
   "cell_type": "markdown",
   "id": "9518d672",
   "metadata": {},
   "source": [
    "# list method cannot be used in tuples"
   ]
  },
  {
   "cell_type": "code",
   "execution_count": 4,
   "id": "173d1bb7",
   "metadata": {},
   "outputs": [],
   "source": [
    "cars = [\"audi\",\"mercedes\",\"BMW\"]"
   ]
  },
  {
   "cell_type": "code",
   "execution_count": 5,
   "id": "043c4a77",
   "metadata": {},
   "outputs": [],
   "source": [
    "cars.append(\"tesla\")"
   ]
  },
  {
   "cell_type": "code",
   "execution_count": 6,
   "id": "19ac4f39",
   "metadata": {},
   "outputs": [
    {
     "data": {
      "text/plain": [
       "['audi', 'mercedes', 'BMW', 'tesla']"
      ]
     },
     "execution_count": 6,
     "metadata": {},
     "output_type": "execute_result"
    }
   ],
   "source": [
    "cars"
   ]
  },
  {
   "cell_type": "markdown",
   "id": "46020a23",
   "metadata": {},
   "source": [
    "# type casting in tuples"
   ]
  },
  {
   "cell_type": "code",
   "execution_count": 7,
   "id": "4d4fdf60",
   "metadata": {},
   "outputs": [
    {
     "data": {
      "text/plain": [
       "2057504320064"
      ]
     },
     "execution_count": 7,
     "metadata": {},
     "output_type": "execute_result"
    }
   ],
   "source": [
    "cars = [\"audi\",\"mercedes\",\"BMW\"]\n",
    "id(cars)"
   ]
  },
  {
   "cell_type": "code",
   "execution_count": 8,
   "id": "837614a4",
   "metadata": {},
   "outputs": [],
   "source": [
    "cars=list(cars) #list ma convert"
   ]
  },
  {
   "cell_type": "code",
   "execution_count": 9,
   "id": "24327c7f",
   "metadata": {},
   "outputs": [
    {
     "data": {
      "text/plain": [
       "['audi', 'mercedes', 'BMW']"
      ]
     },
     "execution_count": 9,
     "metadata": {},
     "output_type": "execute_result"
    }
   ],
   "source": [
    "cars"
   ]
  },
  {
   "cell_type": "code",
   "execution_count": 10,
   "id": "9b207d22",
   "metadata": {},
   "outputs": [
    {
     "data": {
      "text/plain": [
       "2057504169280"
      ]
     },
     "execution_count": 10,
     "metadata": {},
     "output_type": "execute_result"
    }
   ],
   "source": [
    "id(cars)"
   ]
  },
  {
   "cell_type": "code",
   "execution_count": 11,
   "id": "60d5e77c",
   "metadata": {},
   "outputs": [],
   "source": [
    "cars.append(\"bentley\")"
   ]
  },
  {
   "cell_type": "code",
   "execution_count": 12,
   "id": "d81bd1aa",
   "metadata": {},
   "outputs": [
    {
     "data": {
      "text/plain": [
       "['audi', 'mercedes', 'BMW', 'bentley']"
      ]
     },
     "execution_count": 12,
     "metadata": {},
     "output_type": "execute_result"
    }
   ],
   "source": [
    "cars "
   ]
  },
  {
   "cell_type": "code",
   "execution_count": 17,
   "id": "6ff4f90a",
   "metadata": {},
   "outputs": [],
   "source": [
    "cars = tuple(cars) #list lai tuple ma convert"
   ]
  },
  {
   "cell_type": "code",
   "execution_count": 14,
   "id": "34db0225",
   "metadata": {},
   "outputs": [
    {
     "data": {
      "text/plain": [
       "('audi', 'mercedes', 'BMW', 'bentley')"
      ]
     },
     "execution_count": 14,
     "metadata": {},
     "output_type": "execute_result"
    }
   ],
   "source": [
    "cars"
   ]
  },
  {
   "cell_type": "code",
   "execution_count": 16,
   "id": "1421bf84",
   "metadata": {},
   "outputs": [
    {
     "data": {
      "text/plain": [
       "tuple"
      ]
     },
     "execution_count": 16,
     "metadata": {},
     "output_type": "execute_result"
    }
   ],
   "source": [
    "type(cars)"
   ]
  },
  {
   "cell_type": "markdown",
   "id": "25f85ff6",
   "metadata": {},
   "source": [
    "# loops in tuple"
   ]
  },
  {
   "cell_type": "code",
   "execution_count": 26,
   "id": "b2ac1b4a",
   "metadata": {},
   "outputs": [
    {
     "data": {
      "text/plain": [
       "list"
      ]
     },
     "execution_count": 26,
     "metadata": {},
     "output_type": "execute_result"
    }
   ],
   "source": [
    "data = [22,33,1,4,77,50,10] #simple way (not tuple way )\n",
    "type(data)"
   ]
  },
  {
   "cell_type": "code",
   "execution_count": 29,
   "id": "607d85f1",
   "metadata": {},
   "outputs": [],
   "source": [
    "total = 0\n",
    "for num in data:\n",
    "    total = total + num"
   ]
  },
  {
   "cell_type": "code",
   "execution_count": 33,
   "id": "ae6abca9",
   "metadata": {},
   "outputs": [],
   "source": [
    "mean = total/len(data)"
   ]
  },
  {
   "cell_type": "code",
   "execution_count": 34,
   "id": "c54e40c3",
   "metadata": {},
   "outputs": [
    {
     "data": {
      "text/plain": [
       "28.142857142857142"
      ]
     },
     "execution_count": 34,
     "metadata": {},
     "output_type": "execute_result"
    }
   ],
   "source": [
    "mean"
   ]
  },
  {
   "cell_type": "code",
   "execution_count": 35,
   "id": "9a64b4f0",
   "metadata": {},
   "outputs": [],
   "source": [
    "# alterante way"
   ]
  },
  {
   "cell_type": "code",
   "execution_count": 36,
   "id": "a3be2026",
   "metadata": {},
   "outputs": [
    {
     "name": "stdout",
     "output_type": "stream",
     "text": [
      "28.142857142857142\n"
     ]
    }
   ],
   "source": [
    "data = [22,33,1,4,77,50,10]\n",
    "total = 0\n",
    "for item in data:\n",
    "    total = total + item\n",
    "mean = total/len(data)\n",
    "print(mean)"
   ]
  },
  {
   "cell_type": "code",
   "execution_count": 38,
   "id": "a59bfbe6",
   "metadata": {},
   "outputs": [
    {
     "data": {
      "text/plain": [
       "28.142857142857142"
      ]
     },
     "execution_count": 38,
     "metadata": {},
     "output_type": "execute_result"
    }
   ],
   "source": [
    "sum(data)/len(data) #sum syntax use garera"
   ]
  },
  {
   "cell_type": "code",
   "execution_count": null,
   "id": "35fd91c9",
   "metadata": {},
   "outputs": [],
   "source": []
  }
 ],
 "metadata": {
  "kernelspec": {
   "display_name": "Python 3 (ipykernel)",
   "language": "python",
   "name": "python3"
  },
  "language_info": {
   "codemirror_mode": {
    "name": "ipython",
    "version": 3
   },
   "file_extension": ".py",
   "mimetype": "text/x-python",
   "name": "python",
   "nbconvert_exporter": "python",
   "pygments_lexer": "ipython3",
   "version": "3.8.10"
  }
 },
 "nbformat": 4,
 "nbformat_minor": 5
}
