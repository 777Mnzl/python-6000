{
 "cells": [
  {
   "cell_type": "code",
   "execution_count": 1,
   "id": "d83616fa",
   "metadata": {},
   "outputs": [],
   "source": [
    "name = \"manzil\"\n"
   ]
  },
  {
   "cell_type": "code",
   "execution_count": 2,
   "id": "66267962",
   "metadata": {},
   "outputs": [
    {
     "name": "stdout",
     "output_type": "stream",
     "text": [
      "manzil\n"
     ]
    }
   ],
   "source": [
    "print(name)"
   ]
  },
  {
   "cell_type": "code",
   "execution_count": 3,
   "id": "c17a9d0e",
   "metadata": {},
   "outputs": [],
   "source": [
    "name = \"manzil2\"\n"
   ]
  },
  {
   "cell_type": "code",
   "execution_count": 4,
   "id": "ae6c1f44",
   "metadata": {},
   "outputs": [
    {
     "name": "stdout",
     "output_type": "stream",
     "text": [
      "manzil2\n"
     ]
    }
   ],
   "source": [
    "print(name)"
   ]
  },
  {
   "cell_type": "code",
   "execution_count": 6,
   "id": "2d604f40",
   "metadata": {},
   "outputs": [
    {
     "name": "stdout",
     "output_type": "stream",
     "text": [
      "60.5\n",
      "61.0\n"
     ]
    }
   ],
   "source": [
    "a = 60.5\n",
    "print (a)\n",
    "\n",
    "a = a +0.5\n",
    "print(a)"
   ]
  },
  {
   "cell_type": "code",
   "execution_count": null,
   "id": "ea9bf026",
   "metadata": {},
   "outputs": [],
   "source": []
  }
 ],
 "metadata": {
  "kernelspec": {
   "display_name": "Python 3 (ipykernel)",
   "language": "python",
   "name": "python3"
  },
  "language_info": {
   "codemirror_mode": {
    "name": "ipython",
    "version": 3
   },
   "file_extension": ".py",
   "mimetype": "text/x-python",
   "name": "python",
   "nbconvert_exporter": "python",
   "pygments_lexer": "ipython3",
   "version": "3.8.10"
  }
 },
 "nbformat": 4,
 "nbformat_minor": 5
}
