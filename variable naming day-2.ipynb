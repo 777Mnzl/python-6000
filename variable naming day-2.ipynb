{
 "cells": [
  {
   "cell_type": "code",
   "execution_count": 2,
   "id": "8b05c972",
   "metadata": {},
   "outputs": [],
   "source": [
    "a = 20"
   ]
  },
  {
   "cell_type": "code",
   "execution_count": 3,
   "id": "152200c7",
   "metadata": {},
   "outputs": [
    {
     "ename": "SyntaxError",
     "evalue": "cannot assign to literal (3955223923.py, line 1)",
     "output_type": "error",
     "traceback": [
      "\u001b[1;36m  Cell \u001b[1;32mIn[3], line 1\u001b[1;36m\u001b[0m\n\u001b[1;33m    20 = a\u001b[0m\n\u001b[1;37m    ^\u001b[0m\n\u001b[1;31mSyntaxError\u001b[0m\u001b[1;31m:\u001b[0m cannot assign to literal\n"
     ]
    }
   ],
   "source": [
    "20 = a"
   ]
  },
  {
   "cell_type": "markdown",
   "id": "7aeb3af4",
   "metadata": {},
   "source": [
    "#this is not the way to use variable name"
   ]
  },
  {
   "cell_type": "markdown",
   "id": "b3394870",
   "metadata": {},
   "source": [
    "#can i provide any name to object to store the value? - NO"
   ]
  },
  {
   "cell_type": "markdown",
   "id": "7d8482c3",
   "metadata": {},
   "source": [
    "##Python Keywords cannot be variable names\n",
    "\n",
    "keywords are reserved words in python that helps us to write python syntax code. we cannot use keywords as variable names."
   ]
  },
  {
   "cell_type": "code",
   "execution_count": 4,
   "id": "f997d015",
   "metadata": {},
   "outputs": [
    {
     "ename": "SyntaxError",
     "evalue": "cannot assign to False (1160946929.py, line 1)",
     "output_type": "error",
     "traceback": [
      "\u001b[1;36m  Cell \u001b[1;32mIn[4], line 1\u001b[1;36m\u001b[0m\n\u001b[1;33m    False = 0\u001b[0m\n\u001b[1;37m    ^\u001b[0m\n\u001b[1;31mSyntaxError\u001b[0m\u001b[1;31m:\u001b[0m cannot assign to False\n"
     ]
    }
   ],
   "source": [
    "False = 0"
   ]
  },
  {
   "cell_type": "code",
   "execution_count": 5,
   "id": "184fa916",
   "metadata": {},
   "outputs": [
    {
     "ename": "SyntaxError",
     "evalue": "invalid syntax (1953189591.py, line 1)",
     "output_type": "error",
     "traceback": [
      "\u001b[1;36m  Cell \u001b[1;32mIn[5], line 1\u001b[1;36m\u001b[0m\n\u001b[1;33m    global = 0\u001b[0m\n\u001b[1;37m           ^\u001b[0m\n\u001b[1;31mSyntaxError\u001b[0m\u001b[1;31m:\u001b[0m invalid syntax\n"
     ]
    }
   ],
   "source": [
    "global = 0"
   ]
  },
  {
   "cell_type": "markdown",
   "id": "d65aa59d",
   "metadata": {},
   "source": [
    "#python keywords are case sensitive"
   ]
  },
  {
   "cell_type": "markdown",
   "id": "2d0eca62",
   "metadata": {},
   "source": [
    " # HEADING 1 (BIGGEST)"
   ]
  },
  {
   "cell_type": "markdown",
   "id": "c39e4df2",
   "metadata": {},
   "source": [
    "## HEADING 2 (A BIT SMALLER THAN HEADING 1)\n",
    "to use this ##"
   ]
  },
  {
   "cell_type": "code",
   "execution_count": 7,
   "id": "60000a1b",
   "metadata": {},
   "outputs": [
    {
     "ename": "SyntaxError",
     "evalue": "invalid syntax (1344140719.py, line 1)",
     "output_type": "error",
     "traceback": [
      "\u001b[1;36m  Cell \u001b[1;32mIn[7], line 1\u001b[1;36m\u001b[0m\n\u001b[1;33m    NAMe$ =\"name\"\u001b[0m\n\u001b[1;37m        ^\u001b[0m\n\u001b[1;31mSyntaxError\u001b[0m\u001b[1;31m:\u001b[0m invalid syntax\n"
     ]
    }
   ],
   "source": [
    "NAMe$ =\"name\""
   ]
  },
  {
   "cell_type": "markdown",
   "id": "e81ac4c6",
   "metadata": {},
   "source": [
    "#special keywords cannot be used in variable names "
   ]
  },
  {
   "cell_type": "markdown",
   "id": "2b2bc8a0",
   "metadata": {},
   "source": [
    "#numbers are alloweded only after characters "
   ]
  },
  {
   "cell_type": "code",
   "execution_count": 10,
   "id": "32c0250c",
   "metadata": {},
   "outputs": [
    {
     "ename": "SyntaxError",
     "evalue": "invalid syntax (3404966248.py, line 1)",
     "output_type": "error",
     "traceback": [
      "\u001b[1;36m  Cell \u001b[1;32mIn[10], line 1\u001b[1;36m\u001b[0m\n\u001b[1;33m    1name = \"manzil\"\u001b[0m\n\u001b[1;37m     ^\u001b[0m\n\u001b[1;31mSyntaxError\u001b[0m\u001b[1;31m:\u001b[0m invalid syntax\n"
     ]
    }
   ],
   "source": [
    "1name = \"manzil\""
   ]
  },
  {
   "cell_type": "code",
   "execution_count": 12,
   "id": "d3b265d1",
   "metadata": {},
   "outputs": [
    {
     "name": "stdout",
     "output_type": "stream",
     "text": [
      "manzil\n"
     ]
    }
   ],
   "source": [
    "name1 = \"manzil\"\n",
    "print(name1)"
   ]
  },
  {
   "cell_type": "code",
   "execution_count": 19,
   "id": "6253d5ab",
   "metadata": {},
   "outputs": [
    {
     "data": {
      "text/plain": [
       "int"
      ]
     },
     "execution_count": 19,
     "metadata": {},
     "output_type": "execute_result"
    }
   ],
   "source": [
    "num1 = 21\n",
    "type(num1)"
   ]
  },
  {
   "cell_type": "code",
   "execution_count": 20,
   "id": "ebd8c02d",
   "metadata": {},
   "outputs": [
    {
     "data": {
      "text/plain": [
       "str"
      ]
     },
     "execution_count": 20,
     "metadata": {},
     "output_type": "execute_result"
    }
   ],
   "source": [
    "name = \"manzil\"\n",
    "type(name)"
   ]
  },
  {
   "cell_type": "markdown",
   "id": "bc5b5ae9",
   "metadata": {},
   "source": [
    "#python is case sensitive language"
   ]
  },
  {
   "cell_type": "code",
   "execution_count": 21,
   "id": "579cef64",
   "metadata": {},
   "outputs": [],
   "source": [
    "A = \"Apple\""
   ]
  },
  {
   "cell_type": "code",
   "execution_count": 22,
   "id": "c8763d32",
   "metadata": {},
   "outputs": [],
   "source": [
    "a = \"ant\""
   ]
  },
  {
   "cell_type": "code",
   "execution_count": 23,
   "id": "06e34195",
   "metadata": {},
   "outputs": [
    {
     "data": {
      "text/plain": [
       "'Apple'"
      ]
     },
     "execution_count": 23,
     "metadata": {},
     "output_type": "execute_result"
    }
   ],
   "source": [
    "A"
   ]
  },
  {
   "cell_type": "code",
   "execution_count": 24,
   "id": "201c9111",
   "metadata": {},
   "outputs": [
    {
     "data": {
      "text/plain": [
       "'ant'"
      ]
     },
     "execution_count": 24,
     "metadata": {},
     "output_type": "execute_result"
    }
   ],
   "source": [
    "a"
   ]
  },
  {
   "cell_type": "markdown",
   "id": "a2518c22",
   "metadata": {},
   "source": [
    "# Format() and f string"
   ]
  },
  {
   "cell_type": "code",
   "execution_count": 25,
   "id": "59b617e9",
   "metadata": {},
   "outputs": [
    {
     "name": "stdout",
     "output_type": "stream",
     "text": [
      "the first num is 50\n"
     ]
    }
   ],
   "source": [
    "first_num = 50\n",
    "print(f\"the first num is {first_num}\")"
   ]
  },
  {
   "cell_type": "code",
   "execution_count": 27,
   "id": "dd45c404",
   "metadata": {},
   "outputs": [
    {
     "name": "stdout",
     "output_type": "stream",
     "text": [
      "The first number is 50\n"
     ]
    }
   ],
   "source": [
    "first_num = 50\n",
    "print(\"The first number is {}\".format(first_num))"
   ]
  },
  {
   "cell_type": "code",
   "execution_count": 31,
   "id": "052cfc3b",
   "metadata": {},
   "outputs": [
    {
     "name": "stdout",
     "output_type": "stream",
     "text": [
      "the num are 12 and 44 and the total is 56\n"
     ]
    }
   ],
   "source": [
    "a = 12\n",
    "b = 44\n",
    "total = a + b\n",
    "print(f\"the num are {a} and {b} and the total is {total}\")"
   ]
  },
  {
   "cell_type": "code",
   "execution_count": 1,
   "id": "dbc341b9",
   "metadata": {},
   "outputs": [
    {
     "name": "stdout",
     "output_type": "stream",
     "text": [
      "so your name is manzil\n"
     ]
    }
   ],
   "source": [
    "name = \"manzil\"\n",
    "print(f\"so your name is {name}\")"
   ]
  },
  {
   "cell_type": "code",
   "execution_count": 2,
   "id": "cfa8fd74",
   "metadata": {},
   "outputs": [
    {
     "name": "stdout",
     "output_type": "stream",
     "text": [
      "what is your name?manzil\n",
      "so your name is manzil\n"
     ]
    }
   ],
   "source": [
    "name = input(\"what is your name?\")\n",
    "print(f\"so your name is {name}\")"
   ]
  },
  {
   "cell_type": "code",
   "execution_count": 6,
   "id": "888f295c",
   "metadata": {},
   "outputs": [
    {
     "name": "stdout",
     "output_type": "stream",
     "text": [
      "whats your name?47\n",
      "so your name is 47\n"
     ]
    }
   ],
   "source": [
    "name = input(\"whats your name?\")\n",
    "print(\"so your name is \" + name)"
   ]
  },
  {
   "cell_type": "code",
   "execution_count": null,
   "id": "d7784498",
   "metadata": {},
   "outputs": [],
   "source": []
  }
 ],
 "metadata": {
  "kernelspec": {
   "display_name": "Python 3 (ipykernel)",
   "language": "python",
   "name": "python3"
  },
  "language_info": {
   "codemirror_mode": {
    "name": "ipython",
    "version": 3
   },
   "file_extension": ".py",
   "mimetype": "text/x-python",
   "name": "python",
   "nbconvert_exporter": "python",
   "pygments_lexer": "ipython3",
   "version": "3.8.10"
  }
 },
 "nbformat": 4,
 "nbformat_minor": 5
}
